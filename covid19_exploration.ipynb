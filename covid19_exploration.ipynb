{
 "cells": [
  {
   "cell_type": "markdown",
   "metadata": {},
   "source": [
    "# Visualizing COVID-19 cases"
   ]
  },
  {
   "cell_type": "code",
   "execution_count": 1,
   "metadata": {},
   "outputs": [],
   "source": [
    "import altair as alt\n",
    "import pandas as pd\n",
    "import io\n",
    "import requests\n",
    "from altair import datum\n",
    "import numpy as np"
   ]
  },
  {
   "cell_type": "code",
   "execution_count": 2,
   "metadata": {},
   "outputs": [
    {
     "data": {
      "text/plain": [
       "ThemeRegistry.enable('standardTheme')"
      ]
     },
     "execution_count": 2,
     "metadata": {},
     "output_type": "execute_result"
    }
   ],
   "source": [
    "from altairThemes import standardTheme as st\n",
    "alt.themes.register('standardTheme', st.standardTheme)\n",
    "alt.themes.enable('standardTheme')"
   ]
  },
  {
   "cell_type": "markdown",
   "metadata": {},
   "source": [
    "## Data Transformation"
   ]
  },
  {
   "cell_type": "code",
   "execution_count": 3,
   "metadata": {},
   "outputs": [],
   "source": [
    "def case_counts(url):\n",
    "    s=requests.get(url).content\n",
    "    cases=pd.read_csv(io.StringIO(s.decode('utf-8')))\\\n",
    "        .drop(['Province/State', 'Lat', 'Long'], axis=1)\\\n",
    "        .groupby(['Country/Region']).sum()\\\n",
    "        .T.reset_index()\n",
    "    \n",
    "    cases['index'] = pd.to_datetime(cases['index'])\n",
    "    cases = cases.melt(id_vars=['index'])\n",
    "    cases.columns = ['date', 'country', 'value']\n",
    "    \n",
    "    return cases"
   ]
  },
  {
   "cell_type": "code",
   "execution_count": 4,
   "metadata": {},
   "outputs": [],
   "source": [
    "# confirmed cases:\n",
    "confirmed_url = 'https://raw.githubusercontent.com/CSSEGISandData/COVID-19/master/csse_covid_19_data/csse_covid_19_time_series/time_series_19-covid-Confirmed.csv'\n",
    "deaths_url = 'https://raw.githubusercontent.com/CSSEGISandData/COVID-19/master/csse_covid_19_data/csse_covid_19_time_series/time_series_19-covid-Deaths.csv'"
   ]
  },
  {
   "cell_type": "code",
   "execution_count": 5,
   "metadata": {},
   "outputs": [],
   "source": [
    "confirmed = case_counts(confirmed_url)\n",
    "deaths = case_counts(deaths_url)"
   ]
  },
  {
   "cell_type": "code",
   "execution_count": 6,
   "metadata": {},
   "outputs": [],
   "source": [
    "selCountries = [\n",
    "    'Germany',\n",
    "    'Italy',\n",
    "    'France',\n",
    "    'United Kingdom',\n",
    "    'US',\n",
    "    'Spain',\n",
    "    'Korea, South'\n",
    "]"
   ]
  },
  {
   "cell_type": "code",
   "execution_count": 7,
   "metadata": {},
   "outputs": [],
   "source": [
    "confirmed_sel = confirmed.loc[(confirmed.country.isin(selCountries)&(confirmed.value>=100)),:].copy()\n",
    "deaths_sel = deaths.loc[(deaths.country.isin(selCountries))&(deaths.value>0),:].copy()"
   ]
  },
  {
   "cell_type": "markdown",
   "metadata": {},
   "source": [
    "## Case count per day"
   ]
  },
  {
   "cell_type": "code",
   "execution_count": 8,
   "metadata": {},
   "outputs": [
    {
     "data": {
      "application/vnd.vegalite.v3+json": {
       "$schema": "https://vega.github.io/schema/vega-lite/v3.4.0.json",
       "config": {
        "area": {
         "fill": "#1696d2"
        },
        "axisX": {
         "domain": true,
         "domainColor": "#DEDDDD",
         "domainDashOffset": 10,
         "domainWidth": 1,
         "grid": false,
         "labelAngle": 0,
         "labelFont": "Avenir",
         "labelFontSize": 10,
         "tickColor": "#DEDDDD",
         "titleFont": "Avenir",
         "titleFontSize": 12,
         "titleFontWeight": 400,
         "titlePadding": 10
        },
        "axisY": {
         "domain": false,
         "domainDashOffset": 10,
         "grid": true,
         "gridColor": "#DEDDDD",
         "gridDash": [
          5,
          2
         ],
         "gridWidth": 1,
         "labelAngle": 0,
         "labelFont": "Avenir",
         "labelFontSize": 10,
         "titleFont": "Avenir",
         "titleFontSize": 12,
         "titleFontWeight": 400,
         "titlePadding": 10
        },
        "bar": {
         "fill": "#1696d2",
         "strokeWidth": 0
        },
        "guide-title": {
         "color": "Monospace",
         "font": "Avenir",
         "fontSize": 15
        },
        "header": {
         "titleFontSize": 12,
         "titleFontWeight": 400
        },
        "legend": {
         "labelFont": "Avenir",
         "labelFontSize": 12,
         "symbolSize": 50,
         "symbolType": "circle",
         "title": "",
         "titleFont": "Avenir",
         "titleFontSize": 12
        },
        "line": {
         "color": "#1696d2",
         "stroke": "#1696d2",
         "strokeWidth": 1
        },
        "path": {
         "stroke": "#1696d2"
        },
        "point": {
         "filled": true
        },
        "range": {
         "category": [
          "#a6cee3",
          "#1f78b4",
          "#b2df8a",
          "#33a02c",
          "#fb9a99",
          "#e31a1c",
          "#fdbf6f",
          "#ff7f00"
         ],
         "diverging": [
          "#cfe8f3",
          "#a2d4ec",
          "#73bfe2",
          "#46abdb",
          "#1696d2",
          "#12719e"
         ]
        },
        "text": {
         "align": "right",
         "color": "#1696d2",
         "font": "Avenir",
         "fontSize": 12,
         "fontWeight": 400,
         "size": 11
        },
        "title": {
         "anchor": "start",
         "color": "#4d4d4d",
         "font": "Avenir",
         "fontSize": 20,
         "fontWeight": 300,
         "lineHeight": 100,
         "offset": 30
        },
        "trail": {
         "color": "#1696d2",
         "stroke": "#1696d2"
        },
        "view": {
         "strokeWidth": 0
        }
       },
       "data": {
        "name": "data-d317266a7106c7ecae775bf5cc6e3df1"
       },
       "datasets": {
        "data-d317266a7106c7ecae775bf5cc6e3df1": [
         {
          "country": "France",
          "date": "2020-02-29T00:00:00",
          "value": 100
         },
         {
          "country": "France",
          "date": "2020-03-01T00:00:00",
          "value": 130
         },
         {
          "country": "France",
          "date": "2020-03-02T00:00:00",
          "value": 191
         },
         {
          "country": "France",
          "date": "2020-03-03T00:00:00",
          "value": 204
         },
         {
          "country": "France",
          "date": "2020-03-04T00:00:00",
          "value": 288
         },
         {
          "country": "France",
          "date": "2020-03-05T00:00:00",
          "value": 380
         },
         {
          "country": "France",
          "date": "2020-03-06T00:00:00",
          "value": 656
         },
         {
          "country": "France",
          "date": "2020-03-07T00:00:00",
          "value": 957
         },
         {
          "country": "France",
          "date": "2020-03-08T00:00:00",
          "value": 1134
         },
         {
          "country": "France",
          "date": "2020-03-09T00:00:00",
          "value": 1217
         },
         {
          "country": "France",
          "date": "2020-03-10T00:00:00",
          "value": 1792
         },
         {
          "country": "France",
          "date": "2020-03-11T00:00:00",
          "value": 2289
         },
         {
          "country": "France",
          "date": "2020-03-12T00:00:00",
          "value": 2289
         },
         {
          "country": "France",
          "date": "2020-03-13T00:00:00",
          "value": 3672
         },
         {
          "country": "France",
          "date": "2020-03-14T00:00:00",
          "value": 4480
         },
         {
          "country": "France",
          "date": "2020-03-15T00:00:00",
          "value": 4513
         },
         {
          "country": "Germany",
          "date": "2020-03-01T00:00:00",
          "value": 130
         },
         {
          "country": "Germany",
          "date": "2020-03-02T00:00:00",
          "value": 159
         },
         {
          "country": "Germany",
          "date": "2020-03-03T00:00:00",
          "value": 196
         },
         {
          "country": "Germany",
          "date": "2020-03-04T00:00:00",
          "value": 262
         },
         {
          "country": "Germany",
          "date": "2020-03-05T00:00:00",
          "value": 482
         },
         {
          "country": "Germany",
          "date": "2020-03-06T00:00:00",
          "value": 670
         },
         {
          "country": "Germany",
          "date": "2020-03-07T00:00:00",
          "value": 799
         },
         {
          "country": "Germany",
          "date": "2020-03-08T00:00:00",
          "value": 1040
         },
         {
          "country": "Germany",
          "date": "2020-03-09T00:00:00",
          "value": 1176
         },
         {
          "country": "Germany",
          "date": "2020-03-10T00:00:00",
          "value": 1457
         },
         {
          "country": "Germany",
          "date": "2020-03-11T00:00:00",
          "value": 1908
         },
         {
          "country": "Germany",
          "date": "2020-03-12T00:00:00",
          "value": 2078
         },
         {
          "country": "Germany",
          "date": "2020-03-13T00:00:00",
          "value": 3675
         },
         {
          "country": "Germany",
          "date": "2020-03-14T00:00:00",
          "value": 4585
         },
         {
          "country": "Germany",
          "date": "2020-03-15T00:00:00",
          "value": 5795
         },
         {
          "country": "Italy",
          "date": "2020-02-23T00:00:00",
          "value": 155
         },
         {
          "country": "Italy",
          "date": "2020-02-24T00:00:00",
          "value": 229
         },
         {
          "country": "Italy",
          "date": "2020-02-25T00:00:00",
          "value": 322
         },
         {
          "country": "Italy",
          "date": "2020-02-26T00:00:00",
          "value": 453
         },
         {
          "country": "Italy",
          "date": "2020-02-27T00:00:00",
          "value": 655
         },
         {
          "country": "Italy",
          "date": "2020-02-28T00:00:00",
          "value": 888
         },
         {
          "country": "Italy",
          "date": "2020-02-29T00:00:00",
          "value": 1128
         },
         {
          "country": "Italy",
          "date": "2020-03-01T00:00:00",
          "value": 1694
         },
         {
          "country": "Italy",
          "date": "2020-03-02T00:00:00",
          "value": 2036
         },
         {
          "country": "Italy",
          "date": "2020-03-03T00:00:00",
          "value": 2502
         },
         {
          "country": "Italy",
          "date": "2020-03-04T00:00:00",
          "value": 3089
         },
         {
          "country": "Italy",
          "date": "2020-03-05T00:00:00",
          "value": 3858
         },
         {
          "country": "Italy",
          "date": "2020-03-06T00:00:00",
          "value": 4636
         },
         {
          "country": "Italy",
          "date": "2020-03-07T00:00:00",
          "value": 5883
         },
         {
          "country": "Italy",
          "date": "2020-03-08T00:00:00",
          "value": 7375
         },
         {
          "country": "Italy",
          "date": "2020-03-09T00:00:00",
          "value": 9172
         },
         {
          "country": "Italy",
          "date": "2020-03-10T00:00:00",
          "value": 10149
         },
         {
          "country": "Italy",
          "date": "2020-03-11T00:00:00",
          "value": 12462
         },
         {
          "country": "Italy",
          "date": "2020-03-12T00:00:00",
          "value": 12462
         },
         {
          "country": "Italy",
          "date": "2020-03-13T00:00:00",
          "value": 17660
         },
         {
          "country": "Italy",
          "date": "2020-03-14T00:00:00",
          "value": 21157
         },
         {
          "country": "Italy",
          "date": "2020-03-15T00:00:00",
          "value": 24747
         },
         {
          "country": "Korea, South",
          "date": "2020-02-20T00:00:00",
          "value": 104
         },
         {
          "country": "Korea, South",
          "date": "2020-02-21T00:00:00",
          "value": 204
         },
         {
          "country": "Korea, South",
          "date": "2020-02-22T00:00:00",
          "value": 433
         },
         {
          "country": "Korea, South",
          "date": "2020-02-23T00:00:00",
          "value": 602
         },
         {
          "country": "Korea, South",
          "date": "2020-02-24T00:00:00",
          "value": 833
         },
         {
          "country": "Korea, South",
          "date": "2020-02-25T00:00:00",
          "value": 977
         },
         {
          "country": "Korea, South",
          "date": "2020-02-26T00:00:00",
          "value": 1261
         },
         {
          "country": "Korea, South",
          "date": "2020-02-27T00:00:00",
          "value": 1766
         },
         {
          "country": "Korea, South",
          "date": "2020-02-28T00:00:00",
          "value": 2337
         },
         {
          "country": "Korea, South",
          "date": "2020-02-29T00:00:00",
          "value": 3150
         },
         {
          "country": "Korea, South",
          "date": "2020-03-01T00:00:00",
          "value": 3736
         },
         {
          "country": "Korea, South",
          "date": "2020-03-02T00:00:00",
          "value": 4335
         },
         {
          "country": "Korea, South",
          "date": "2020-03-03T00:00:00",
          "value": 5186
         },
         {
          "country": "Korea, South",
          "date": "2020-03-04T00:00:00",
          "value": 5621
         },
         {
          "country": "Korea, South",
          "date": "2020-03-05T00:00:00",
          "value": 6088
         },
         {
          "country": "Korea, South",
          "date": "2020-03-06T00:00:00",
          "value": 6593
         },
         {
          "country": "Korea, South",
          "date": "2020-03-07T00:00:00",
          "value": 7041
         },
         {
          "country": "Korea, South",
          "date": "2020-03-08T00:00:00",
          "value": 7314
         },
         {
          "country": "Korea, South",
          "date": "2020-03-09T00:00:00",
          "value": 7478
         },
         {
          "country": "Korea, South",
          "date": "2020-03-10T00:00:00",
          "value": 7513
         },
         {
          "country": "Korea, South",
          "date": "2020-03-11T00:00:00",
          "value": 7755
         },
         {
          "country": "Korea, South",
          "date": "2020-03-12T00:00:00",
          "value": 7869
         },
         {
          "country": "Korea, South",
          "date": "2020-03-13T00:00:00",
          "value": 7979
         },
         {
          "country": "Korea, South",
          "date": "2020-03-14T00:00:00",
          "value": 8086
         },
         {
          "country": "Korea, South",
          "date": "2020-03-15T00:00:00",
          "value": 8162
         },
         {
          "country": "Spain",
          "date": "2020-03-02T00:00:00",
          "value": 120
         },
         {
          "country": "Spain",
          "date": "2020-03-03T00:00:00",
          "value": 165
         },
         {
          "country": "Spain",
          "date": "2020-03-04T00:00:00",
          "value": 222
         },
         {
          "country": "Spain",
          "date": "2020-03-05T00:00:00",
          "value": 259
         },
         {
          "country": "Spain",
          "date": "2020-03-06T00:00:00",
          "value": 400
         },
         {
          "country": "Spain",
          "date": "2020-03-07T00:00:00",
          "value": 500
         },
         {
          "country": "Spain",
          "date": "2020-03-08T00:00:00",
          "value": 673
         },
         {
          "country": "Spain",
          "date": "2020-03-09T00:00:00",
          "value": 1073
         },
         {
          "country": "Spain",
          "date": "2020-03-10T00:00:00",
          "value": 1695
         },
         {
          "country": "Spain",
          "date": "2020-03-11T00:00:00",
          "value": 2277
         },
         {
          "country": "Spain",
          "date": "2020-03-12T00:00:00",
          "value": 2277
         },
         {
          "country": "Spain",
          "date": "2020-03-13T00:00:00",
          "value": 5232
         },
         {
          "country": "Spain",
          "date": "2020-03-14T00:00:00",
          "value": 6391
         },
         {
          "country": "Spain",
          "date": "2020-03-15T00:00:00",
          "value": 7798
         },
         {
          "country": "US",
          "date": "2020-03-03T00:00:00",
          "value": 118
         },
         {
          "country": "US",
          "date": "2020-03-04T00:00:00",
          "value": 149
         },
         {
          "country": "US",
          "date": "2020-03-05T00:00:00",
          "value": 217
         },
         {
          "country": "US",
          "date": "2020-03-06T00:00:00",
          "value": 262
         },
         {
          "country": "US",
          "date": "2020-03-07T00:00:00",
          "value": 402
         },
         {
          "country": "US",
          "date": "2020-03-08T00:00:00",
          "value": 518
         },
         {
          "country": "US",
          "date": "2020-03-09T00:00:00",
          "value": 583
         },
         {
          "country": "US",
          "date": "2020-03-10T00:00:00",
          "value": 959
         },
         {
          "country": "US",
          "date": "2020-03-11T00:00:00",
          "value": 1281
         },
         {
          "country": "US",
          "date": "2020-03-12T00:00:00",
          "value": 1663
         },
         {
          "country": "US",
          "date": "2020-03-13T00:00:00",
          "value": 2179
         },
         {
          "country": "US",
          "date": "2020-03-14T00:00:00",
          "value": 2727
         },
         {
          "country": "US",
          "date": "2020-03-15T00:00:00",
          "value": 3499
         },
         {
          "country": "United Kingdom",
          "date": "2020-03-05T00:00:00",
          "value": 116
         },
         {
          "country": "United Kingdom",
          "date": "2020-03-06T00:00:00",
          "value": 164
         },
         {
          "country": "United Kingdom",
          "date": "2020-03-07T00:00:00",
          "value": 207
         },
         {
          "country": "United Kingdom",
          "date": "2020-03-08T00:00:00",
          "value": 274
         },
         {
          "country": "United Kingdom",
          "date": "2020-03-09T00:00:00",
          "value": 322
         },
         {
          "country": "United Kingdom",
          "date": "2020-03-10T00:00:00",
          "value": 384
         },
         {
          "country": "United Kingdom",
          "date": "2020-03-11T00:00:00",
          "value": 459
         },
         {
          "country": "United Kingdom",
          "date": "2020-03-12T00:00:00",
          "value": 459
         },
         {
          "country": "United Kingdom",
          "date": "2020-03-13T00:00:00",
          "value": 801
         },
         {
          "country": "United Kingdom",
          "date": "2020-03-14T00:00:00",
          "value": 1143
         },
         {
          "country": "United Kingdom",
          "date": "2020-03-15T00:00:00",
          "value": 1144
         }
        ]
       },
       "encoding": {
        "color": {
         "field": "country",
         "type": "nominal"
        },
        "x": {
         "field": "date",
         "title": "Date",
         "type": "temporal"
        },
        "y": {
         "field": "value",
         "scale": {
          "bins": [
           100,
           500,
           1000,
           5000,
           10000,
           50000,
           100000
          ],
          "type": "log"
         },
         "title": "Confirmed cases (log scale)",
         "type": "quantitative"
        }
       },
       "height": 300,
       "mark": {
        "point": {
         "shape": "circle",
         "size": 10
        },
        "type": "line"
       },
       "padding": {
        "bottom": 5,
        "left": 5,
        "right": 5,
        "top": 50
       },
       "title": "Development of COVID-19 cases across countries",
       "width": 500
      },
      "image/png": "[encoded data removed]",
      "text/plain": [
       "<VegaLite 3 object>\n",
       "\n",
       "If you see this message, it means the renderer has not been properly enabled\n",
       "for the frontend that you are using. For more information, see\n",
       "https://altair-viz.github.io/user_guide/troubleshooting.html\n"
      ]
     },
     "execution_count": 8,
     "metadata": {},
     "output_type": "execute_result"
    }
   ],
   "source": [
    "alt.Chart(\n",
    "    confirmed_sel, \n",
    "    height=300,\n",
    "    title='Development of COVID-19 cases across countries'\n",
    ").mark_line(\n",
    "    point=alt.OverlayMarkDef(shape='circle', size=10)\n",
    ").encode(\n",
    "    alt.X('date:T', title='Date'),\n",
    "    alt.Y(\n",
    "        'value:Q', \n",
    "        scale=alt.Scale(\n",
    "            type='log', \n",
    "            bins=[100,500,1000,5000,10000,50000,100000]),\n",
    "        title='Confirmed cases (log scale)'\n",
    "    ),\n",
    "    color='country:N')"
   ]
  },
  {
   "cell_type": "markdown",
   "metadata": {},
   "source": [
    "## Case count since 100th confirmed case in country"
   ]
  },
  {
   "cell_type": "code",
   "execution_count": 9,
   "metadata": {},
   "outputs": [],
   "source": [
    "confirmed_sel['days_since100'] = 0\n",
    "for name, group in confirmed_sel.groupby(['country']):\n",
    "    for i in range(0, len(group)):\n",
    "        ix = group.index.values[i]\n",
    "        confirmed_sel.loc[ix, 'days_since100']=i"
   ]
  },
  {
   "cell_type": "code",
   "execution_count": 10,
   "metadata": {},
   "outputs": [],
   "source": [
    "chart_covid_cases = alt.Chart(\n",
    "    confirmed_sel, \n",
    "    height=300,\n",
    "    title='Development of COVID-19 cases across countries'\n",
    ").mark_line(\n",
    "    point=alt.OverlayMarkDef(shape='circle', size=10)\n",
    ").encode(\n",
    "    alt.X('days_since100:Q', title='Days since 100th case'),\n",
    "    alt.Y(\n",
    "        'value:Q', \n",
    "        scale=alt.Scale(\n",
    "            type='log', \n",
    "            bins=[100,500,1000,5000,10000,50000,100000]),\n",
    "        title='Confirmed cases (log scale)'\n",
    "    ),\n",
    "    color='country:N'        \n",
    ")"
   ]
  },
  {
   "cell_type": "code",
   "execution_count": 11,
   "metadata": {},
   "outputs": [
    {
     "data": {
      "application/vnd.vegalite.v3+json": {
       "$schema": "https://vega.github.io/schema/vega-lite/v3.4.0.json",
       "config": {
        "area": {
         "fill": "#1696d2"
        },
        "axisX": {
         "domain": true,
         "domainColor": "#DEDDDD",
         "domainDashOffset": 10,
         "domainWidth": 1,
         "grid": false,
         "labelAngle": 0,
         "labelFont": "Avenir",
         "labelFontSize": 10,
         "tickColor": "#DEDDDD",
         "titleFont": "Avenir",
         "titleFontSize": 12,
         "titleFontWeight": 400,
         "titlePadding": 10
        },
        "axisY": {
         "domain": false,
         "domainDashOffset": 10,
         "grid": true,
         "gridColor": "#DEDDDD",
         "gridDash": [
          5,
          2
         ],
         "gridWidth": 1,
         "labelAngle": 0,
         "labelFont": "Avenir",
         "labelFontSize": 10,
         "titleFont": "Avenir",
         "titleFontSize": 12,
         "titleFontWeight": 400,
         "titlePadding": 10
        },
        "bar": {
         "fill": "#1696d2",
         "strokeWidth": 0
        },
        "guide-title": {
         "color": "Monospace",
         "font": "Avenir",
         "fontSize": 15
        },
        "header": {
         "titleFontSize": 12,
         "titleFontWeight": 400
        },
        "legend": {
         "labelFont": "Avenir",
         "labelFontSize": 12,
         "symbolSize": 50,
         "symbolType": "circle",
         "title": "",
         "titleFont": "Avenir",
         "titleFontSize": 12
        },
        "line": {
         "color": "#1696d2",
         "stroke": "#1696d2",
         "strokeWidth": 1
        },
        "path": {
         "stroke": "#1696d2"
        },
        "point": {
         "filled": true
        },
        "range": {
         "category": [
          "#a6cee3",
          "#1f78b4",
          "#b2df8a",
          "#33a02c",
          "#fb9a99",
          "#e31a1c",
          "#fdbf6f",
          "#ff7f00"
         ],
         "diverging": [
          "#cfe8f3",
          "#a2d4ec",
          "#73bfe2",
          "#46abdb",
          "#1696d2",
          "#12719e"
         ]
        },
        "text": {
         "align": "right",
         "color": "#1696d2",
         "font": "Avenir",
         "fontSize": 12,
         "fontWeight": 400,
         "size": 11
        },
        "title": {
         "anchor": "start",
         "color": "#4d4d4d",
         "font": "Avenir",
         "fontSize": 20,
         "fontWeight": 300,
         "lineHeight": 100,
         "offset": 30
        },
        "trail": {
         "color": "#1696d2",
         "stroke": "#1696d2"
        },
        "view": {
         "strokeWidth": 0
        }
       },
       "data": {
        "name": "data-0ccf4e4d419bd9b8b1b78b74cb813934"
       },
       "datasets": {
        "data-0ccf4e4d419bd9b8b1b78b74cb813934": [
         {
          "country": "France",
          "date": "2020-02-29T00:00:00",
          "days_since100": 0,
          "value": 100
         },
         {
          "country": "France",
          "date": "2020-03-01T00:00:00",
          "days_since100": 1,
          "value": 130
         },
         {
          "country": "France",
          "date": "2020-03-02T00:00:00",
          "days_since100": 2,
          "value": 191
         },
         {
          "country": "France",
          "date": "2020-03-03T00:00:00",
          "days_since100": 3,
          "value": 204
         },
         {
          "country": "France",
          "date": "2020-03-04T00:00:00",
          "days_since100": 4,
          "value": 288
         },
         {
          "country": "France",
          "date": "2020-03-05T00:00:00",
          "days_since100": 5,
          "value": 380
         },
         {
          "country": "France",
          "date": "2020-03-06T00:00:00",
          "days_since100": 6,
          "value": 656
         },
         {
          "country": "France",
          "date": "2020-03-07T00:00:00",
          "days_since100": 7,
          "value": 957
         },
         {
          "country": "France",
          "date": "2020-03-08T00:00:00",
          "days_since100": 8,
          "value": 1134
         },
         {
          "country": "France",
          "date": "2020-03-09T00:00:00",
          "days_since100": 9,
          "value": 1217
         },
         {
          "country": "France",
          "date": "2020-03-10T00:00:00",
          "days_since100": 10,
          "value": 1792
         },
         {
          "country": "France",
          "date": "2020-03-11T00:00:00",
          "days_since100": 11,
          "value": 2289
         },
         {
          "country": "France",
          "date": "2020-03-12T00:00:00",
          "days_since100": 12,
          "value": 2289
         },
         {
          "country": "France",
          "date": "2020-03-13T00:00:00",
          "days_since100": 13,
          "value": 3672
         },
         {
          "country": "France",
          "date": "2020-03-14T00:00:00",
          "days_since100": 14,
          "value": 4480
         },
         {
          "country": "France",
          "date": "2020-03-15T00:00:00",
          "days_since100": 15,
          "value": 4513
         },
         {
          "country": "Germany",
          "date": "2020-03-01T00:00:00",
          "days_since100": 0,
          "value": 130
         },
         {
          "country": "Germany",
          "date": "2020-03-02T00:00:00",
          "days_since100": 1,
          "value": 159
         },
         {
          "country": "Germany",
          "date": "2020-03-03T00:00:00",
          "days_since100": 2,
          "value": 196
         },
         {
          "country": "Germany",
          "date": "2020-03-04T00:00:00",
          "days_since100": 3,
          "value": 262
         },
         {
          "country": "Germany",
          "date": "2020-03-05T00:00:00",
          "days_since100": 4,
          "value": 482
         },
         {
          "country": "Germany",
          "date": "2020-03-06T00:00:00",
          "days_since100": 5,
          "value": 670
         },
         {
          "country": "Germany",
          "date": "2020-03-07T00:00:00",
          "days_since100": 6,
          "value": 799
         },
         {
          "country": "Germany",
          "date": "2020-03-08T00:00:00",
          "days_since100": 7,
          "value": 1040
         },
         {
          "country": "Germany",
          "date": "2020-03-09T00:00:00",
          "days_since100": 8,
          "value": 1176
         },
         {
          "country": "Germany",
          "date": "2020-03-10T00:00:00",
          "days_since100": 9,
          "value": 1457
         },
         {
          "country": "Germany",
          "date": "2020-03-11T00:00:00",
          "days_since100": 10,
          "value": 1908
         },
         {
          "country": "Germany",
          "date": "2020-03-12T00:00:00",
          "days_since100": 11,
          "value": 2078
         },
         {
          "country": "Germany",
          "date": "2020-03-13T00:00:00",
          "days_since100": 12,
          "value": 3675
         },
         {
          "country": "Germany",
          "date": "2020-03-14T00:00:00",
          "days_since100": 13,
          "value": 4585
         },
         {
          "country": "Germany",
          "date": "2020-03-15T00:00:00",
          "days_since100": 14,
          "value": 5795
         },
         {
          "country": "Italy",
          "date": "2020-02-23T00:00:00",
          "days_since100": 0,
          "value": 155
         },
         {
          "country": "Italy",
          "date": "2020-02-24T00:00:00",
          "days_since100": 1,
          "value": 229
         },
         {
          "country": "Italy",
          "date": "2020-02-25T00:00:00",
          "days_since100": 2,
          "value": 322
         },
         {
          "country": "Italy",
          "date": "2020-02-26T00:00:00",
          "days_since100": 3,
          "value": 453
         },
         {
          "country": "Italy",
          "date": "2020-02-27T00:00:00",
          "days_since100": 4,
          "value": 655
         },
         {
          "country": "Italy",
          "date": "2020-02-28T00:00:00",
          "days_since100": 5,
          "value": 888
         },
         {
          "country": "Italy",
          "date": "2020-02-29T00:00:00",
          "days_since100": 6,
          "value": 1128
         },
         {
          "country": "Italy",
          "date": "2020-03-01T00:00:00",
          "days_since100": 7,
          "value": 1694
         },
         {
          "country": "Italy",
          "date": "2020-03-02T00:00:00",
          "days_since100": 8,
          "value": 2036
         },
         {
          "country": "Italy",
          "date": "2020-03-03T00:00:00",
          "days_since100": 9,
          "value": 2502
         },
         {
          "country": "Italy",
          "date": "2020-03-04T00:00:00",
          "days_since100": 10,
          "value": 3089
         },
         {
          "country": "Italy",
          "date": "2020-03-05T00:00:00",
          "days_since100": 11,
          "value": 3858
         },
         {
          "country": "Italy",
          "date": "2020-03-06T00:00:00",
          "days_since100": 12,
          "value": 4636
         },
         {
          "country": "Italy",
          "date": "2020-03-07T00:00:00",
          "days_since100": 13,
          "value": 5883
         },
         {
          "country": "Italy",
          "date": "2020-03-08T00:00:00",
          "days_since100": 14,
          "value": 7375
         },
         {
          "country": "Italy",
          "date": "2020-03-09T00:00:00",
          "days_since100": 15,
          "value": 9172
         },
         {
          "country": "Italy",
          "date": "2020-03-10T00:00:00",
          "days_since100": 16,
          "value": 10149
         },
         {
          "country": "Italy",
          "date": "2020-03-11T00:00:00",
          "days_since100": 17,
          "value": 12462
         },
         {
          "country": "Italy",
          "date": "2020-03-12T00:00:00",
          "days_since100": 18,
          "value": 12462
         },
         {
          "country": "Italy",
          "date": "2020-03-13T00:00:00",
          "days_since100": 19,
          "value": 17660
         },
         {
          "country": "Italy",
          "date": "2020-03-14T00:00:00",
          "days_since100": 20,
          "value": 21157
         },
         {
          "country": "Italy",
          "date": "2020-03-15T00:00:00",
          "days_since100": 21,
          "value": 24747
         },
         {
          "country": "Korea, South",
          "date": "2020-02-20T00:00:00",
          "days_since100": 0,
          "value": 104
         },
         {
          "country": "Korea, South",
          "date": "2020-02-21T00:00:00",
          "days_since100": 1,
          "value": 204
         },
         {
          "country": "Korea, South",
          "date": "2020-02-22T00:00:00",
          "days_since100": 2,
          "value": 433
         },
         {
          "country": "Korea, South",
          "date": "2020-02-23T00:00:00",
          "days_since100": 3,
          "value": 602
         },
         {
          "country": "Korea, South",
          "date": "2020-02-24T00:00:00",
          "days_since100": 4,
          "value": 833
         },
         {
          "country": "Korea, South",
          "date": "2020-02-25T00:00:00",
          "days_since100": 5,
          "value": 977
         },
         {
          "country": "Korea, South",
          "date": "2020-02-26T00:00:00",
          "days_since100": 6,
          "value": 1261
         },
         {
          "country": "Korea, South",
          "date": "2020-02-27T00:00:00",
          "days_since100": 7,
          "value": 1766
         },
         {
          "country": "Korea, South",
          "date": "2020-02-28T00:00:00",
          "days_since100": 8,
          "value": 2337
         },
         {
          "country": "Korea, South",
          "date": "2020-02-29T00:00:00",
          "days_since100": 9,
          "value": 3150
         },
         {
          "country": "Korea, South",
          "date": "2020-03-01T00:00:00",
          "days_since100": 10,
          "value": 3736
         },
         {
          "country": "Korea, South",
          "date": "2020-03-02T00:00:00",
          "days_since100": 11,
          "value": 4335
         },
         {
          "country": "Korea, South",
          "date": "2020-03-03T00:00:00",
          "days_since100": 12,
          "value": 5186
         },
         {
          "country": "Korea, South",
          "date": "2020-03-04T00:00:00",
          "days_since100": 13,
          "value": 5621
         },
         {
          "country": "Korea, South",
          "date": "2020-03-05T00:00:00",
          "days_since100": 14,
          "value": 6088
         },
         {
          "country": "Korea, South",
          "date": "2020-03-06T00:00:00",
          "days_since100": 15,
          "value": 6593
         },
         {
          "country": "Korea, South",
          "date": "2020-03-07T00:00:00",
          "days_since100": 16,
          "value": 7041
         },
         {
          "country": "Korea, South",
          "date": "2020-03-08T00:00:00",
          "days_since100": 17,
          "value": 7314
         },
         {
          "country": "Korea, South",
          "date": "2020-03-09T00:00:00",
          "days_since100": 18,
          "value": 7478
         },
         {
          "country": "Korea, South",
          "date": "2020-03-10T00:00:00",
          "days_since100": 19,
          "value": 7513
         },
         {
          "country": "Korea, South",
          "date": "2020-03-11T00:00:00",
          "days_since100": 20,
          "value": 7755
         },
         {
          "country": "Korea, South",
          "date": "2020-03-12T00:00:00",
          "days_since100": 21,
          "value": 7869
         },
         {
          "country": "Korea, South",
          "date": "2020-03-13T00:00:00",
          "days_since100": 22,
          "value": 7979
         },
         {
          "country": "Korea, South",
          "date": "2020-03-14T00:00:00",
          "days_since100": 23,
          "value": 8086
         },
         {
          "country": "Korea, South",
          "date": "2020-03-15T00:00:00",
          "days_since100": 24,
          "value": 8162
         },
         {
          "country": "Spain",
          "date": "2020-03-02T00:00:00",
          "days_since100": 0,
          "value": 120
         },
         {
          "country": "Spain",
          "date": "2020-03-03T00:00:00",
          "days_since100": 1,
          "value": 165
         },
         {
          "country": "Spain",
          "date": "2020-03-04T00:00:00",
          "days_since100": 2,
          "value": 222
         },
         {
          "country": "Spain",
          "date": "2020-03-05T00:00:00",
          "days_since100": 3,
          "value": 259
         },
         {
          "country": "Spain",
          "date": "2020-03-06T00:00:00",
          "days_since100": 4,
          "value": 400
         },
         {
          "country": "Spain",
          "date": "2020-03-07T00:00:00",
          "days_since100": 5,
          "value": 500
         },
         {
          "country": "Spain",
          "date": "2020-03-08T00:00:00",
          "days_since100": 6,
          "value": 673
         },
         {
          "country": "Spain",
          "date": "2020-03-09T00:00:00",
          "days_since100": 7,
          "value": 1073
         },
         {
          "country": "Spain",
          "date": "2020-03-10T00:00:00",
          "days_since100": 8,
          "value": 1695
         },
         {
          "country": "Spain",
          "date": "2020-03-11T00:00:00",
          "days_since100": 9,
          "value": 2277
         },
         {
          "country": "Spain",
          "date": "2020-03-12T00:00:00",
          "days_since100": 10,
          "value": 2277
         },
         {
          "country": "Spain",
          "date": "2020-03-13T00:00:00",
          "days_since100": 11,
          "value": 5232
         },
         {
          "country": "Spain",
          "date": "2020-03-14T00:00:00",
          "days_since100": 12,
          "value": 6391
         },
         {
          "country": "Spain",
          "date": "2020-03-15T00:00:00",
          "days_since100": 13,
          "value": 7798
         },
         {
          "country": "US",
          "date": "2020-03-03T00:00:00",
          "days_since100": 0,
          "value": 118
         },
         {
          "country": "US",
          "date": "2020-03-04T00:00:00",
          "days_since100": 1,
          "value": 149
         },
         {
          "country": "US",
          "date": "2020-03-05T00:00:00",
          "days_since100": 2,
          "value": 217
         },
         {
          "country": "US",
          "date": "2020-03-06T00:00:00",
          "days_since100": 3,
          "value": 262
         },
         {
          "country": "US",
          "date": "2020-03-07T00:00:00",
          "days_since100": 4,
          "value": 402
         },
         {
          "country": "US",
          "date": "2020-03-08T00:00:00",
          "days_since100": 5,
          "value": 518
         },
         {
          "country": "US",
          "date": "2020-03-09T00:00:00",
          "days_since100": 6,
          "value": 583
         },
         {
          "country": "US",
          "date": "2020-03-10T00:00:00",
          "days_since100": 7,
          "value": 959
         },
         {
          "country": "US",
          "date": "2020-03-11T00:00:00",
          "days_since100": 8,
          "value": 1281
         },
         {
          "country": "US",
          "date": "2020-03-12T00:00:00",
          "days_since100": 9,
          "value": 1663
         },
         {
          "country": "US",
          "date": "2020-03-13T00:00:00",
          "days_since100": 10,
          "value": 2179
         },
         {
          "country": "US",
          "date": "2020-03-14T00:00:00",
          "days_since100": 11,
          "value": 2727
         },
         {
          "country": "US",
          "date": "2020-03-15T00:00:00",
          "days_since100": 12,
          "value": 3499
         },
         {
          "country": "United Kingdom",
          "date": "2020-03-05T00:00:00",
          "days_since100": 0,
          "value": 116
         },
         {
          "country": "United Kingdom",
          "date": "2020-03-06T00:00:00",
          "days_since100": 1,
          "value": 164
         },
         {
          "country": "United Kingdom",
          "date": "2020-03-07T00:00:00",
          "days_since100": 2,
          "value": 207
         },
         {
          "country": "United Kingdom",
          "date": "2020-03-08T00:00:00",
          "days_since100": 3,
          "value": 274
         },
         {
          "country": "United Kingdom",
          "date": "2020-03-09T00:00:00",
          "days_since100": 4,
          "value": 322
         },
         {
          "country": "United Kingdom",
          "date": "2020-03-10T00:00:00",
          "days_since100": 5,
          "value": 384
         },
         {
          "country": "United Kingdom",
          "date": "2020-03-11T00:00:00",
          "days_since100": 6,
          "value": 459
         },
         {
          "country": "United Kingdom",
          "date": "2020-03-12T00:00:00",
          "days_since100": 7,
          "value": 459
         },
         {
          "country": "United Kingdom",
          "date": "2020-03-13T00:00:00",
          "days_since100": 8,
          "value": 801
         },
         {
          "country": "United Kingdom",
          "date": "2020-03-14T00:00:00",
          "days_since100": 9,
          "value": 1143
         },
         {
          "country": "United Kingdom",
          "date": "2020-03-15T00:00:00",
          "days_since100": 10,
          "value": 1144
         }
        ]
       },
       "encoding": {
        "color": {
         "field": "country",
         "type": "nominal"
        },
        "x": {
         "field": "days_since100",
         "title": "Days since 100th case",
         "type": "quantitative"
        },
        "y": {
         "field": "value",
         "scale": {
          "bins": [
           100,
           500,
           1000,
           5000,
           10000,
           50000,
           100000
          ],
          "type": "log"
         },
         "title": "Confirmed cases (log scale)",
         "type": "quantitative"
        }
       },
       "height": 300,
       "mark": {
        "point": {
         "shape": "circle",
         "size": 10
        },
        "type": "line"
       },
       "padding": {
        "bottom": 5,
        "left": 5,
        "right": 5,
        "top": 50
       },
       "title": "Development of COVID-19 cases across countries",
       "width": 500
      },
      "image/png": "[encoded data removed]",
      "text/plain": [
       "<VegaLite 3 object>\n",
       "\n",
       "If you see this message, it means the renderer has not been properly enabled\n",
       "for the frontend that you are using. For more information, see\n",
       "https://altair-viz.github.io/user_guide/troubleshooting.html\n"
      ]
     },
     "execution_count": 11,
     "metadata": {},
     "output_type": "execute_result"
    }
   ],
   "source": [
    "chart_covid_cases"
   ]
  },
  {
   "cell_type": "code",
   "execution_count": 16,
   "metadata": {},
   "outputs": [],
   "source": [
    "chart_covid_cases.save('./charts/covid_cases.svg', webdriver='firefox')"
   ]
  },
  {
   "cell_type": "markdown",
   "metadata": {},
   "source": [
    "## Percentage growth to previous day"
   ]
  },
  {
   "cell_type": "code",
   "execution_count": 13,
   "metadata": {},
   "outputs": [],
   "source": [
    "confirmed_sel['perc_growth'] = np.nan\n",
    "for name, group in confirmed_sel.loc[:,['country','value']].groupby('country'):\n",
    "    for i in range(1,len(group)):\n",
    "        prev = group.loc[group.index.values[i-1], 'value']\n",
    "        now = group.loc[group.index.values[i],'value']\n",
    "        growth = now/prev\n",
    "        confirmed_sel.loc[group.index.values[i],'perc_growth'] = growth\n",
    "        "
   ]
  },
  {
   "cell_type": "code",
   "execution_count": 14,
   "metadata": {},
   "outputs": [],
   "source": [
    "chart_growth_rates= alt.Chart(\n",
    "    confirmed_sel, \n",
    "    height=300,\n",
    "    title='Growth rates of COVID-19 cases across countries'\n",
    ").mark_line().encode(\n",
    "    alt.X('date:T', title='Days since 100th case'),\n",
    "    alt.Y(\n",
    "        'perc_growth:Q',\n",
    "        title='Growth rate compared to previous day'\n",
    "    ),\n",
    "    color='country:N')"
   ]
  },
  {
   "cell_type": "code",
   "execution_count": 17,
   "metadata": {},
   "outputs": [
    {
     "data": {
      "application/vnd.vegalite.v3+json": {
       "$schema": "https://vega.github.io/schema/vega-lite/v3.4.0.json",
       "config": {
        "area": {
         "fill": "#1696d2"
        },
        "axisX": {
         "domain": true,
         "domainColor": "#DEDDDD",
         "domainDashOffset": 10,
         "domainWidth": 1,
         "grid": false,
         "labelAngle": 0,
         "labelFont": "Avenir",
         "labelFontSize": 10,
         "tickColor": "#DEDDDD",
         "titleFont": "Avenir",
         "titleFontSize": 12,
         "titleFontWeight": 400,
         "titlePadding": 10
        },
        "axisY": {
         "domain": false,
         "domainDashOffset": 10,
         "grid": true,
         "gridColor": "#DEDDDD",
         "gridDash": [
          5,
          2
         ],
         "gridWidth": 1,
         "labelAngle": 0,
         "labelFont": "Avenir",
         "labelFontSize": 10,
         "titleFont": "Avenir",
         "titleFontSize": 12,
         "titleFontWeight": 400,
         "titlePadding": 10
        },
        "bar": {
         "fill": "#1696d2",
         "strokeWidth": 0
        },
        "guide-title": {
         "color": "Monospace",
         "font": "Avenir",
         "fontSize": 15
        },
        "header": {
         "titleFontSize": 12,
         "titleFontWeight": 400
        },
        "legend": {
         "labelFont": "Avenir",
         "labelFontSize": 12,
         "symbolSize": 50,
         "symbolType": "circle",
         "title": "",
         "titleFont": "Avenir",
         "titleFontSize": 12
        },
        "line": {
         "color": "#1696d2",
         "stroke": "#1696d2",
         "strokeWidth": 1
        },
        "path": {
         "stroke": "#1696d2"
        },
        "point": {
         "filled": true
        },
        "range": {
         "category": [
          "#a6cee3",
          "#1f78b4",
          "#b2df8a",
          "#33a02c",
          "#fb9a99",
          "#e31a1c",
          "#fdbf6f",
          "#ff7f00"
         ],
         "diverging": [
          "#cfe8f3",
          "#a2d4ec",
          "#73bfe2",
          "#46abdb",
          "#1696d2",
          "#12719e"
         ]
        },
        "text": {
         "align": "right",
         "color": "#1696d2",
         "font": "Avenir",
         "fontSize": 12,
         "fontWeight": 400,
         "size": 11
        },
        "title": {
         "anchor": "start",
         "color": "#4d4d4d",
         "font": "Avenir",
         "fontSize": 20,
         "fontWeight": 300,
         "lineHeight": 100,
         "offset": 30
        },
        "trail": {
         "color": "#1696d2",
         "stroke": "#1696d2"
        },
        "view": {
         "strokeWidth": 0
        }
       },
       "data": {
        "name": "data-72bae514eb67c94f519a23a596ecffd2"
       },
       "datasets": {
        "data-72bae514eb67c94f519a23a596ecffd2": [
         {
          "country": "France",
          "date": "2020-02-29T00:00:00",
          "days_since100": 0,
          "perc_growth": null,
          "value": 100
         },
         {
          "country": "France",
          "date": "2020-03-01T00:00:00",
          "days_since100": 1,
          "perc_growth": 1.3,
          "value": 130
         },
         {
          "country": "France",
          "date": "2020-03-02T00:00:00",
          "days_since100": 2,
          "perc_growth": 1.4692307692307693,
          "value": 191
         },
         {
          "country": "France",
          "date": "2020-03-03T00:00:00",
          "days_since100": 3,
          "perc_growth": 1.068062827225131,
          "value": 204
         },
         {
          "country": "France",
          "date": "2020-03-04T00:00:00",
          "days_since100": 4,
          "perc_growth": 1.411764705882353,
          "value": 288
         },
         {
          "country": "France",
          "date": "2020-03-05T00:00:00",
          "days_since100": 5,
          "perc_growth": 1.3194444444444444,
          "value": 380
         },
         {
          "country": "France",
          "date": "2020-03-06T00:00:00",
          "days_since100": 6,
          "perc_growth": 1.7263157894736842,
          "value": 656
         },
         {
          "country": "France",
          "date": "2020-03-07T00:00:00",
          "days_since100": 7,
          "perc_growth": 1.458841463414634,
          "value": 957
         },
         {
          "country": "France",
          "date": "2020-03-08T00:00:00",
          "days_since100": 8,
          "perc_growth": 1.1849529780564263,
          "value": 1134
         },
         {
          "country": "France",
          "date": "2020-03-09T00:00:00",
          "days_since100": 9,
          "perc_growth": 1.0731922398589064,
          "value": 1217
         },
         {
          "country": "France",
          "date": "2020-03-10T00:00:00",
          "days_since100": 10,
          "perc_growth": 1.4724732949876747,
          "value": 1792
         },
         {
          "country": "France",
          "date": "2020-03-11T00:00:00",
          "days_since100": 11,
          "perc_growth": 1.27734375,
          "value": 2289
         },
         {
          "country": "France",
          "date": "2020-03-12T00:00:00",
          "days_since100": 12,
          "perc_growth": 1,
          "value": 2289
         },
         {
          "country": "France",
          "date": "2020-03-13T00:00:00",
          "days_since100": 13,
          "perc_growth": 1.6041939711664481,
          "value": 3672
         },
         {
          "country": "France",
          "date": "2020-03-14T00:00:00",
          "days_since100": 14,
          "perc_growth": 1.2200435729847494,
          "value": 4480
         },
         {
          "country": "France",
          "date": "2020-03-15T00:00:00",
          "days_since100": 15,
          "perc_growth": 1.0073660714285715,
          "value": 4513
         },
         {
          "country": "Germany",
          "date": "2020-03-01T00:00:00",
          "days_since100": 0,
          "perc_growth": null,
          "value": 130
         },
         {
          "country": "Germany",
          "date": "2020-03-02T00:00:00",
          "days_since100": 1,
          "perc_growth": 1.2230769230769232,
          "value": 159
         },
         {
          "country": "Germany",
          "date": "2020-03-03T00:00:00",
          "days_since100": 2,
          "perc_growth": 1.2327044025157232,
          "value": 196
         },
         {
          "country": "Germany",
          "date": "2020-03-04T00:00:00",
          "days_since100": 3,
          "perc_growth": 1.336734693877551,
          "value": 262
         },
         {
          "country": "Germany",
          "date": "2020-03-05T00:00:00",
          "days_since100": 4,
          "perc_growth": 1.8396946564885497,
          "value": 482
         },
         {
          "country": "Germany",
          "date": "2020-03-06T00:00:00",
          "days_since100": 5,
          "perc_growth": 1.3900414937759336,
          "value": 670
         },
         {
          "country": "Germany",
          "date": "2020-03-07T00:00:00",
          "days_since100": 6,
          "perc_growth": 1.1925373134328359,
          "value": 799
         },
         {
          "country": "Germany",
          "date": "2020-03-08T00:00:00",
          "days_since100": 7,
          "perc_growth": 1.3016270337922402,
          "value": 1040
         },
         {
          "country": "Germany",
          "date": "2020-03-09T00:00:00",
          "days_since100": 8,
          "perc_growth": 1.1307692307692307,
          "value": 1176
         },
         {
          "country": "Germany",
          "date": "2020-03-10T00:00:00",
          "days_since100": 9,
          "perc_growth": 1.2389455782312926,
          "value": 1457
         },
         {
          "country": "Germany",
          "date": "2020-03-11T00:00:00",
          "days_since100": 10,
          "perc_growth": 1.3095401509951956,
          "value": 1908
         },
         {
          "country": "Germany",
          "date": "2020-03-12T00:00:00",
          "days_since100": 11,
          "perc_growth": 1.0890985324947589,
          "value": 2078
         },
         {
          "country": "Germany",
          "date": "2020-03-13T00:00:00",
          "days_since100": 12,
          "perc_growth": 1.7685274302213667,
          "value": 3675
         },
         {
          "country": "Germany",
          "date": "2020-03-14T00:00:00",
          "days_since100": 13,
          "perc_growth": 1.2476190476190476,
          "value": 4585
         },
         {
          "country": "Germany",
          "date": "2020-03-15T00:00:00",
          "days_since100": 14,
          "perc_growth": 1.2639040348964012,
          "value": 5795
         },
         {
          "country": "Italy",
          "date": "2020-02-23T00:00:00",
          "days_since100": 0,
          "perc_growth": null,
          "value": 155
         },
         {
          "country": "Italy",
          "date": "2020-02-24T00:00:00",
          "days_since100": 1,
          "perc_growth": 1.4774193548387098,
          "value": 229
         },
         {
          "country": "Italy",
          "date": "2020-02-25T00:00:00",
          "days_since100": 2,
          "perc_growth": 1.4061135371179039,
          "value": 322
         },
         {
          "country": "Italy",
          "date": "2020-02-26T00:00:00",
          "days_since100": 3,
          "perc_growth": 1.406832298136646,
          "value": 453
         },
         {
          "country": "Italy",
          "date": "2020-02-27T00:00:00",
          "days_since100": 4,
          "perc_growth": 1.445916114790287,
          "value": 655
         },
         {
          "country": "Italy",
          "date": "2020-02-28T00:00:00",
          "days_since100": 5,
          "perc_growth": 1.3557251908396946,
          "value": 888
         },
         {
          "country": "Italy",
          "date": "2020-02-29T00:00:00",
          "days_since100": 6,
          "perc_growth": 1.2702702702702702,
          "value": 1128
         },
         {
          "country": "Italy",
          "date": "2020-03-01T00:00:00",
          "days_since100": 7,
          "perc_growth": 1.50177304964539,
          "value": 1694
         },
         {
          "country": "Italy",
          "date": "2020-03-02T00:00:00",
          "days_since100": 8,
          "perc_growth": 1.2018890200708383,
          "value": 2036
         },
         {
          "country": "Italy",
          "date": "2020-03-03T00:00:00",
          "days_since100": 9,
          "perc_growth": 1.2288801571709234,
          "value": 2502
         },
         {
          "country": "Italy",
          "date": "2020-03-04T00:00:00",
          "days_since100": 10,
          "perc_growth": 1.2346123101518784,
          "value": 3089
         },
         {
          "country": "Italy",
          "date": "2020-03-05T00:00:00",
          "days_since100": 11,
          "perc_growth": 1.2489478795726772,
          "value": 3858
         },
         {
          "country": "Italy",
          "date": "2020-03-06T00:00:00",
          "days_since100": 12,
          "perc_growth": 1.2016588906169,
          "value": 4636
         },
         {
          "country": "Italy",
          "date": "2020-03-07T00:00:00",
          "days_since100": 13,
          "perc_growth": 1.2689818809318378,
          "value": 5883
         },
         {
          "country": "Italy",
          "date": "2020-03-08T00:00:00",
          "days_since100": 14,
          "perc_growth": 1.2536121026687064,
          "value": 7375
         },
         {
          "country": "Italy",
          "date": "2020-03-09T00:00:00",
          "days_since100": 15,
          "perc_growth": 1.2436610169491524,
          "value": 9172
         },
         {
          "country": "Italy",
          "date": "2020-03-10T00:00:00",
          "days_since100": 16,
          "perc_growth": 1.1065198430004362,
          "value": 10149
         },
         {
          "country": "Italy",
          "date": "2020-03-11T00:00:00",
          "days_since100": 17,
          "perc_growth": 1.22790422701744,
          "value": 12462
         },
         {
          "country": "Italy",
          "date": "2020-03-12T00:00:00",
          "days_since100": 18,
          "perc_growth": 1,
          "value": 12462
         },
         {
          "country": "Italy",
          "date": "2020-03-13T00:00:00",
          "days_since100": 19,
          "perc_growth": 1.41710800834537,
          "value": 17660
         },
         {
          "country": "Italy",
          "date": "2020-03-14T00:00:00",
          "days_since100": 20,
          "perc_growth": 1.1980181200453002,
          "value": 21157
         },
         {
          "country": "Italy",
          "date": "2020-03-15T00:00:00",
          "days_since100": 21,
          "perc_growth": 1.1696837925981944,
          "value": 24747
         },
         {
          "country": "Korea, South",
          "date": "2020-02-20T00:00:00",
          "days_since100": 0,
          "perc_growth": null,
          "value": 104
         },
         {
          "country": "Korea, South",
          "date": "2020-02-21T00:00:00",
          "days_since100": 1,
          "perc_growth": 1.9615384615384615,
          "value": 204
         },
         {
          "country": "Korea, South",
          "date": "2020-02-22T00:00:00",
          "days_since100": 2,
          "perc_growth": 2.122549019607843,
          "value": 433
         },
         {
          "country": "Korea, South",
          "date": "2020-02-23T00:00:00",
          "days_since100": 3,
          "perc_growth": 1.3903002309468822,
          "value": 602
         },
         {
          "country": "Korea, South",
          "date": "2020-02-24T00:00:00",
          "days_since100": 4,
          "perc_growth": 1.3837209302325582,
          "value": 833
         },
         {
          "country": "Korea, South",
          "date": "2020-02-25T00:00:00",
          "days_since100": 5,
          "perc_growth": 1.1728691476590636,
          "value": 977
         },
         {
          "country": "Korea, South",
          "date": "2020-02-26T00:00:00",
          "days_since100": 6,
          "perc_growth": 1.2906857727737973,
          "value": 1261
         },
         {
          "country": "Korea, South",
          "date": "2020-02-27T00:00:00",
          "days_since100": 7,
          "perc_growth": 1.4004758128469468,
          "value": 1766
         },
         {
          "country": "Korea, South",
          "date": "2020-02-28T00:00:00",
          "days_since100": 8,
          "perc_growth": 1.3233295583238958,
          "value": 2337
         },
         {
          "country": "Korea, South",
          "date": "2020-02-29T00:00:00",
          "days_since100": 9,
          "perc_growth": 1.3478818998716302,
          "value": 3150
         },
         {
          "country": "Korea, South",
          "date": "2020-03-01T00:00:00",
          "days_since100": 10,
          "perc_growth": 1.186031746031746,
          "value": 3736
         },
         {
          "country": "Korea, South",
          "date": "2020-03-02T00:00:00",
          "days_since100": 11,
          "perc_growth": 1.1603319057815846,
          "value": 4335
         },
         {
          "country": "Korea, South",
          "date": "2020-03-03T00:00:00",
          "days_since100": 12,
          "perc_growth": 1.1963091118800462,
          "value": 5186
         },
         {
          "country": "Korea, South",
          "date": "2020-03-04T00:00:00",
          "days_since100": 13,
          "perc_growth": 1.0838796760509062,
          "value": 5621
         },
         {
          "country": "Korea, South",
          "date": "2020-03-05T00:00:00",
          "days_since100": 14,
          "perc_growth": 1.0830813022593844,
          "value": 6088
         },
         {
          "country": "Korea, South",
          "date": "2020-03-06T00:00:00",
          "days_since100": 15,
          "perc_growth": 1.0829500657030224,
          "value": 6593
         },
         {
          "country": "Korea, South",
          "date": "2020-03-07T00:00:00",
          "days_since100": 16,
          "perc_growth": 1.067950856969513,
          "value": 7041
         },
         {
          "country": "Korea, South",
          "date": "2020-03-08T00:00:00",
          "days_since100": 17,
          "perc_growth": 1.0387729015764806,
          "value": 7314
         },
         {
          "country": "Korea, South",
          "date": "2020-03-09T00:00:00",
          "days_since100": 18,
          "perc_growth": 1.0224227508887065,
          "value": 7478
         },
         {
          "country": "Korea, South",
          "date": "2020-03-10T00:00:00",
          "days_since100": 19,
          "perc_growth": 1.0046803958277615,
          "value": 7513
         },
         {
          "country": "Korea, South",
          "date": "2020-03-11T00:00:00",
          "days_since100": 20,
          "perc_growth": 1.0322108345534406,
          "value": 7755
         },
         {
          "country": "Korea, South",
          "date": "2020-03-12T00:00:00",
          "days_since100": 21,
          "perc_growth": 1.0147001934235977,
          "value": 7869
         },
         {
          "country": "Korea, South",
          "date": "2020-03-13T00:00:00",
          "days_since100": 22,
          "perc_growth": 1.013978904562206,
          "value": 7979
         },
         {
          "country": "Korea, South",
          "date": "2020-03-14T00:00:00",
          "days_since100": 23,
          "perc_growth": 1.0134102017796716,
          "value": 8086
         },
         {
          "country": "Korea, South",
          "date": "2020-03-15T00:00:00",
          "days_since100": 24,
          "perc_growth": 1.0093989611674499,
          "value": 8162
         },
         {
          "country": "Spain",
          "date": "2020-03-02T00:00:00",
          "days_since100": 0,
          "perc_growth": null,
          "value": 120
         },
         {
          "country": "Spain",
          "date": "2020-03-03T00:00:00",
          "days_since100": 1,
          "perc_growth": 1.375,
          "value": 165
         },
         {
          "country": "Spain",
          "date": "2020-03-04T00:00:00",
          "days_since100": 2,
          "perc_growth": 1.3454545454545455,
          "value": 222
         },
         {
          "country": "Spain",
          "date": "2020-03-05T00:00:00",
          "days_since100": 3,
          "perc_growth": 1.1666666666666667,
          "value": 259
         },
         {
          "country": "Spain",
          "date": "2020-03-06T00:00:00",
          "days_since100": 4,
          "perc_growth": 1.5444015444015444,
          "value": 400
         },
         {
          "country": "Spain",
          "date": "2020-03-07T00:00:00",
          "days_since100": 5,
          "perc_growth": 1.25,
          "value": 500
         },
         {
          "country": "Spain",
          "date": "2020-03-08T00:00:00",
          "days_since100": 6,
          "perc_growth": 1.346,
          "value": 673
         },
         {
          "country": "Spain",
          "date": "2020-03-09T00:00:00",
          "days_since100": 7,
          "perc_growth": 1.5943536404160477,
          "value": 1073
         },
         {
          "country": "Spain",
          "date": "2020-03-10T00:00:00",
          "days_since100": 8,
          "perc_growth": 1.5796831314072692,
          "value": 1695
         },
         {
          "country": "Spain",
          "date": "2020-03-11T00:00:00",
          "days_since100": 9,
          "perc_growth": 1.343362831858407,
          "value": 2277
         },
         {
          "country": "Spain",
          "date": "2020-03-12T00:00:00",
          "days_since100": 10,
          "perc_growth": 1,
          "value": 2277
         },
         {
          "country": "Spain",
          "date": "2020-03-13T00:00:00",
          "days_since100": 11,
          "perc_growth": 2.297760210803689,
          "value": 5232
         },
         {
          "country": "Spain",
          "date": "2020-03-14T00:00:00",
          "days_since100": 12,
          "perc_growth": 1.2215214067278288,
          "value": 6391
         },
         {
          "country": "Spain",
          "date": "2020-03-15T00:00:00",
          "days_since100": 13,
          "perc_growth": 1.2201533406352683,
          "value": 7798
         },
         {
          "country": "US",
          "date": "2020-03-03T00:00:00",
          "days_since100": 0,
          "perc_growth": null,
          "value": 118
         },
         {
          "country": "US",
          "date": "2020-03-04T00:00:00",
          "days_since100": 1,
          "perc_growth": 1.2627118644067796,
          "value": 149
         },
         {
          "country": "US",
          "date": "2020-03-05T00:00:00",
          "days_since100": 2,
          "perc_growth": 1.4563758389261745,
          "value": 217
         },
         {
          "country": "US",
          "date": "2020-03-06T00:00:00",
          "days_since100": 3,
          "perc_growth": 1.207373271889401,
          "value": 262
         },
         {
          "country": "US",
          "date": "2020-03-07T00:00:00",
          "days_since100": 4,
          "perc_growth": 1.534351145038168,
          "value": 402
         },
         {
          "country": "US",
          "date": "2020-03-08T00:00:00",
          "days_since100": 5,
          "perc_growth": 1.2885572139303483,
          "value": 518
         },
         {
          "country": "US",
          "date": "2020-03-09T00:00:00",
          "days_since100": 6,
          "perc_growth": 1.1254826254826256,
          "value": 583
         },
         {
          "country": "US",
          "date": "2020-03-10T00:00:00",
          "days_since100": 7,
          "perc_growth": 1.6449399656946826,
          "value": 959
         },
         {
          "country": "US",
          "date": "2020-03-11T00:00:00",
          "days_since100": 8,
          "perc_growth": 1.3357664233576643,
          "value": 1281
         },
         {
          "country": "US",
          "date": "2020-03-12T00:00:00",
          "days_since100": 9,
          "perc_growth": 1.2982045277127245,
          "value": 1663
         },
         {
          "country": "US",
          "date": "2020-03-13T00:00:00",
          "days_since100": 10,
          "perc_growth": 1.3102826217678893,
          "value": 2179
         },
         {
          "country": "US",
          "date": "2020-03-14T00:00:00",
          "days_since100": 11,
          "perc_growth": 1.2514915098669115,
          "value": 2727
         },
         {
          "country": "US",
          "date": "2020-03-15T00:00:00",
          "days_since100": 12,
          "perc_growth": 1.2830949761642831,
          "value": 3499
         },
         {
          "country": "United Kingdom",
          "date": "2020-03-05T00:00:00",
          "days_since100": 0,
          "perc_growth": null,
          "value": 116
         },
         {
          "country": "United Kingdom",
          "date": "2020-03-06T00:00:00",
          "days_since100": 1,
          "perc_growth": 1.4137931034482758,
          "value": 164
         },
         {
          "country": "United Kingdom",
          "date": "2020-03-07T00:00:00",
          "days_since100": 2,
          "perc_growth": 1.2621951219512195,
          "value": 207
         },
         {
          "country": "United Kingdom",
          "date": "2020-03-08T00:00:00",
          "days_since100": 3,
          "perc_growth": 1.3236714975845412,
          "value": 274
         },
         {
          "country": "United Kingdom",
          "date": "2020-03-09T00:00:00",
          "days_since100": 4,
          "perc_growth": 1.1751824817518248,
          "value": 322
         },
         {
          "country": "United Kingdom",
          "date": "2020-03-10T00:00:00",
          "days_since100": 5,
          "perc_growth": 1.1925465838509317,
          "value": 384
         },
         {
          "country": "United Kingdom",
          "date": "2020-03-11T00:00:00",
          "days_since100": 6,
          "perc_growth": 1.1953125,
          "value": 459
         },
         {
          "country": "United Kingdom",
          "date": "2020-03-12T00:00:00",
          "days_since100": 7,
          "perc_growth": 1,
          "value": 459
         },
         {
          "country": "United Kingdom",
          "date": "2020-03-13T00:00:00",
          "days_since100": 8,
          "perc_growth": 1.7450980392156863,
          "value": 801
         },
         {
          "country": "United Kingdom",
          "date": "2020-03-14T00:00:00",
          "days_since100": 9,
          "perc_growth": 1.4269662921348314,
          "value": 1143
         },
         {
          "country": "United Kingdom",
          "date": "2020-03-15T00:00:00",
          "days_since100": 10,
          "perc_growth": 1.0008748906386702,
          "value": 1144
         }
        ]
       },
       "encoding": {
        "color": {
         "field": "country",
         "type": "nominal"
        },
        "x": {
         "field": "date",
         "title": "Days since 100th case",
         "type": "temporal"
        },
        "y": {
         "field": "perc_growth",
         "title": "Growth rate compared to previous day",
         "type": "quantitative"
        }
       },
       "height": 300,
       "mark": "line",
       "padding": {
        "bottom": 5,
        "left": 5,
        "right": 5,
        "top": 50
       },
       "title": "Growth rates of COVID-19 cases across countries",
       "width": 500
      },
      "image/png": "[encoded data removed]",
      "text/plain": [
       "<VegaLite 3 object>\n",
       "\n",
       "If you see this message, it means the renderer has not been properly enabled\n",
       "for the frontend that you are using. For more information, see\n",
       "https://altair-viz.github.io/user_guide/troubleshooting.html\n"
      ]
     },
     "execution_count": 17,
     "metadata": {},
     "output_type": "execute_result"
    }
   ],
   "source": [
    "chart_growth_rates"
   ]
  },
  {
   "cell_type": "code",
   "execution_count": 19,
   "metadata": {},
   "outputs": [],
   "source": [
    "chart_growth_rates.save('./charts/growth_rates.svg', webdriver='firefox')"
   ]
  },
  {
   "cell_type": "markdown",
   "metadata": {},
   "source": [
    "## Cases per 10^6 inhabitants"
   ]
  },
  {
   "cell_type": "code",
   "execution_count": 20,
   "metadata": {},
   "outputs": [],
   "source": [
    "population = {\n",
    "    'France':65129728,\n",
    "    'Germany':83517045,\n",
    "    'Italy':60550075,\n",
    "    'Korea, South':51225308,\n",
    "    'Spain':46736776,\n",
    "    'US':329064917,\n",
    "    'United Kingdom': 67530172,\n",
    "}"
   ]
  },
  {
   "cell_type": "code",
   "execution_count": 21,
   "metadata": {},
   "outputs": [],
   "source": [
    "confirmed_sel['cases_per1m'] = np.nan\n",
    "for name, group in confirmed_sel.loc[:,['country','value']].groupby('country'):\n",
    "    for i in range(0,len(group)):\n",
    "        cases = group.loc[group.index.values[i],'value']\n",
    "        cases_per = cases/(population[name]/10**6)\n",
    "        confirmed_sel.loc[group.index.values[i],'cases_per1m'] = cases_per"
   ]
  },
  {
   "cell_type": "code",
   "execution_count": 22,
   "metadata": {},
   "outputs": [],
   "source": [
    "chart_cases_per_1m = alt.Chart(\n",
    "    confirmed_sel, \n",
    "    height=300,\n",
    "    title='Development of confirmed COVID-19 cases per 1m inhabitants'\n",
    ").mark_line().encode(\n",
    "    alt.X('days_since100:Q', title='Days since 100th case'),\n",
    "    alt.Y(\n",
    "        'cases_per1m:Q',\n",
    "        title='Cases per 1m inhabitants'\n",
    "    ),\n",
    "    color='country:N')"
   ]
  },
  {
   "cell_type": "code",
   "execution_count": 23,
   "metadata": {},
   "outputs": [
    {
     "data": {
      "application/vnd.vegalite.v3+json": {
       "$schema": "https://vega.github.io/schema/vega-lite/v3.4.0.json",
       "config": {
        "area": {
         "fill": "#1696d2"
        },
        "axisX": {
         "domain": true,
         "domainColor": "#DEDDDD",
         "domainDashOffset": 10,
         "domainWidth": 1,
         "grid": false,
         "labelAngle": 0,
         "labelFont": "Avenir",
         "labelFontSize": 10,
         "tickColor": "#DEDDDD",
         "titleFont": "Avenir",
         "titleFontSize": 12,
         "titleFontWeight": 400,
         "titlePadding": 10
        },
        "axisY": {
         "domain": false,
         "domainDashOffset": 10,
         "grid": true,
         "gridColor": "#DEDDDD",
         "gridDash": [
          5,
          2
         ],
         "gridWidth": 1,
         "labelAngle": 0,
         "labelFont": "Avenir",
         "labelFontSize": 10,
         "titleFont": "Avenir",
         "titleFontSize": 12,
         "titleFontWeight": 400,
         "titlePadding": 10
        },
        "bar": {
         "fill": "#1696d2",
         "strokeWidth": 0
        },
        "guide-title": {
         "color": "Monospace",
         "font": "Avenir",
         "fontSize": 15
        },
        "header": {
         "titleFontSize": 12,
         "titleFontWeight": 400
        },
        "legend": {
         "labelFont": "Avenir",
         "labelFontSize": 12,
         "symbolSize": 50,
         "symbolType": "circle",
         "title": "",
         "titleFont": "Avenir",
         "titleFontSize": 12
        },
        "line": {
         "color": "#1696d2",
         "stroke": "#1696d2",
         "strokeWidth": 1
        },
        "path": {
         "stroke": "#1696d2"
        },
        "point": {
         "filled": true
        },
        "range": {
         "category": [
          "#a6cee3",
          "#1f78b4",
          "#b2df8a",
          "#33a02c",
          "#fb9a99",
          "#e31a1c",
          "#fdbf6f",
          "#ff7f00"
         ],
         "diverging": [
          "#cfe8f3",
          "#a2d4ec",
          "#73bfe2",
          "#46abdb",
          "#1696d2",
          "#12719e"
         ]
        },
        "text": {
         "align": "right",
         "color": "#1696d2",
         "font": "Avenir",
         "fontSize": 12,
         "fontWeight": 400,
         "size": 11
        },
        "title": {
         "anchor": "start",
         "color": "#4d4d4d",
         "font": "Avenir",
         "fontSize": 20,
         "fontWeight": 300,
         "lineHeight": 100,
         "offset": 30
        },
        "trail": {
         "color": "#1696d2",
         "stroke": "#1696d2"
        },
        "view": {
         "strokeWidth": 0
        }
       },
       "data": {
        "name": "data-d72dc117d29002a3d56e00ae046c17a4"
       },
       "datasets": {
        "data-d72dc117d29002a3d56e00ae046c17a4": [
         {
          "cases_per1m": 1.5353971691698145,
          "country": "France",
          "date": "2020-02-29T00:00:00",
          "days_since100": 0,
          "perc_growth": null,
          "value": 100
         },
         {
          "cases_per1m": 1.9960163199207588,
          "country": "France",
          "date": "2020-03-01T00:00:00",
          "days_since100": 1,
          "perc_growth": 1.3,
          "value": 130
         },
         {
          "cases_per1m": 2.9326085931143457,
          "country": "France",
          "date": "2020-03-02T00:00:00",
          "days_since100": 2,
          "perc_growth": 1.4692307692307693,
          "value": 191
         },
         {
          "cases_per1m": 3.1322102251064217,
          "country": "France",
          "date": "2020-03-03T00:00:00",
          "days_since100": 3,
          "perc_growth": 1.068062827225131,
          "value": 204
         },
         {
          "cases_per1m": 4.421943847209065,
          "country": "France",
          "date": "2020-03-04T00:00:00",
          "days_since100": 4,
          "perc_growth": 1.411764705882353,
          "value": 288
         },
         {
          "cases_per1m": 5.834509242845295,
          "country": "France",
          "date": "2020-03-05T00:00:00",
          "days_since100": 5,
          "perc_growth": 1.3194444444444444,
          "value": 380
         },
         {
          "cases_per1m": 10.072205429753982,
          "country": "France",
          "date": "2020-03-06T00:00:00",
          "days_since100": 6,
          "perc_growth": 1.7263157894736842,
          "value": 656
         },
         {
          "cases_per1m": 14.693750908955124,
          "country": "France",
          "date": "2020-03-07T00:00:00",
          "days_since100": 7,
          "perc_growth": 1.458841463414634,
          "value": 957
         },
         {
          "cases_per1m": 17.411403898385696,
          "country": "France",
          "date": "2020-03-08T00:00:00",
          "days_since100": 8,
          "perc_growth": 1.1849529780564263,
          "value": 1134
         },
         {
          "cases_per1m": 18.685783548796643,
          "country": "France",
          "date": "2020-03-09T00:00:00",
          "days_since100": 9,
          "perc_growth": 1.0731922398589064,
          "value": 1217
         },
         {
          "cases_per1m": 27.514317271523076,
          "country": "France",
          "date": "2020-03-10T00:00:00",
          "days_since100": 10,
          "perc_growth": 1.4724732949876747,
          "value": 1792
         },
         {
          "cases_per1m": 35.14524120229705,
          "country": "France",
          "date": "2020-03-11T00:00:00",
          "days_since100": 11,
          "perc_growth": 1.27734375,
          "value": 2289
         },
         {
          "cases_per1m": 35.14524120229705,
          "country": "France",
          "date": "2020-03-12T00:00:00",
          "days_since100": 12,
          "perc_growth": 1,
          "value": 2289
         },
         {
          "cases_per1m": 56.379784051915586,
          "country": "France",
          "date": "2020-03-13T00:00:00",
          "days_since100": 13,
          "perc_growth": 1.6041939711664481,
          "value": 3672
         },
         {
          "cases_per1m": 68.78579317880768,
          "country": "France",
          "date": "2020-03-14T00:00:00",
          "days_since100": 14,
          "perc_growth": 1.2200435729847494,
          "value": 4480
         },
         {
          "cases_per1m": 69.29247424463372,
          "country": "France",
          "date": "2020-03-15T00:00:00",
          "days_since100": 15,
          "perc_growth": 1.0073660714285715,
          "value": 4513
         },
         {
          "cases_per1m": 1.5565684825175508,
          "country": "Germany",
          "date": "2020-03-01T00:00:00",
          "days_since100": 0,
          "perc_growth": null,
          "value": 130
         },
         {
          "cases_per1m": 1.9038029901560813,
          "country": "Germany",
          "date": "2020-03-02T00:00:00",
          "days_since100": 1,
          "perc_growth": 1.2230769230769232,
          "value": 159
         },
         {
          "cases_per1m": 2.346826327488,
          "country": "Germany",
          "date": "2020-03-03T00:00:00",
          "days_since100": 2,
          "perc_growth": 1.2327044025157232,
          "value": 196
         },
         {
          "cases_per1m": 3.1370841724584486,
          "country": "Germany",
          "date": "2020-03-04T00:00:00",
          "days_since100": 3,
          "perc_growth": 1.336734693877551,
          "value": 262
         },
         {
          "cases_per1m": 5.771276989026611,
          "country": "Germany",
          "date": "2020-03-05T00:00:00",
          "days_since100": 4,
          "perc_growth": 1.8396946564885497,
          "value": 482
         },
         {
          "cases_per1m": 8.022314486821223,
          "country": "Germany",
          "date": "2020-03-06T00:00:00",
          "days_since100": 5,
          "perc_growth": 1.3900414937759336,
          "value": 670
         },
         {
          "cases_per1m": 9.566909365627101,
          "country": "Germany",
          "date": "2020-03-07T00:00:00",
          "days_since100": 6,
          "perc_growth": 1.1925373134328359,
          "value": 799
         },
         {
          "cases_per1m": 12.452547860140406,
          "country": "Germany",
          "date": "2020-03-08T00:00:00",
          "days_since100": 7,
          "perc_growth": 1.3016270337922402,
          "value": 1040
         },
         {
          "cases_per1m": 14.080957964927999,
          "country": "Germany",
          "date": "2020-03-09T00:00:00",
          "days_since100": 8,
          "perc_growth": 1.1307692307692307,
          "value": 1176
         },
         {
          "cases_per1m": 17.445540607908242,
          "country": "Germany",
          "date": "2020-03-10T00:00:00",
          "days_since100": 9,
          "perc_growth": 1.2389455782312926,
          "value": 1457
         },
         {
          "cases_per1m": 22.845635881872976,
          "country": "Germany",
          "date": "2020-03-11T00:00:00",
          "days_since100": 10,
          "perc_growth": 1.3095401509951956,
          "value": 1908
         },
         {
          "cases_per1m": 24.881148512857468,
          "country": "Germany",
          "date": "2020-03-12T00:00:00",
          "days_since100": 11,
          "perc_growth": 1.0890985324947589,
          "value": 2078
         },
         {
          "cases_per1m": 44.00299364039999,
          "country": "Germany",
          "date": "2020-03-13T00:00:00",
          "days_since100": 12,
          "perc_growth": 1.7685274302213667,
          "value": 3675
         },
         {
          "cases_per1m": 54.89897301802285,
          "country": "Germany",
          "date": "2020-03-14T00:00:00",
          "days_since100": 13,
          "perc_growth": 1.2476190476190476,
          "value": 4585
         },
         {
          "cases_per1m": 69.38703350914774,
          "country": "Germany",
          "date": "2020-03-15T00:00:00",
          "days_since100": 14,
          "perc_growth": 1.2639040348964012,
          "value": 5795
         },
         {
          "cases_per1m": 2.5598647070214198,
          "country": "Italy",
          "date": "2020-02-23T00:00:00",
          "days_since100": 0,
          "perc_growth": null,
          "value": 155
         },
         {
          "cases_per1m": 3.781993663921969,
          "country": "Italy",
          "date": "2020-02-24T00:00:00",
          "days_since100": 1,
          "perc_growth": 1.4774193548387098,
          "value": 229
         },
         {
          "cases_per1m": 5.31791248813482,
          "country": "Italy",
          "date": "2020-02-25T00:00:00",
          "days_since100": 2,
          "perc_growth": 1.4061135371179039,
          "value": 322
         },
         {
          "cases_per1m": 7.481411046972279,
          "country": "Italy",
          "date": "2020-02-26T00:00:00",
          "days_since100": 3,
          "perc_growth": 1.406832298136646,
          "value": 453
         },
         {
          "cases_per1m": 10.81749279418729,
          "country": "Italy",
          "date": "2020-02-27T00:00:00",
          "days_since100": 4,
          "perc_growth": 1.445916114790287,
          "value": 655
         },
         {
          "cases_per1m": 14.665547482806586,
          "country": "Italy",
          "date": "2020-02-28T00:00:00",
          "days_since100": 5,
          "perc_growth": 1.3557251908396946,
          "value": 888
         },
         {
          "cases_per1m": 18.629208964646203,
          "country": "Italy",
          "date": "2020-02-29T00:00:00",
          "days_since100": 6,
          "perc_growth": 1.2702702702702702,
          "value": 1128
         },
         {
          "cases_per1m": 27.976843959317968,
          "country": "Italy",
          "date": "2020-03-01T00:00:00",
          "days_since100": 7,
          "perc_growth": 1.50177304964539,
          "value": 1694
         },
         {
          "cases_per1m": 33.62506157093942,
          "country": "Italy",
          "date": "2020-03-02T00:00:00",
          "days_since100": 8,
          "perc_growth": 1.2018890200708383,
          "value": 2036
         },
         {
          "cases_per1m": 41.321170948178015,
          "country": "Italy",
          "date": "2020-03-03T00:00:00",
          "days_since100": 9,
          "perc_growth": 1.2288801571709234,
          "value": 2502
         },
         {
          "cases_per1m": 51.01562632251075,
          "country": "Italy",
          "date": "2020-03-04T00:00:00",
          "days_since100": 10,
          "perc_growth": 1.2346123101518784,
          "value": 3089
         },
         {
          "cases_per1m": 63.715858320571854,
          "country": "Italy",
          "date": "2020-03-05T00:00:00",
          "days_since100": 11,
          "perc_growth": 1.2489478795726772,
          "value": 3858
         },
         {
          "cases_per1m": 76.56472762420195,
          "country": "Italy",
          "date": "2020-03-06T00:00:00",
          "days_since100": 12,
          "perc_growth": 1.2016588906169,
          "value": 4636
         },
         {
          "cases_per1m": 97.15925207359363,
          "country": "Italy",
          "date": "2020-03-07T00:00:00",
          "days_since100": 13,
          "perc_growth": 1.2689818809318378,
          "value": 5883
         },
         {
          "cases_per1m": 121.80001428569659,
          "country": "Italy",
          "date": "2020-03-08T00:00:00",
          "days_since100": 14,
          "perc_growth": 1.2536121026687064,
          "value": 7375
         },
         {
          "cases_per1m": 151.47792963097072,
          "country": "Italy",
          "date": "2020-03-09T00:00:00",
          "days_since100": 15,
          "perc_growth": 1.2436610169491524,
          "value": 9172
         },
         {
          "cases_per1m": 167.61333491329285,
          "country": "Italy",
          "date": "2020-03-10T00:00:00",
          "days_since100": 16,
          "perc_growth": 1.1065198430004362,
          "value": 10149
         },
         {
          "cases_per1m": 205.81312244452215,
          "country": "Italy",
          "date": "2020-03-11T00:00:00",
          "days_since100": 17,
          "perc_growth": 1.22790422701744,
          "value": 12462
         },
         {
          "cases_per1m": 205.81312244452215,
          "country": "Italy",
          "date": "2020-03-12T00:00:00",
          "days_since100": 18,
          "perc_growth": 1,
          "value": 12462
         },
         {
          "cases_per1m": 291.65942403869855,
          "country": "Italy",
          "date": "2020-03-13T00:00:00",
          "days_since100": 19,
          "perc_growth": 1.41710800834537,
          "value": 17660
         },
         {
          "cases_per1m": 349.41327488033664,
          "country": "Italy",
          "date": "2020-03-14T00:00:00",
          "days_since100": 20,
          "perc_growth": 1.1980181200453002,
          "value": 21157
         },
         {
          "cases_per1m": 408.7030445461876,
          "country": "Italy",
          "date": "2020-03-15T00:00:00",
          "days_since100": 21,
          "perc_growth": 1.1696837925981944,
          "value": 24747
         },
         {
          "cases_per1m": 2.030246455521556,
          "country": "Korea, South",
          "date": "2020-02-20T00:00:00",
          "days_since100": 0,
          "perc_growth": null,
          "value": 104
         },
         {
          "cases_per1m": 3.9824065089076672,
          "country": "Korea, South",
          "date": "2020-02-21T00:00:00",
          "days_since100": 1,
          "perc_growth": 1.9615384615384615,
          "value": 204
         },
         {
          "cases_per1m": 8.452853031161863,
          "country": "Korea, South",
          "date": "2020-02-22T00:00:00",
          "days_since100": 2,
          "perc_growth": 2.122549019607843,
          "value": 433
         },
         {
          "cases_per1m": 11.752003521384392,
          "country": "Korea, South",
          "date": "2020-02-23T00:00:00",
          "days_since100": 3,
          "perc_growth": 1.3903002309468822,
          "value": 602
         },
         {
          "cases_per1m": 16.26149324470631,
          "country": "Korea, South",
          "date": "2020-02-24T00:00:00",
          "days_since100": 4,
          "perc_growth": 1.3837209302325582,
          "value": 833
         },
         {
          "cases_per1m": 19.072603721582308,
          "country": "Korea, South",
          "date": "2020-02-25T00:00:00",
          "days_since100": 5,
          "perc_growth": 1.1728691476590636,
          "value": 977
         },
         {
          "cases_per1m": 24.616738273198866,
          "country": "Korea, South",
          "date": "2020-02-26T00:00:00",
          "days_since100": 6,
          "perc_growth": 1.2906857727737973,
          "value": 1261
         },
         {
          "cases_per1m": 34.475146542798726,
          "country": "Korea, South",
          "date": "2020-02-27T00:00:00",
          "days_since100": 7,
          "perc_growth": 1.4004758128469468,
          "value": 1766
         },
         {
          "cases_per1m": 45.621980447633426,
          "country": "Korea, South",
          "date": "2020-02-28T00:00:00",
          "days_since100": 8,
          "perc_growth": 1.3233295583238958,
          "value": 2337
         },
         {
          "cases_per1m": 61.49304168166251,
          "country": "Korea, South",
          "date": "2020-02-29T00:00:00",
          "days_since100": 9,
          "perc_growth": 1.3478818998716302,
          "value": 3150
         },
         {
          "cases_per1m": 72.93269959450512,
          "country": "Korea, South",
          "date": "2020-03-01T00:00:00",
          "days_since100": 10,
          "perc_growth": 1.186031746031746,
          "value": 3736
         },
         {
          "cases_per1m": 84.62613831428793,
          "country": "Korea, South",
          "date": "2020-03-02T00:00:00",
          "days_since100": 11,
          "perc_growth": 1.1603319057815846,
          "value": 4335
         },
         {
          "cases_per1m": 101.23902036860375,
          "country": "Korea, South",
          "date": "2020-03-03T00:00:00",
          "days_since100": 12,
          "perc_growth": 1.1963091118800462,
          "value": 5186
         },
         {
          "cases_per1m": 109.73091660083332,
          "country": "Korea, South",
          "date": "2020-03-04T00:00:00",
          "days_since100": 13,
          "perc_growth": 1.0838796760509062,
          "value": 5621
         },
         {
          "cases_per1m": 118.84750405014647,
          "country": "Korea, South",
          "date": "2020-03-05T00:00:00",
          "days_since100": 14,
          "perc_growth": 1.0830813022593844,
          "value": 6088
         },
         {
          "cases_per1m": 128.70591231974632,
          "country": "Korea, South",
          "date": "2020-03-06T00:00:00",
          "days_since100": 15,
          "perc_growth": 1.0829500657030224,
          "value": 6593
         },
         {
          "cases_per1m": 137.4515893589161,
          "country": "Korea, South",
          "date": "2020-03-07T00:00:00",
          "days_since100": 16,
          "perc_growth": 1.067950856969513,
          "value": 7041
         },
         {
          "cases_per1m": 142.7809863046602,
          "country": "Korea, South",
          "date": "2020-03-08T00:00:00",
          "days_since100": 17,
          "perc_growth": 1.0387729015764806,
          "value": 7314
         },
         {
          "cases_per1m": 145.98252879221343,
          "country": "Korea, South",
          "date": "2020-03-09T00:00:00",
          "days_since100": 18,
          "perc_growth": 1.0224227508887065,
          "value": 7478
         },
         {
          "cases_per1m": 146.66578481089854,
          "country": "Korea, South",
          "date": "2020-03-10T00:00:00",
          "days_since100": 19,
          "perc_growth": 1.0046803958277615,
          "value": 7513
         },
         {
          "cases_per1m": 151.39001214009295,
          "country": "Korea, South",
          "date": "2020-03-11T00:00:00",
          "days_since100": 20,
          "perc_growth": 1.0322108345534406,
          "value": 7755
         },
         {
          "cases_per1m": 153.61547460095312,
          "country": "Korea, South",
          "date": "2020-03-12T00:00:00",
          "days_since100": 21,
          "perc_growth": 1.0147001934235977,
          "value": 7869
         },
         {
          "cases_per1m": 155.76285065967784,
          "country": "Korea, South",
          "date": "2020-03-13T00:00:00",
          "days_since100": 22,
          "perc_growth": 1.013978904562206,
          "value": 7979
         },
         {
          "cases_per1m": 157.85166191680096,
          "country": "Korea, South",
          "date": "2020-03-14T00:00:00",
          "days_since100": 23,
          "perc_growth": 1.0134102017796716,
          "value": 8086
         },
         {
          "cases_per1m": 159.33530355737443,
          "country": "Korea, South",
          "date": "2020-03-15T00:00:00",
          "days_since100": 24,
          "perc_growth": 1.0093989611674499,
          "value": 8162
         },
         {
          "cases_per1m": 2.567571199177282,
          "country": "Spain",
          "date": "2020-03-02T00:00:00",
          "days_since100": 0,
          "perc_growth": null,
          "value": 120
         },
         {
          "cases_per1m": 3.5304103988687623,
          "country": "Spain",
          "date": "2020-03-03T00:00:00",
          "days_since100": 1,
          "perc_growth": 1.375,
          "value": 165
         },
         {
          "cases_per1m": 4.750006718477971,
          "country": "Spain",
          "date": "2020-03-04T00:00:00",
          "days_since100": 2,
          "perc_growth": 1.3454545454545455,
          "value": 222
         },
         {
          "cases_per1m": 5.541674504890967,
          "country": "Spain",
          "date": "2020-03-05T00:00:00",
          "days_since100": 3,
          "perc_growth": 1.1666666666666667,
          "value": 259
         },
         {
          "cases_per1m": 8.558570663924273,
          "country": "Spain",
          "date": "2020-03-06T00:00:00",
          "days_since100": 4,
          "perc_growth": 1.5444015444015444,
          "value": 400
         },
         {
          "cases_per1m": 10.698213329905341,
          "country": "Spain",
          "date": "2020-03-07T00:00:00",
          "days_since100": 5,
          "perc_growth": 1.25,
          "value": 500
         },
         {
          "cases_per1m": 14.39979514205259,
          "country": "Spain",
          "date": "2020-03-08T00:00:00",
          "days_since100": 6,
          "perc_growth": 1.346,
          "value": 673
         },
         {
          "cases_per1m": 22.95836580597686,
          "country": "Spain",
          "date": "2020-03-09T00:00:00",
          "days_since100": 7,
          "perc_growth": 1.5943536404160477,
          "value": 1073
         },
         {
          "cases_per1m": 36.2669431883791,
          "country": "Spain",
          "date": "2020-03-10T00:00:00",
          "days_since100": 8,
          "perc_growth": 1.5796831314072692,
          "value": 1695
         },
         {
          "cases_per1m": 48.71966350438892,
          "country": "Spain",
          "date": "2020-03-11T00:00:00",
          "days_since100": 9,
          "perc_growth": 1.343362831858407,
          "value": 2277
         },
         {
          "cases_per1m": 48.71966350438892,
          "country": "Spain",
          "date": "2020-03-12T00:00:00",
          "days_since100": 10,
          "perc_growth": 1,
          "value": 2277
         },
         {
          "cases_per1m": 111.94610428412949,
          "country": "Spain",
          "date": "2020-03-13T00:00:00",
          "days_since100": 11,
          "perc_growth": 2.297760210803689,
          "value": 5232
         },
         {
          "cases_per1m": 136.74456278285007,
          "country": "Spain",
          "date": "2020-03-14T00:00:00",
          "days_since100": 12,
          "perc_growth": 1.2215214067278288,
          "value": 6391
         },
         {
          "cases_per1m": 166.8493350932037,
          "country": "Spain",
          "date": "2020-03-15T00:00:00",
          "days_since100": 13,
          "perc_growth": 1.2201533406352683,
          "value": 7798
         },
         {
          "cases_per1m": 0.3585918580314656,
          "country": "US",
          "date": "2020-03-03T00:00:00",
          "days_since100": 0,
          "perc_growth": null,
          "value": 118
         },
         {
          "cases_per1m": 0.45279819361600315,
          "country": "US",
          "date": "2020-03-04T00:00:00",
          "days_since100": 1,
          "perc_growth": 1.2627118644067796,
          "value": 149
         },
         {
          "cases_per1m": 0.659444349091763,
          "country": "US",
          "date": "2020-03-05T00:00:00",
          "days_since100": 2,
          "perc_growth": 1.4563758389261745,
          "value": 217
         },
         {
          "cases_per1m": 0.7961954813918982,
          "country": "US",
          "date": "2020-03-06T00:00:00",
          "days_since100": 3,
          "perc_growth": 1.207373271889401,
          "value": 262
         },
         {
          "cases_per1m": 1.2216434485478742,
          "country": "US",
          "date": "2020-03-07T00:00:00",
          "days_since100": 4,
          "perc_growth": 1.534351145038168,
          "value": 402
         },
         {
          "cases_per1m": 1.5741574784771117,
          "country": "US",
          "date": "2020-03-08T00:00:00",
          "days_since100": 5,
          "perc_growth": 1.2885572139303483,
          "value": 518
         },
         {
          "cases_per1m": 1.7716868917995292,
          "country": "US",
          "date": "2020-03-09T00:00:00",
          "days_since100": 6,
          "perc_growth": 1.1254826254826256,
          "value": 583
         },
         {
          "cases_per1m": 2.9143185750184366,
          "country": "US",
          "date": "2020-03-10T00:00:00",
          "days_since100": 7,
          "perc_growth": 1.6449399656946826,
          "value": 959
         },
         {
          "cases_per1m": 3.8928488994771815,
          "country": "US",
          "date": "2020-03-11T00:00:00",
          "days_since100": 8,
          "perc_growth": 1.3357664233576643,
          "value": 1281
         },
         {
          "cases_per1m": 5.053714067002773,
          "country": "US",
          "date": "2020-03-12T00:00:00",
          "days_since100": 9,
          "perc_growth": 1.2982045277127245,
          "value": 1663
         },
         {
          "cases_per1m": 6.621793717377657,
          "country": "US",
          "date": "2020-03-13T00:00:00",
          "days_since100": 10,
          "perc_growth": 1.3102826217678893,
          "value": 2179
         },
         {
          "cases_per1m": 8.287118617388192,
          "country": "US",
          "date": "2020-03-14T00:00:00",
          "days_since100": 11,
          "perc_growth": 1.2514915098669115,
          "value": 2727
         },
         {
          "cases_per1m": 10.63316026484829,
          "country": "US",
          "date": "2020-03-15T00:00:00",
          "days_since100": 12,
          "perc_growth": 1.2830949761642831,
          "value": 3499
         },
         {
          "cases_per1m": 1.7177506966811815,
          "country": "United Kingdom",
          "date": "2020-03-05T00:00:00",
          "days_since100": 0,
          "perc_growth": null,
          "value": 116
         },
         {
          "cases_per1m": 2.4285440884113254,
          "country": "United Kingdom",
          "date": "2020-03-06T00:00:00",
          "days_since100": 1,
          "perc_growth": 1.4137931034482758,
          "value": 164
         },
         {
          "cases_per1m": 3.0652965018362464,
          "country": "United Kingdom",
          "date": "2020-03-07T00:00:00",
          "days_since100": 2,
          "perc_growth": 1.2621951219512195,
          "value": 207
         },
         {
          "cases_per1m": 4.057445611126239,
          "country": "United Kingdom",
          "date": "2020-03-08T00:00:00",
          "days_since100": 3,
          "perc_growth": 1.3236714975845412,
          "value": 274
         },
         {
          "cases_per1m": 4.768239002856383,
          "country": "United Kingdom",
          "date": "2020-03-09T00:00:00",
          "days_since100": 4,
          "perc_growth": 1.1751824817518248,
          "value": 322
         },
         {
          "cases_per1m": 5.686347133841152,
          "country": "United Kingdom",
          "date": "2020-03-10T00:00:00",
          "days_since100": 5,
          "perc_growth": 1.1925465838509317,
          "value": 384
         },
         {
          "cases_per1m": 6.7969618084195025,
          "country": "United Kingdom",
          "date": "2020-03-11T00:00:00",
          "days_since100": 6,
          "perc_growth": 1.1953125,
          "value": 459
         },
         {
          "cases_per1m": 6.7969618084195025,
          "country": "United Kingdom",
          "date": "2020-03-12T00:00:00",
          "days_since100": 7,
          "perc_growth": 1,
          "value": 459
         },
         {
          "cases_per1m": 11.861364724496779,
          "country": "United Kingdom",
          "date": "2020-03-13T00:00:00",
          "days_since100": 8,
          "perc_growth": 1.7450980392156863,
          "value": 801
         },
         {
          "cases_per1m": 16.925767640574055,
          "country": "United Kingdom",
          "date": "2020-03-14T00:00:00",
          "days_since100": 9,
          "perc_growth": 1.4269662921348314,
          "value": 1143
         },
         {
          "cases_per1m": 16.940575836235098,
          "country": "United Kingdom",
          "date": "2020-03-15T00:00:00",
          "days_since100": 10,
          "perc_growth": 1.0008748906386702,
          "value": 1144
         }
        ]
       },
       "encoding": {
        "color": {
         "field": "country",
         "type": "nominal"
        },
        "x": {
         "field": "days_since100",
         "title": "Days since 100th case",
         "type": "quantitative"
        },
        "y": {
         "field": "cases_per1m",
         "title": "Cases per 1m inhabitants",
         "type": "quantitative"
        }
       },
       "height": 300,
       "mark": "line",
       "padding": {
        "bottom": 5,
        "left": 5,
        "right": 5,
        "top": 50
       },
       "title": "Development of confirmed COVID-19 cases per 1m inhabitants",
       "width": 500
      },
      "image/png": "[encoded data removed]",
      "text/plain": [
       "<VegaLite 3 object>\n",
       "\n",
       "If you see this message, it means the renderer has not been properly enabled\n",
       "for the frontend that you are using. For more information, see\n",
       "https://altair-viz.github.io/user_guide/troubleshooting.html\n"
      ]
     },
     "execution_count": 23,
     "metadata": {},
     "output_type": "execute_result"
    }
   ],
   "source": [
    "chart_cases_per_1m"
   ]
  },
  {
   "cell_type": "code",
   "execution_count": 25,
   "metadata": {},
   "outputs": [],
   "source": [
    "chart_cases_per_1m.save('./charts/cases_per_1m.svg', webdriver='firefox')"
   ]
  },
  {
   "cell_type": "markdown",
   "metadata": {},
   "source": [
    "## Cases per Intensive Care Units (ICU)"
   ]
  },
  {
   "cell_type": "markdown",
   "metadata": {},
   "source": [
    "Definitions of ICUs vary a lot between countries. Numbers have to be viewed with care...\n",
    "https://www.ncbi.nlm.nih.gov/pmc/articles/PMC3568952/#B12\n",
    "https://www.ncbi.nlm.nih.gov/pmc/articles/PMC3551445/"
   ]
  },
  {
   "cell_type": "code",
   "execution_count": 26,
   "metadata": {},
   "outputs": [],
   "source": [
    "icu_per_100000 = {\n",
    "    'France':np.nan,\n",
    "    'Germany':25,\n",
    "    'Italy':np.nan,\n",
    "    'Korea, South':np.nan,\n",
    "    'Spain':10,\n",
    "    'US':np.nan,\n",
    "    'United Kingdom': 3,\n",
    "}"
   ]
  },
  {
   "cell_type": "code",
   "execution_count": 27,
   "metadata": {},
   "outputs": [],
   "source": [
    "confirmed_sel['cases_perICU'] = np.nan\n",
    "for name, group in confirmed_sel.loc[:,['country','value']].groupby('country'):\n",
    "    for i in range(0,len(group)):\n",
    "        cases = group.loc[group.index.values[i],'value']\n",
    "        cases_per = cases/(icu_per_100000[name]*population[name]/10**5)\n",
    "        confirmed_sel.loc[group.index.values[i],'cases_perICU'] = cases_per"
   ]
  },
  {
   "cell_type": "code",
   "execution_count": 28,
   "metadata": {},
   "outputs": [],
   "source": [
    "chart_cases_per_icu = alt.Chart(\n",
    "    confirmed_sel, \n",
    "    height=300,\n",
    "    title='Development of confirmed COVID-19 cases per ICU'\n",
    ").mark_line().encode(\n",
    "    alt.X('days_since100:Q', title='Days since 100th case'),\n",
    "    alt.Y(\n",
    "        'cases_perICU:Q',\n",
    "        title='Cases per ICU'\n",
    "    ),\n",
    "    color='country:N')"
   ]
  },
  {
   "cell_type": "code",
   "execution_count": 29,
   "metadata": {},
   "outputs": [
    {
     "data": {
      "application/vnd.vegalite.v3+json": {
       "$schema": "https://vega.github.io/schema/vega-lite/v3.4.0.json",
       "config": {
        "area": {
         "fill": "#1696d2"
        },
        "axisX": {
         "domain": true,
         "domainColor": "#DEDDDD",
         "domainDashOffset": 10,
         "domainWidth": 1,
         "grid": false,
         "labelAngle": 0,
         "labelFont": "Avenir",
         "labelFontSize": 10,
         "tickColor": "#DEDDDD",
         "titleFont": "Avenir",
         "titleFontSize": 12,
         "titleFontWeight": 400,
         "titlePadding": 10
        },
        "axisY": {
         "domain": false,
         "domainDashOffset": 10,
         "grid": true,
         "gridColor": "#DEDDDD",
         "gridDash": [
          5,
          2
         ],
         "gridWidth": 1,
         "labelAngle": 0,
         "labelFont": "Avenir",
         "labelFontSize": 10,
         "titleFont": "Avenir",
         "titleFontSize": 12,
         "titleFontWeight": 400,
         "titlePadding": 10
        },
        "bar": {
         "fill": "#1696d2",
         "strokeWidth": 0
        },
        "guide-title": {
         "color": "Monospace",
         "font": "Avenir",
         "fontSize": 15
        },
        "header": {
         "titleFontSize": 12,
         "titleFontWeight": 400
        },
        "legend": {
         "labelFont": "Avenir",
         "labelFontSize": 12,
         "symbolSize": 50,
         "symbolType": "circle",
         "title": "",
         "titleFont": "Avenir",
         "titleFontSize": 12
        },
        "line": {
         "color": "#1696d2",
         "stroke": "#1696d2",
         "strokeWidth": 1
        },
        "path": {
         "stroke": "#1696d2"
        },
        "point": {
         "filled": true
        },
        "range": {
         "category": [
          "#a6cee3",
          "#1f78b4",
          "#b2df8a",
          "#33a02c",
          "#fb9a99",
          "#e31a1c",
          "#fdbf6f",
          "#ff7f00"
         ],
         "diverging": [
          "#cfe8f3",
          "#a2d4ec",
          "#73bfe2",
          "#46abdb",
          "#1696d2",
          "#12719e"
         ]
        },
        "text": {
         "align": "right",
         "color": "#1696d2",
         "font": "Avenir",
         "fontSize": 12,
         "fontWeight": 400,
         "size": 11
        },
        "title": {
         "anchor": "start",
         "color": "#4d4d4d",
         "font": "Avenir",
         "fontSize": 20,
         "fontWeight": 300,
         "lineHeight": 100,
         "offset": 30
        },
        "trail": {
         "color": "#1696d2",
         "stroke": "#1696d2"
        },
        "view": {
         "strokeWidth": 0
        }
       },
       "data": {
        "name": "data-de1fbca42b89620318e1ec15194ae5cc"
       },
       "datasets": {
        "data-de1fbca42b89620318e1ec15194ae5cc": [
         {
          "cases_per1m": 1.5353971691698145,
          "cases_perICU": null,
          "country": "France",
          "date": "2020-02-29T00:00:00",
          "days_since100": 0,
          "perc_growth": null,
          "value": 100
         },
         {
          "cases_per1m": 1.9960163199207588,
          "cases_perICU": null,
          "country": "France",
          "date": "2020-03-01T00:00:00",
          "days_since100": 1,
          "perc_growth": 1.3,
          "value": 130
         },
         {
          "cases_per1m": 2.9326085931143457,
          "cases_perICU": null,
          "country": "France",
          "date": "2020-03-02T00:00:00",
          "days_since100": 2,
          "perc_growth": 1.4692307692307693,
          "value": 191
         },
         {
          "cases_per1m": 3.1322102251064217,
          "cases_perICU": null,
          "country": "France",
          "date": "2020-03-03T00:00:00",
          "days_since100": 3,
          "perc_growth": 1.068062827225131,
          "value": 204
         },
         {
          "cases_per1m": 4.421943847209065,
          "cases_perICU": null,
          "country": "France",
          "date": "2020-03-04T00:00:00",
          "days_since100": 4,
          "perc_growth": 1.411764705882353,
          "value": 288
         },
         {
          "cases_per1m": 5.834509242845295,
          "cases_perICU": null,
          "country": "France",
          "date": "2020-03-05T00:00:00",
          "days_since100": 5,
          "perc_growth": 1.3194444444444444,
          "value": 380
         },
         {
          "cases_per1m": 10.072205429753982,
          "cases_perICU": null,
          "country": "France",
          "date": "2020-03-06T00:00:00",
          "days_since100": 6,
          "perc_growth": 1.7263157894736842,
          "value": 656
         },
         {
          "cases_per1m": 14.693750908955124,
          "cases_perICU": null,
          "country": "France",
          "date": "2020-03-07T00:00:00",
          "days_since100": 7,
          "perc_growth": 1.458841463414634,
          "value": 957
         },
         {
          "cases_per1m": 17.411403898385696,
          "cases_perICU": null,
          "country": "France",
          "date": "2020-03-08T00:00:00",
          "days_since100": 8,
          "perc_growth": 1.1849529780564263,
          "value": 1134
         },
         {
          "cases_per1m": 18.685783548796643,
          "cases_perICU": null,
          "country": "France",
          "date": "2020-03-09T00:00:00",
          "days_since100": 9,
          "perc_growth": 1.0731922398589064,
          "value": 1217
         },
         {
          "cases_per1m": 27.514317271523076,
          "cases_perICU": null,
          "country": "France",
          "date": "2020-03-10T00:00:00",
          "days_since100": 10,
          "perc_growth": 1.4724732949876747,
          "value": 1792
         },
         {
          "cases_per1m": 35.14524120229705,
          "cases_perICU": null,
          "country": "France",
          "date": "2020-03-11T00:00:00",
          "days_since100": 11,
          "perc_growth": 1.27734375,
          "value": 2289
         },
         {
          "cases_per1m": 35.14524120229705,
          "cases_perICU": null,
          "country": "France",
          "date": "2020-03-12T00:00:00",
          "days_since100": 12,
          "perc_growth": 1,
          "value": 2289
         },
         {
          "cases_per1m": 56.379784051915586,
          "cases_perICU": null,
          "country": "France",
          "date": "2020-03-13T00:00:00",
          "days_since100": 13,
          "perc_growth": 1.6041939711664481,
          "value": 3672
         },
         {
          "cases_per1m": 68.78579317880768,
          "cases_perICU": null,
          "country": "France",
          "date": "2020-03-14T00:00:00",
          "days_since100": 14,
          "perc_growth": 1.2200435729847494,
          "value": 4480
         },
         {
          "cases_per1m": 69.29247424463372,
          "cases_perICU": null,
          "country": "France",
          "date": "2020-03-15T00:00:00",
          "days_since100": 15,
          "perc_growth": 1.0073660714285715,
          "value": 4513
         },
         {
          "cases_per1m": 1.5565684825175508,
          "cases_perICU": 0.006226273930070203,
          "country": "Germany",
          "date": "2020-03-01T00:00:00",
          "days_since100": 0,
          "perc_growth": null,
          "value": 130
         },
         {
          "cases_per1m": 1.9038029901560813,
          "cases_perICU": 0.007615211960624325,
          "country": "Germany",
          "date": "2020-03-02T00:00:00",
          "days_since100": 1,
          "perc_growth": 1.2230769230769232,
          "value": 159
         },
         {
          "cases_per1m": 2.346826327488,
          "cases_perICU": 0.009387305309951998,
          "country": "Germany",
          "date": "2020-03-03T00:00:00",
          "days_since100": 2,
          "perc_growth": 1.2327044025157232,
          "value": 196
         },
         {
          "cases_per1m": 3.1370841724584486,
          "cases_perICU": 0.012548336689833794,
          "country": "Germany",
          "date": "2020-03-04T00:00:00",
          "days_since100": 3,
          "perc_growth": 1.336734693877551,
          "value": 262
         },
         {
          "cases_per1m": 5.771276989026611,
          "cases_perICU": 0.023085107956106445,
          "country": "Germany",
          "date": "2020-03-05T00:00:00",
          "days_since100": 4,
          "perc_growth": 1.8396946564885497,
          "value": 482
         },
         {
          "cases_per1m": 8.022314486821223,
          "cases_perICU": 0.03208925794728489,
          "country": "Germany",
          "date": "2020-03-06T00:00:00",
          "days_since100": 5,
          "perc_growth": 1.3900414937759336,
          "value": 670
         },
         {
          "cases_per1m": 9.566909365627101,
          "cases_perICU": 0.0382676374625084,
          "country": "Germany",
          "date": "2020-03-07T00:00:00",
          "days_since100": 6,
          "perc_growth": 1.1925373134328359,
          "value": 799
         },
         {
          "cases_per1m": 12.452547860140406,
          "cases_perICU": 0.049810191440561626,
          "country": "Germany",
          "date": "2020-03-08T00:00:00",
          "days_since100": 7,
          "perc_growth": 1.3016270337922402,
          "value": 1040
         },
         {
          "cases_per1m": 14.080957964927999,
          "cases_perICU": 0.056323831859711994,
          "country": "Germany",
          "date": "2020-03-09T00:00:00",
          "days_since100": 8,
          "perc_growth": 1.1307692307692307,
          "value": 1176
         },
         {
          "cases_per1m": 17.445540607908242,
          "cases_perICU": 0.06978216243163297,
          "country": "Germany",
          "date": "2020-03-10T00:00:00",
          "days_since100": 9,
          "perc_growth": 1.2389455782312926,
          "value": 1457
         },
         {
          "cases_per1m": 22.845635881872976,
          "cases_perICU": 0.09138254352749191,
          "country": "Germany",
          "date": "2020-03-11T00:00:00",
          "days_since100": 10,
          "perc_growth": 1.3095401509951956,
          "value": 1908
         },
         {
          "cases_per1m": 24.881148512857468,
          "cases_perICU": 0.09952459405142987,
          "country": "Germany",
          "date": "2020-03-12T00:00:00",
          "days_since100": 11,
          "perc_growth": 1.0890985324947589,
          "value": 2078
         },
         {
          "cases_per1m": 44.00299364039999,
          "cases_perICU": 0.17601197456159998,
          "country": "Germany",
          "date": "2020-03-13T00:00:00",
          "days_since100": 12,
          "perc_growth": 1.7685274302213667,
          "value": 3675
         },
         {
          "cases_per1m": 54.89897301802285,
          "cases_perICU": 0.2195958920720914,
          "country": "Germany",
          "date": "2020-03-14T00:00:00",
          "days_since100": 13,
          "perc_growth": 1.2476190476190476,
          "value": 4585
         },
         {
          "cases_per1m": 69.38703350914774,
          "cases_perICU": 0.27754813403659095,
          "country": "Germany",
          "date": "2020-03-15T00:00:00",
          "days_since100": 14,
          "perc_growth": 1.2639040348964012,
          "value": 5795
         },
         {
          "cases_per1m": 2.5598647070214198,
          "cases_perICU": null,
          "country": "Italy",
          "date": "2020-02-23T00:00:00",
          "days_since100": 0,
          "perc_growth": null,
          "value": 155
         },
         {
          "cases_per1m": 3.781993663921969,
          "cases_perICU": null,
          "country": "Italy",
          "date": "2020-02-24T00:00:00",
          "days_since100": 1,
          "perc_growth": 1.4774193548387098,
          "value": 229
         },
         {
          "cases_per1m": 5.31791248813482,
          "cases_perICU": null,
          "country": "Italy",
          "date": "2020-02-25T00:00:00",
          "days_since100": 2,
          "perc_growth": 1.4061135371179039,
          "value": 322
         },
         {
          "cases_per1m": 7.481411046972279,
          "cases_perICU": null,
          "country": "Italy",
          "date": "2020-02-26T00:00:00",
          "days_since100": 3,
          "perc_growth": 1.406832298136646,
          "value": 453
         },
         {
          "cases_per1m": 10.81749279418729,
          "cases_perICU": null,
          "country": "Italy",
          "date": "2020-02-27T00:00:00",
          "days_since100": 4,
          "perc_growth": 1.445916114790287,
          "value": 655
         },
         {
          "cases_per1m": 14.665547482806586,
          "cases_perICU": null,
          "country": "Italy",
          "date": "2020-02-28T00:00:00",
          "days_since100": 5,
          "perc_growth": 1.3557251908396946,
          "value": 888
         },
         {
          "cases_per1m": 18.629208964646203,
          "cases_perICU": null,
          "country": "Italy",
          "date": "2020-02-29T00:00:00",
          "days_since100": 6,
          "perc_growth": 1.2702702702702702,
          "value": 1128
         },
         {
          "cases_per1m": 27.976843959317968,
          "cases_perICU": null,
          "country": "Italy",
          "date": "2020-03-01T00:00:00",
          "days_since100": 7,
          "perc_growth": 1.50177304964539,
          "value": 1694
         },
         {
          "cases_per1m": 33.62506157093942,
          "cases_perICU": null,
          "country": "Italy",
          "date": "2020-03-02T00:00:00",
          "days_since100": 8,
          "perc_growth": 1.2018890200708383,
          "value": 2036
         },
         {
          "cases_per1m": 41.321170948178015,
          "cases_perICU": null,
          "country": "Italy",
          "date": "2020-03-03T00:00:00",
          "days_since100": 9,
          "perc_growth": 1.2288801571709234,
          "value": 2502
         },
         {
          "cases_per1m": 51.01562632251075,
          "cases_perICU": null,
          "country": "Italy",
          "date": "2020-03-04T00:00:00",
          "days_since100": 10,
          "perc_growth": 1.2346123101518784,
          "value": 3089
         },
         {
          "cases_per1m": 63.715858320571854,
          "cases_perICU": null,
          "country": "Italy",
          "date": "2020-03-05T00:00:00",
          "days_since100": 11,
          "perc_growth": 1.2489478795726772,
          "value": 3858
         },
         {
          "cases_per1m": 76.56472762420195,
          "cases_perICU": null,
          "country": "Italy",
          "date": "2020-03-06T00:00:00",
          "days_since100": 12,
          "perc_growth": 1.2016588906169,
          "value": 4636
         },
         {
          "cases_per1m": 97.15925207359363,
          "cases_perICU": null,
          "country": "Italy",
          "date": "2020-03-07T00:00:00",
          "days_since100": 13,
          "perc_growth": 1.2689818809318378,
          "value": 5883
         },
         {
          "cases_per1m": 121.80001428569659,
          "cases_perICU": null,
          "country": "Italy",
          "date": "2020-03-08T00:00:00",
          "days_since100": 14,
          "perc_growth": 1.2536121026687064,
          "value": 7375
         },
         {
          "cases_per1m": 151.47792963097072,
          "cases_perICU": null,
          "country": "Italy",
          "date": "2020-03-09T00:00:00",
          "days_since100": 15,
          "perc_growth": 1.2436610169491524,
          "value": 9172
         },
         {
          "cases_per1m": 167.61333491329285,
          "cases_perICU": null,
          "country": "Italy",
          "date": "2020-03-10T00:00:00",
          "days_since100": 16,
          "perc_growth": 1.1065198430004362,
          "value": 10149
         },
         {
          "cases_per1m": 205.81312244452215,
          "cases_perICU": null,
          "country": "Italy",
          "date": "2020-03-11T00:00:00",
          "days_since100": 17,
          "perc_growth": 1.22790422701744,
          "value": 12462
         },
         {
          "cases_per1m": 205.81312244452215,
          "cases_perICU": null,
          "country": "Italy",
          "date": "2020-03-12T00:00:00",
          "days_since100": 18,
          "perc_growth": 1,
          "value": 12462
         },
         {
          "cases_per1m": 291.65942403869855,
          "cases_perICU": null,
          "country": "Italy",
          "date": "2020-03-13T00:00:00",
          "days_since100": 19,
          "perc_growth": 1.41710800834537,
          "value": 17660
         },
         {
          "cases_per1m": 349.41327488033664,
          "cases_perICU": null,
          "country": "Italy",
          "date": "2020-03-14T00:00:00",
          "days_since100": 20,
          "perc_growth": 1.1980181200453002,
          "value": 21157
         },
         {
          "cases_per1m": 408.7030445461876,
          "cases_perICU": null,
          "country": "Italy",
          "date": "2020-03-15T00:00:00",
          "days_since100": 21,
          "perc_growth": 1.1696837925981944,
          "value": 24747
         },
         {
          "cases_per1m": 2.030246455521556,
          "cases_perICU": null,
          "country": "Korea, South",
          "date": "2020-02-20T00:00:00",
          "days_since100": 0,
          "perc_growth": null,
          "value": 104
         },
         {
          "cases_per1m": 3.9824065089076672,
          "cases_perICU": null,
          "country": "Korea, South",
          "date": "2020-02-21T00:00:00",
          "days_since100": 1,
          "perc_growth": 1.9615384615384615,
          "value": 204
         },
         {
          "cases_per1m": 8.452853031161863,
          "cases_perICU": null,
          "country": "Korea, South",
          "date": "2020-02-22T00:00:00",
          "days_since100": 2,
          "perc_growth": 2.122549019607843,
          "value": 433
         },
         {
          "cases_per1m": 11.752003521384392,
          "cases_perICU": null,
          "country": "Korea, South",
          "date": "2020-02-23T00:00:00",
          "days_since100": 3,
          "perc_growth": 1.3903002309468822,
          "value": 602
         },
         {
          "cases_per1m": 16.26149324470631,
          "cases_perICU": null,
          "country": "Korea, South",
          "date": "2020-02-24T00:00:00",
          "days_since100": 4,
          "perc_growth": 1.3837209302325582,
          "value": 833
         },
         {
          "cases_per1m": 19.072603721582308,
          "cases_perICU": null,
          "country": "Korea, South",
          "date": "2020-02-25T00:00:00",
          "days_since100": 5,
          "perc_growth": 1.1728691476590636,
          "value": 977
         },
         {
          "cases_per1m": 24.616738273198866,
          "cases_perICU": null,
          "country": "Korea, South",
          "date": "2020-02-26T00:00:00",
          "days_since100": 6,
          "perc_growth": 1.2906857727737973,
          "value": 1261
         },
         {
          "cases_per1m": 34.475146542798726,
          "cases_perICU": null,
          "country": "Korea, South",
          "date": "2020-02-27T00:00:00",
          "days_since100": 7,
          "perc_growth": 1.4004758128469468,
          "value": 1766
         },
         {
          "cases_per1m": 45.621980447633426,
          "cases_perICU": null,
          "country": "Korea, South",
          "date": "2020-02-28T00:00:00",
          "days_since100": 8,
          "perc_growth": 1.3233295583238958,
          "value": 2337
         },
         {
          "cases_per1m": 61.49304168166251,
          "cases_perICU": null,
          "country": "Korea, South",
          "date": "2020-02-29T00:00:00",
          "days_since100": 9,
          "perc_growth": 1.3478818998716302,
          "value": 3150
         },
         {
          "cases_per1m": 72.93269959450512,
          "cases_perICU": null,
          "country": "Korea, South",
          "date": "2020-03-01T00:00:00",
          "days_since100": 10,
          "perc_growth": 1.186031746031746,
          "value": 3736
         },
         {
          "cases_per1m": 84.62613831428793,
          "cases_perICU": null,
          "country": "Korea, South",
          "date": "2020-03-02T00:00:00",
          "days_since100": 11,
          "perc_growth": 1.1603319057815846,
          "value": 4335
         },
         {
          "cases_per1m": 101.23902036860375,
          "cases_perICU": null,
          "country": "Korea, South",
          "date": "2020-03-03T00:00:00",
          "days_since100": 12,
          "perc_growth": 1.1963091118800462,
          "value": 5186
         },
         {
          "cases_per1m": 109.73091660083332,
          "cases_perICU": null,
          "country": "Korea, South",
          "date": "2020-03-04T00:00:00",
          "days_since100": 13,
          "perc_growth": 1.0838796760509062,
          "value": 5621
         },
         {
          "cases_per1m": 118.84750405014647,
          "cases_perICU": null,
          "country": "Korea, South",
          "date": "2020-03-05T00:00:00",
          "days_since100": 14,
          "perc_growth": 1.0830813022593844,
          "value": 6088
         },
         {
          "cases_per1m": 128.70591231974632,
          "cases_perICU": null,
          "country": "Korea, South",
          "date": "2020-03-06T00:00:00",
          "days_since100": 15,
          "perc_growth": 1.0829500657030224,
          "value": 6593
         },
         {
          "cases_per1m": 137.4515893589161,
          "cases_perICU": null,
          "country": "Korea, South",
          "date": "2020-03-07T00:00:00",
          "days_since100": 16,
          "perc_growth": 1.067950856969513,
          "value": 7041
         },
         {
          "cases_per1m": 142.7809863046602,
          "cases_perICU": null,
          "country": "Korea, South",
          "date": "2020-03-08T00:00:00",
          "days_since100": 17,
          "perc_growth": 1.0387729015764806,
          "value": 7314
         },
         {
          "cases_per1m": 145.98252879221343,
          "cases_perICU": null,
          "country": "Korea, South",
          "date": "2020-03-09T00:00:00",
          "days_since100": 18,
          "perc_growth": 1.0224227508887065,
          "value": 7478
         },
         {
          "cases_per1m": 146.66578481089854,
          "cases_perICU": null,
          "country": "Korea, South",
          "date": "2020-03-10T00:00:00",
          "days_since100": 19,
          "perc_growth": 1.0046803958277615,
          "value": 7513
         },
         {
          "cases_per1m": 151.39001214009295,
          "cases_perICU": null,
          "country": "Korea, South",
          "date": "2020-03-11T00:00:00",
          "days_since100": 20,
          "perc_growth": 1.0322108345534406,
          "value": 7755
         },
         {
          "cases_per1m": 153.61547460095312,
          "cases_perICU": null,
          "country": "Korea, South",
          "date": "2020-03-12T00:00:00",
          "days_since100": 21,
          "perc_growth": 1.0147001934235977,
          "value": 7869
         },
         {
          "cases_per1m": 155.76285065967784,
          "cases_perICU": null,
          "country": "Korea, South",
          "date": "2020-03-13T00:00:00",
          "days_since100": 22,
          "perc_growth": 1.013978904562206,
          "value": 7979
         },
         {
          "cases_per1m": 157.85166191680096,
          "cases_perICU": null,
          "country": "Korea, South",
          "date": "2020-03-14T00:00:00",
          "days_since100": 23,
          "perc_growth": 1.0134102017796716,
          "value": 8086
         },
         {
          "cases_per1m": 159.33530355737443,
          "cases_perICU": null,
          "country": "Korea, South",
          "date": "2020-03-15T00:00:00",
          "days_since100": 24,
          "perc_growth": 1.0093989611674499,
          "value": 8162
         },
         {
          "cases_per1m": 2.567571199177282,
          "cases_perICU": 0.025675711991772817,
          "country": "Spain",
          "date": "2020-03-02T00:00:00",
          "days_since100": 0,
          "perc_growth": null,
          "value": 120
         },
         {
          "cases_per1m": 3.5304103988687623,
          "cases_perICU": 0.03530410398868762,
          "country": "Spain",
          "date": "2020-03-03T00:00:00",
          "days_since100": 1,
          "perc_growth": 1.375,
          "value": 165
         },
         {
          "cases_per1m": 4.750006718477971,
          "cases_perICU": 0.04750006718477971,
          "country": "Spain",
          "date": "2020-03-04T00:00:00",
          "days_since100": 2,
          "perc_growth": 1.3454545454545455,
          "value": 222
         },
         {
          "cases_per1m": 5.541674504890967,
          "cases_perICU": 0.055416745048909664,
          "country": "Spain",
          "date": "2020-03-05T00:00:00",
          "days_since100": 3,
          "perc_growth": 1.1666666666666667,
          "value": 259
         },
         {
          "cases_per1m": 8.558570663924273,
          "cases_perICU": 0.08558570663924273,
          "country": "Spain",
          "date": "2020-03-06T00:00:00",
          "days_since100": 4,
          "perc_growth": 1.5444015444015444,
          "value": 400
         },
         {
          "cases_per1m": 10.698213329905341,
          "cases_perICU": 0.1069821332990534,
          "country": "Spain",
          "date": "2020-03-07T00:00:00",
          "days_since100": 5,
          "perc_growth": 1.25,
          "value": 500
         },
         {
          "cases_per1m": 14.39979514205259,
          "cases_perICU": 0.14399795142052588,
          "country": "Spain",
          "date": "2020-03-08T00:00:00",
          "days_since100": 6,
          "perc_growth": 1.346,
          "value": 673
         },
         {
          "cases_per1m": 22.95836580597686,
          "cases_perICU": 0.2295836580597686,
          "country": "Spain",
          "date": "2020-03-09T00:00:00",
          "days_since100": 7,
          "perc_growth": 1.5943536404160477,
          "value": 1073
         },
         {
          "cases_per1m": 36.2669431883791,
          "cases_perICU": 0.362669431883791,
          "country": "Spain",
          "date": "2020-03-10T00:00:00",
          "days_since100": 8,
          "perc_growth": 1.5796831314072692,
          "value": 1695
         },
         {
          "cases_per1m": 48.71966350438892,
          "cases_perICU": 0.4871966350438892,
          "country": "Spain",
          "date": "2020-03-11T00:00:00",
          "days_since100": 9,
          "perc_growth": 1.343362831858407,
          "value": 2277
         },
         {
          "cases_per1m": 48.71966350438892,
          "cases_perICU": 0.4871966350438892,
          "country": "Spain",
          "date": "2020-03-12T00:00:00",
          "days_since100": 10,
          "perc_growth": 1,
          "value": 2277
         },
         {
          "cases_per1m": 111.94610428412949,
          "cases_perICU": 1.1194610428412948,
          "country": "Spain",
          "date": "2020-03-13T00:00:00",
          "days_since100": 11,
          "perc_growth": 2.297760210803689,
          "value": 5232
         },
         {
          "cases_per1m": 136.74456278285007,
          "cases_perICU": 1.3674456278285005,
          "country": "Spain",
          "date": "2020-03-14T00:00:00",
          "days_since100": 12,
          "perc_growth": 1.2215214067278288,
          "value": 6391
         },
         {
          "cases_per1m": 166.8493350932037,
          "cases_perICU": 1.668493350932037,
          "country": "Spain",
          "date": "2020-03-15T00:00:00",
          "days_since100": 13,
          "perc_growth": 1.2201533406352683,
          "value": 7798
         },
         {
          "cases_per1m": 0.3585918580314656,
          "cases_perICU": null,
          "country": "US",
          "date": "2020-03-03T00:00:00",
          "days_since100": 0,
          "perc_growth": null,
          "value": 118
         },
         {
          "cases_per1m": 0.45279819361600315,
          "cases_perICU": null,
          "country": "US",
          "date": "2020-03-04T00:00:00",
          "days_since100": 1,
          "perc_growth": 1.2627118644067796,
          "value": 149
         },
         {
          "cases_per1m": 0.659444349091763,
          "cases_perICU": null,
          "country": "US",
          "date": "2020-03-05T00:00:00",
          "days_since100": 2,
          "perc_growth": 1.4563758389261745,
          "value": 217
         },
         {
          "cases_per1m": 0.7961954813918982,
          "cases_perICU": null,
          "country": "US",
          "date": "2020-03-06T00:00:00",
          "days_since100": 3,
          "perc_growth": 1.207373271889401,
          "value": 262
         },
         {
          "cases_per1m": 1.2216434485478742,
          "cases_perICU": null,
          "country": "US",
          "date": "2020-03-07T00:00:00",
          "days_since100": 4,
          "perc_growth": 1.534351145038168,
          "value": 402
         },
         {
          "cases_per1m": 1.5741574784771117,
          "cases_perICU": null,
          "country": "US",
          "date": "2020-03-08T00:00:00",
          "days_since100": 5,
          "perc_growth": 1.2885572139303483,
          "value": 518
         },
         {
          "cases_per1m": 1.7716868917995292,
          "cases_perICU": null,
          "country": "US",
          "date": "2020-03-09T00:00:00",
          "days_since100": 6,
          "perc_growth": 1.1254826254826256,
          "value": 583
         },
         {
          "cases_per1m": 2.9143185750184366,
          "cases_perICU": null,
          "country": "US",
          "date": "2020-03-10T00:00:00",
          "days_since100": 7,
          "perc_growth": 1.6449399656946826,
          "value": 959
         },
         {
          "cases_per1m": 3.8928488994771815,
          "cases_perICU": null,
          "country": "US",
          "date": "2020-03-11T00:00:00",
          "days_since100": 8,
          "perc_growth": 1.3357664233576643,
          "value": 1281
         },
         {
          "cases_per1m": 5.053714067002773,
          "cases_perICU": null,
          "country": "US",
          "date": "2020-03-12T00:00:00",
          "days_since100": 9,
          "perc_growth": 1.2982045277127245,
          "value": 1663
         },
         {
          "cases_per1m": 6.621793717377657,
          "cases_perICU": null,
          "country": "US",
          "date": "2020-03-13T00:00:00",
          "days_since100": 10,
          "perc_growth": 1.3102826217678893,
          "value": 2179
         },
         {
          "cases_per1m": 8.287118617388192,
          "cases_perICU": null,
          "country": "US",
          "date": "2020-03-14T00:00:00",
          "days_since100": 11,
          "perc_growth": 1.2514915098669115,
          "value": 2727
         },
         {
          "cases_per1m": 10.63316026484829,
          "cases_perICU": null,
          "country": "US",
          "date": "2020-03-15T00:00:00",
          "days_since100": 12,
          "perc_growth": 1.2830949761642831,
          "value": 3499
         },
         {
          "cases_per1m": 1.7177506966811815,
          "cases_perICU": 0.05725835655603938,
          "country": "United Kingdom",
          "date": "2020-03-05T00:00:00",
          "days_since100": 0,
          "perc_growth": null,
          "value": 116
         },
         {
          "cases_per1m": 2.4285440884113254,
          "cases_perICU": 0.08095146961371084,
          "country": "United Kingdom",
          "date": "2020-03-06T00:00:00",
          "days_since100": 1,
          "perc_growth": 1.4137931034482758,
          "value": 164
         },
         {
          "cases_per1m": 3.0652965018362464,
          "cases_perICU": 0.1021765500612082,
          "country": "United Kingdom",
          "date": "2020-03-07T00:00:00",
          "days_since100": 2,
          "perc_growth": 1.2621951219512195,
          "value": 207
         },
         {
          "cases_per1m": 4.057445611126239,
          "cases_perICU": 0.1352481870375413,
          "country": "United Kingdom",
          "date": "2020-03-08T00:00:00",
          "days_since100": 3,
          "perc_growth": 1.3236714975845412,
          "value": 274
         },
         {
          "cases_per1m": 4.768239002856383,
          "cases_perICU": 0.15894130009521273,
          "country": "United Kingdom",
          "date": "2020-03-09T00:00:00",
          "days_since100": 4,
          "perc_growth": 1.1751824817518248,
          "value": 322
         },
         {
          "cases_per1m": 5.686347133841152,
          "cases_perICU": 0.18954490446137173,
          "country": "United Kingdom",
          "date": "2020-03-10T00:00:00",
          "days_since100": 5,
          "perc_growth": 1.1925465838509317,
          "value": 384
         },
         {
          "cases_per1m": 6.7969618084195025,
          "cases_perICU": 0.2265653936139834,
          "country": "United Kingdom",
          "date": "2020-03-11T00:00:00",
          "days_since100": 6,
          "perc_growth": 1.1953125,
          "value": 459
         },
         {
          "cases_per1m": 6.7969618084195025,
          "cases_perICU": 0.2265653936139834,
          "country": "United Kingdom",
          "date": "2020-03-12T00:00:00",
          "days_since100": 7,
          "perc_growth": 1,
          "value": 459
         },
         {
          "cases_per1m": 11.861364724496779,
          "cases_perICU": 0.39537882414989256,
          "country": "United Kingdom",
          "date": "2020-03-13T00:00:00",
          "days_since100": 8,
          "perc_growth": 1.7450980392156863,
          "value": 801
         },
         {
          "cases_per1m": 16.925767640574055,
          "cases_perICU": 0.5641922546858018,
          "country": "United Kingdom",
          "date": "2020-03-14T00:00:00",
          "days_since100": 9,
          "perc_growth": 1.4269662921348314,
          "value": 1143
         },
         {
          "cases_per1m": 16.940575836235098,
          "cases_perICU": 0.5646858612078366,
          "country": "United Kingdom",
          "date": "2020-03-15T00:00:00",
          "days_since100": 10,
          "perc_growth": 1.0008748906386702,
          "value": 1144
         }
        ]
       },
       "encoding": {
        "color": {
         "field": "country",
         "type": "nominal"
        },
        "x": {
         "field": "days_since100",
         "title": "Days since 100th case",
         "type": "quantitative"
        },
        "y": {
         "field": "cases_perICU",
         "title": "Cases per ICU",
         "type": "quantitative"
        }
       },
       "height": 300,
       "mark": "line",
       "padding": {
        "bottom": 5,
        "left": 5,
        "right": 5,
        "top": 50
       },
       "title": "Development of confirmed COVID-19 cases per ICU",
       "width": 500
      },
      "image/png": "[encoded data removed]",
      "text/plain": [
       "<VegaLite 3 object>\n",
       "\n",
       "If you see this message, it means the renderer has not been properly enabled\n",
       "for the frontend that you are using. For more information, see\n",
       "https://altair-viz.github.io/user_guide/troubleshooting.html\n"
      ]
     },
     "execution_count": 29,
     "metadata": {},
     "output_type": "execute_result"
    }
   ],
   "source": [
    "chart_cases_per_icu"
   ]
  },
  {
   "cell_type": "code",
   "execution_count": 30,
   "metadata": {},
   "outputs": [],
   "source": [
    "chart_cases_per_icu.save('./charts/cases_per_icu.svg', webdriver='firefox')"
   ]
  },
  {
   "cell_type": "markdown",
   "metadata": {},
   "source": [
    "## Deaths"
   ]
  },
  {
   "cell_type": "code",
   "execution_count": 31,
   "metadata": {},
   "outputs": [],
   "source": [
    "chart_deaths = alt.Chart(\n",
    "    deaths_sel, \n",
    "    height=300,\n",
    "    title='Development of confirmed COVID-19 deaths'\n",
    ").mark_line(\n",
    "    point=alt.OverlayMarkDef(shape='circle', size=10)\n",
    ").encode(\n",
    "    alt.X('date:T', title='Date'),\n",
    "    alt.Y(\n",
    "        'value:Q',\n",
    "        title='COVID-19 deaths'\n",
    "    ),\n",
    "    color='country:N')"
   ]
  },
  {
   "cell_type": "code",
   "execution_count": 32,
   "metadata": {},
   "outputs": [
    {
     "data": {
      "application/vnd.vegalite.v3+json": {
       "$schema": "https://vega.github.io/schema/vega-lite/v3.4.0.json",
       "config": {
        "area": {
         "fill": "#1696d2"
        },
        "axisX": {
         "domain": true,
         "domainColor": "#DEDDDD",
         "domainDashOffset": 10,
         "domainWidth": 1,
         "grid": false,
         "labelAngle": 0,
         "labelFont": "Avenir",
         "labelFontSize": 10,
         "tickColor": "#DEDDDD",
         "titleFont": "Avenir",
         "titleFontSize": 12,
         "titleFontWeight": 400,
         "titlePadding": 10
        },
        "axisY": {
         "domain": false,
         "domainDashOffset": 10,
         "grid": true,
         "gridColor": "#DEDDDD",
         "gridDash": [
          5,
          2
         ],
         "gridWidth": 1,
         "labelAngle": 0,
         "labelFont": "Avenir",
         "labelFontSize": 10,
         "titleFont": "Avenir",
         "titleFontSize": 12,
         "titleFontWeight": 400,
         "titlePadding": 10
        },
        "bar": {
         "fill": "#1696d2",
         "strokeWidth": 0
        },
        "guide-title": {
         "color": "Monospace",
         "font": "Avenir",
         "fontSize": 15
        },
        "header": {
         "titleFontSize": 12,
         "titleFontWeight": 400
        },
        "legend": {
         "labelFont": "Avenir",
         "labelFontSize": 12,
         "symbolSize": 50,
         "symbolType": "circle",
         "title": "",
         "titleFont": "Avenir",
         "titleFontSize": 12
        },
        "line": {
         "color": "#1696d2",
         "stroke": "#1696d2",
         "strokeWidth": 1
        },
        "path": {
         "stroke": "#1696d2"
        },
        "point": {
         "filled": true
        },
        "range": {
         "category": [
          "#a6cee3",
          "#1f78b4",
          "#b2df8a",
          "#33a02c",
          "#fb9a99",
          "#e31a1c",
          "#fdbf6f",
          "#ff7f00"
         ],
         "diverging": [
          "#cfe8f3",
          "#a2d4ec",
          "#73bfe2",
          "#46abdb",
          "#1696d2",
          "#12719e"
         ]
        },
        "text": {
         "align": "right",
         "color": "#1696d2",
         "font": "Avenir",
         "fontSize": 12,
         "fontWeight": 400,
         "size": 11
        },
        "title": {
         "anchor": "start",
         "color": "#4d4d4d",
         "font": "Avenir",
         "fontSize": 20,
         "fontWeight": 300,
         "lineHeight": 100,
         "offset": 30
        },
        "trail": {
         "color": "#1696d2",
         "stroke": "#1696d2"
        },
        "view": {
         "strokeWidth": 0
        }
       },
       "data": {
        "name": "data-52a3ca3a5b9a97cc22b3aee819514b36"
       },
       "datasets": {
        "data-52a3ca3a5b9a97cc22b3aee819514b36": [
         {
          "country": "France",
          "date": "2020-02-15T00:00:00",
          "value": 1
         },
         {
          "country": "France",
          "date": "2020-02-16T00:00:00",
          "value": 1
         },
         {
          "country": "France",
          "date": "2020-02-17T00:00:00",
          "value": 1
         },
         {
          "country": "France",
          "date": "2020-02-18T00:00:00",
          "value": 1
         },
         {
          "country": "France",
          "date": "2020-02-19T00:00:00",
          "value": 1
         },
         {
          "country": "France",
          "date": "2020-02-20T00:00:00",
          "value": 1
         },
         {
          "country": "France",
          "date": "2020-02-21T00:00:00",
          "value": 1
         },
         {
          "country": "France",
          "date": "2020-02-22T00:00:00",
          "value": 1
         },
         {
          "country": "France",
          "date": "2020-02-23T00:00:00",
          "value": 1
         },
         {
          "country": "France",
          "date": "2020-02-24T00:00:00",
          "value": 1
         },
         {
          "country": "France",
          "date": "2020-02-25T00:00:00",
          "value": 1
         },
         {
          "country": "France",
          "date": "2020-02-26T00:00:00",
          "value": 2
         },
         {
          "country": "France",
          "date": "2020-02-27T00:00:00",
          "value": 2
         },
         {
          "country": "France",
          "date": "2020-02-28T00:00:00",
          "value": 2
         },
         {
          "country": "France",
          "date": "2020-02-29T00:00:00",
          "value": 2
         },
         {
          "country": "France",
          "date": "2020-03-01T00:00:00",
          "value": 2
         },
         {
          "country": "France",
          "date": "2020-03-02T00:00:00",
          "value": 3
         },
         {
          "country": "France",
          "date": "2020-03-03T00:00:00",
          "value": 4
         },
         {
          "country": "France",
          "date": "2020-03-04T00:00:00",
          "value": 4
         },
         {
          "country": "France",
          "date": "2020-03-05T00:00:00",
          "value": 6
         },
         {
          "country": "France",
          "date": "2020-03-06T00:00:00",
          "value": 9
         },
         {
          "country": "France",
          "date": "2020-03-07T00:00:00",
          "value": 11
         },
         {
          "country": "France",
          "date": "2020-03-08T00:00:00",
          "value": 19
         },
         {
          "country": "France",
          "date": "2020-03-09T00:00:00",
          "value": 19
         },
         {
          "country": "France",
          "date": "2020-03-10T00:00:00",
          "value": 33
         },
         {
          "country": "France",
          "date": "2020-03-11T00:00:00",
          "value": 48
         },
         {
          "country": "France",
          "date": "2020-03-12T00:00:00",
          "value": 48
         },
         {
          "country": "France",
          "date": "2020-03-13T00:00:00",
          "value": 79
         },
         {
          "country": "France",
          "date": "2020-03-14T00:00:00",
          "value": 91
         },
         {
          "country": "France",
          "date": "2020-03-15T00:00:00",
          "value": 91
         },
         {
          "country": "Germany",
          "date": "2020-03-09T00:00:00",
          "value": 2
         },
         {
          "country": "Germany",
          "date": "2020-03-10T00:00:00",
          "value": 2
         },
         {
          "country": "Germany",
          "date": "2020-03-11T00:00:00",
          "value": 3
         },
         {
          "country": "Germany",
          "date": "2020-03-12T00:00:00",
          "value": 3
         },
         {
          "country": "Germany",
          "date": "2020-03-13T00:00:00",
          "value": 7
         },
         {
          "country": "Germany",
          "date": "2020-03-14T00:00:00",
          "value": 9
         },
         {
          "country": "Germany",
          "date": "2020-03-15T00:00:00",
          "value": 11
         },
         {
          "country": "Italy",
          "date": "2020-02-21T00:00:00",
          "value": 1
         },
         {
          "country": "Italy",
          "date": "2020-02-22T00:00:00",
          "value": 2
         },
         {
          "country": "Italy",
          "date": "2020-02-23T00:00:00",
          "value": 3
         },
         {
          "country": "Italy",
          "date": "2020-02-24T00:00:00",
          "value": 7
         },
         {
          "country": "Italy",
          "date": "2020-02-25T00:00:00",
          "value": 10
         },
         {
          "country": "Italy",
          "date": "2020-02-26T00:00:00",
          "value": 12
         },
         {
          "country": "Italy",
          "date": "2020-02-27T00:00:00",
          "value": 17
         },
         {
          "country": "Italy",
          "date": "2020-02-28T00:00:00",
          "value": 21
         },
         {
          "country": "Italy",
          "date": "2020-02-29T00:00:00",
          "value": 29
         },
         {
          "country": "Italy",
          "date": "2020-03-01T00:00:00",
          "value": 34
         },
         {
          "country": "Italy",
          "date": "2020-03-02T00:00:00",
          "value": 52
         },
         {
          "country": "Italy",
          "date": "2020-03-03T00:00:00",
          "value": 79
         },
         {
          "country": "Italy",
          "date": "2020-03-04T00:00:00",
          "value": 107
         },
         {
          "country": "Italy",
          "date": "2020-03-05T00:00:00",
          "value": 148
         },
         {
          "country": "Italy",
          "date": "2020-03-06T00:00:00",
          "value": 197
         },
         {
          "country": "Italy",
          "date": "2020-03-07T00:00:00",
          "value": 233
         },
         {
          "country": "Italy",
          "date": "2020-03-08T00:00:00",
          "value": 366
         },
         {
          "country": "Italy",
          "date": "2020-03-09T00:00:00",
          "value": 463
         },
         {
          "country": "Italy",
          "date": "2020-03-10T00:00:00",
          "value": 631
         },
         {
          "country": "Italy",
          "date": "2020-03-11T00:00:00",
          "value": 827
         },
         {
          "country": "Italy",
          "date": "2020-03-12T00:00:00",
          "value": 827
         },
         {
          "country": "Italy",
          "date": "2020-03-13T00:00:00",
          "value": 1266
         },
         {
          "country": "Italy",
          "date": "2020-03-14T00:00:00",
          "value": 1441
         },
         {
          "country": "Italy",
          "date": "2020-03-15T00:00:00",
          "value": 1809
         },
         {
          "country": "Korea, South",
          "date": "2020-02-20T00:00:00",
          "value": 1
         },
         {
          "country": "Korea, South",
          "date": "2020-02-21T00:00:00",
          "value": 2
         },
         {
          "country": "Korea, South",
          "date": "2020-02-22T00:00:00",
          "value": 2
         },
         {
          "country": "Korea, South",
          "date": "2020-02-23T00:00:00",
          "value": 6
         },
         {
          "country": "Korea, South",
          "date": "2020-02-24T00:00:00",
          "value": 8
         },
         {
          "country": "Korea, South",
          "date": "2020-02-25T00:00:00",
          "value": 10
         },
         {
          "country": "Korea, South",
          "date": "2020-02-26T00:00:00",
          "value": 12
         },
         {
          "country": "Korea, South",
          "date": "2020-02-27T00:00:00",
          "value": 13
         },
         {
          "country": "Korea, South",
          "date": "2020-02-28T00:00:00",
          "value": 13
         },
         {
          "country": "Korea, South",
          "date": "2020-02-29T00:00:00",
          "value": 16
         },
         {
          "country": "Korea, South",
          "date": "2020-03-01T00:00:00",
          "value": 17
         },
         {
          "country": "Korea, South",
          "date": "2020-03-02T00:00:00",
          "value": 28
         },
         {
          "country": "Korea, South",
          "date": "2020-03-03T00:00:00",
          "value": 28
         },
         {
          "country": "Korea, South",
          "date": "2020-03-04T00:00:00",
          "value": 35
         },
         {
          "country": "Korea, South",
          "date": "2020-03-05T00:00:00",
          "value": 35
         },
         {
          "country": "Korea, South",
          "date": "2020-03-06T00:00:00",
          "value": 42
         },
         {
          "country": "Korea, South",
          "date": "2020-03-07T00:00:00",
          "value": 44
         },
         {
          "country": "Korea, South",
          "date": "2020-03-08T00:00:00",
          "value": 50
         },
         {
          "country": "Korea, South",
          "date": "2020-03-09T00:00:00",
          "value": 53
         },
         {
          "country": "Korea, South",
          "date": "2020-03-10T00:00:00",
          "value": 54
         },
         {
          "country": "Korea, South",
          "date": "2020-03-11T00:00:00",
          "value": 60
         },
         {
          "country": "Korea, South",
          "date": "2020-03-12T00:00:00",
          "value": 66
         },
         {
          "country": "Korea, South",
          "date": "2020-03-13T00:00:00",
          "value": 66
         },
         {
          "country": "Korea, South",
          "date": "2020-03-14T00:00:00",
          "value": 72
         },
         {
          "country": "Korea, South",
          "date": "2020-03-15T00:00:00",
          "value": 75
         },
         {
          "country": "Spain",
          "date": "2020-03-03T00:00:00",
          "value": 1
         },
         {
          "country": "Spain",
          "date": "2020-03-04T00:00:00",
          "value": 2
         },
         {
          "country": "Spain",
          "date": "2020-03-05T00:00:00",
          "value": 3
         },
         {
          "country": "Spain",
          "date": "2020-03-06T00:00:00",
          "value": 5
         },
         {
          "country": "Spain",
          "date": "2020-03-07T00:00:00",
          "value": 10
         },
         {
          "country": "Spain",
          "date": "2020-03-08T00:00:00",
          "value": 17
         },
         {
          "country": "Spain",
          "date": "2020-03-09T00:00:00",
          "value": 28
         },
         {
          "country": "Spain",
          "date": "2020-03-10T00:00:00",
          "value": 35
         },
         {
          "country": "Spain",
          "date": "2020-03-11T00:00:00",
          "value": 54
         },
         {
          "country": "Spain",
          "date": "2020-03-12T00:00:00",
          "value": 55
         },
         {
          "country": "Spain",
          "date": "2020-03-13T00:00:00",
          "value": 133
         },
         {
          "country": "Spain",
          "date": "2020-03-14T00:00:00",
          "value": 195
         },
         {
          "country": "Spain",
          "date": "2020-03-15T00:00:00",
          "value": 289
         },
         {
          "country": "US",
          "date": "2020-02-29T00:00:00",
          "value": 1
         },
         {
          "country": "US",
          "date": "2020-03-01T00:00:00",
          "value": 1
         },
         {
          "country": "US",
          "date": "2020-03-02T00:00:00",
          "value": 6
         },
         {
          "country": "US",
          "date": "2020-03-03T00:00:00",
          "value": 7
         },
         {
          "country": "US",
          "date": "2020-03-04T00:00:00",
          "value": 11
         },
         {
          "country": "US",
          "date": "2020-03-05T00:00:00",
          "value": 12
         },
         {
          "country": "US",
          "date": "2020-03-06T00:00:00",
          "value": 14
         },
         {
          "country": "US",
          "date": "2020-03-07T00:00:00",
          "value": 17
         },
         {
          "country": "US",
          "date": "2020-03-08T00:00:00",
          "value": 21
         },
         {
          "country": "US",
          "date": "2020-03-09T00:00:00",
          "value": 22
         },
         {
          "country": "US",
          "date": "2020-03-10T00:00:00",
          "value": 28
         },
         {
          "country": "US",
          "date": "2020-03-11T00:00:00",
          "value": 36
         },
         {
          "country": "US",
          "date": "2020-03-12T00:00:00",
          "value": 40
         },
         {
          "country": "US",
          "date": "2020-03-13T00:00:00",
          "value": 47
         },
         {
          "country": "US",
          "date": "2020-03-14T00:00:00",
          "value": 54
         },
         {
          "country": "US",
          "date": "2020-03-15T00:00:00",
          "value": 63
         },
         {
          "country": "United Kingdom",
          "date": "2020-03-05T00:00:00",
          "value": 1
         },
         {
          "country": "United Kingdom",
          "date": "2020-03-06T00:00:00",
          "value": 2
         },
         {
          "country": "United Kingdom",
          "date": "2020-03-07T00:00:00",
          "value": 2
         },
         {
          "country": "United Kingdom",
          "date": "2020-03-08T00:00:00",
          "value": 3
         },
         {
          "country": "United Kingdom",
          "date": "2020-03-09T00:00:00",
          "value": 4
         },
         {
          "country": "United Kingdom",
          "date": "2020-03-10T00:00:00",
          "value": 6
         },
         {
          "country": "United Kingdom",
          "date": "2020-03-11T00:00:00",
          "value": 8
         },
         {
          "country": "United Kingdom",
          "date": "2020-03-12T00:00:00",
          "value": 8
         },
         {
          "country": "United Kingdom",
          "date": "2020-03-13T00:00:00",
          "value": 8
         },
         {
          "country": "United Kingdom",
          "date": "2020-03-14T00:00:00",
          "value": 21
         },
         {
          "country": "United Kingdom",
          "date": "2020-03-15T00:00:00",
          "value": 21
         }
        ]
       },
       "encoding": {
        "color": {
         "field": "country",
         "type": "nominal"
        },
        "x": {
         "field": "date",
         "title": "Date",
         "type": "temporal"
        },
        "y": {
         "field": "value",
         "title": "COVID-19 deaths",
         "type": "quantitative"
        }
       },
       "height": 300,
       "mark": {
        "point": {
         "shape": "circle",
         "size": 10
        },
        "type": "line"
       },
       "padding": {
        "bottom": 5,
        "left": 5,
        "right": 5,
        "top": 50
       },
       "title": "Development of confirmed COVID-19 deaths",
       "width": 500
      },
      "image/png": "[encoded data removed]",
      "text/plain": [
       "<VegaLite 3 object>\n",
       "\n",
       "If you see this message, it means the renderer has not been properly enabled\n",
       "for the frontend that you are using. For more information, see\n",
       "https://altair-viz.github.io/user_guide/troubleshooting.html\n"
      ]
     },
     "execution_count": 32,
     "metadata": {},
     "output_type": "execute_result"
    }
   ],
   "source": [
    "chart_deaths"
   ]
  },
  {
   "cell_type": "code",
   "execution_count": 33,
   "metadata": {},
   "outputs": [],
   "source": [
    "chart_deaths.save('./charts/deaths.svg', webdriver='firefox')"
   ]
  },
  {
   "cell_type": "markdown",
   "metadata": {},
   "source": [
    "## Deaths compared to infections"
   ]
  },
  {
   "cell_type": "code",
   "execution_count": 34,
   "metadata": {},
   "outputs": [],
   "source": [
    "both = confirmed.join(deaths, rsuffix='_d').drop(['date_d', 'country_d'], axis=1)"
   ]
  },
  {
   "cell_type": "code",
   "execution_count": 35,
   "metadata": {},
   "outputs": [],
   "source": [
    "both.columns =['date', 'country', 'confirmed', 'deaths']"
   ]
  },
  {
   "cell_type": "code",
   "execution_count": 36,
   "metadata": {},
   "outputs": [],
   "source": [
    "both['death_rate']=both.deaths/both.confirmed"
   ]
  },
  {
   "cell_type": "code",
   "execution_count": 37,
   "metadata": {},
   "outputs": [],
   "source": [
    "both_sel = both.loc[(both.country.isin(selCountries))&(both.confirmed>100),:].copy()"
   ]
  },
  {
   "cell_type": "code",
   "execution_count": 38,
   "metadata": {},
   "outputs": [],
   "source": [
    "chart_deaths_infections = alt.Chart(\n",
    "    both_sel, \n",
    "    height=300,\n",
    "    title='Development of confirmed COVID-19 deaths in infected persons'\n",
    ").mark_line(\n",
    "    point=alt.OverlayMarkDef(shape='circle', size=10)\n",
    ").encode(\n",
    "    alt.X('date:T', title='Date'),\n",
    "    alt.Y(\n",
    "        'death_rate:Q',\n",
    "        title='share of COVID-19 deaths in infected persons'\n",
    "    ),\n",
    "    color='country:N')"
   ]
  },
  {
   "cell_type": "code",
   "execution_count": 39,
   "metadata": {},
   "outputs": [
    {
     "data": {
      "application/vnd.vegalite.v3+json": {
       "$schema": "https://vega.github.io/schema/vega-lite/v3.4.0.json",
       "config": {
        "area": {
         "fill": "#1696d2"
        },
        "axisX": {
         "domain": true,
         "domainColor": "#DEDDDD",
         "domainDashOffset": 10,
         "domainWidth": 1,
         "grid": false,
         "labelAngle": 0,
         "labelFont": "Avenir",
         "labelFontSize": 10,
         "tickColor": "#DEDDDD",
         "titleFont": "Avenir",
         "titleFontSize": 12,
         "titleFontWeight": 400,
         "titlePadding": 10
        },
        "axisY": {
         "domain": false,
         "domainDashOffset": 10,
         "grid": true,
         "gridColor": "#DEDDDD",
         "gridDash": [
          5,
          2
         ],
         "gridWidth": 1,
         "labelAngle": 0,
         "labelFont": "Avenir",
         "labelFontSize": 10,
         "titleFont": "Avenir",
         "titleFontSize": 12,
         "titleFontWeight": 400,
         "titlePadding": 10
        },
        "bar": {
         "fill": "#1696d2",
         "strokeWidth": 0
        },
        "guide-title": {
         "color": "Monospace",
         "font": "Avenir",
         "fontSize": 15
        },
        "header": {
         "titleFontSize": 12,
         "titleFontWeight": 400
        },
        "legend": {
         "labelFont": "Avenir",
         "labelFontSize": 12,
         "symbolSize": 50,
         "symbolType": "circle",
         "title": "",
         "titleFont": "Avenir",
         "titleFontSize": 12
        },
        "line": {
         "color": "#1696d2",
         "stroke": "#1696d2",
         "strokeWidth": 1
        },
        "path": {
         "stroke": "#1696d2"
        },
        "point": {
         "filled": true
        },
        "range": {
         "category": [
          "#a6cee3",
          "#1f78b4",
          "#b2df8a",
          "#33a02c",
          "#fb9a99",
          "#e31a1c",
          "#fdbf6f",
          "#ff7f00"
         ],
         "diverging": [
          "#cfe8f3",
          "#a2d4ec",
          "#73bfe2",
          "#46abdb",
          "#1696d2",
          "#12719e"
         ]
        },
        "text": {
         "align": "right",
         "color": "#1696d2",
         "font": "Avenir",
         "fontSize": 12,
         "fontWeight": 400,
         "size": 11
        },
        "title": {
         "anchor": "start",
         "color": "#4d4d4d",
         "font": "Avenir",
         "fontSize": 20,
         "fontWeight": 300,
         "lineHeight": 100,
         "offset": 30
        },
        "trail": {
         "color": "#1696d2",
         "stroke": "#1696d2"
        },
        "view": {
         "strokeWidth": 0
        }
       },
       "data": {
        "name": "data-6dc907f8ef53de96fd46ed3a64e87c35"
       },
       "datasets": {
        "data-6dc907f8ef53de96fd46ed3a64e87c35": [
         {
          "confirmed": 130,
          "country": "France",
          "date": "2020-03-01T00:00:00",
          "death_rate": 0.015384615384615385,
          "deaths": 2
         },
         {
          "confirmed": 191,
          "country": "France",
          "date": "2020-03-02T00:00:00",
          "death_rate": 0.015706806282722512,
          "deaths": 3
         },
         {
          "confirmed": 204,
          "country": "France",
          "date": "2020-03-03T00:00:00",
          "death_rate": 0.0196078431372549,
          "deaths": 4
         },
         {
          "confirmed": 288,
          "country": "France",
          "date": "2020-03-04T00:00:00",
          "death_rate": 0.013888888888888888,
          "deaths": 4
         },
         {
          "confirmed": 380,
          "country": "France",
          "date": "2020-03-05T00:00:00",
          "death_rate": 0.015789473684210527,
          "deaths": 6
         },
         {
          "confirmed": 656,
          "country": "France",
          "date": "2020-03-06T00:00:00",
          "death_rate": 0.013719512195121951,
          "deaths": 9
         },
         {
          "confirmed": 957,
          "country": "France",
          "date": "2020-03-07T00:00:00",
          "death_rate": 0.011494252873563218,
          "deaths": 11
         },
         {
          "confirmed": 1134,
          "country": "France",
          "date": "2020-03-08T00:00:00",
          "death_rate": 0.01675485008818342,
          "deaths": 19
         },
         {
          "confirmed": 1217,
          "country": "France",
          "date": "2020-03-09T00:00:00",
          "death_rate": 0.015612161051766639,
          "deaths": 19
         },
         {
          "confirmed": 1792,
          "country": "France",
          "date": "2020-03-10T00:00:00",
          "death_rate": 0.018415178571428572,
          "deaths": 33
         },
         {
          "confirmed": 2289,
          "country": "France",
          "date": "2020-03-11T00:00:00",
          "death_rate": 0.020969855832241154,
          "deaths": 48
         },
         {
          "confirmed": 2289,
          "country": "France",
          "date": "2020-03-12T00:00:00",
          "death_rate": 0.020969855832241154,
          "deaths": 48
         },
         {
          "confirmed": 3672,
          "country": "France",
          "date": "2020-03-13T00:00:00",
          "death_rate": 0.021514161220043574,
          "deaths": 79
         },
         {
          "confirmed": 4480,
          "country": "France",
          "date": "2020-03-14T00:00:00",
          "death_rate": 0.0203125,
          "deaths": 91
         },
         {
          "confirmed": 4513,
          "country": "France",
          "date": "2020-03-15T00:00:00",
          "death_rate": 0.020163970751163305,
          "deaths": 91
         },
         {
          "confirmed": 130,
          "country": "Germany",
          "date": "2020-03-01T00:00:00",
          "death_rate": 0,
          "deaths": 0
         },
         {
          "confirmed": 159,
          "country": "Germany",
          "date": "2020-03-02T00:00:00",
          "death_rate": 0,
          "deaths": 0
         },
         {
          "confirmed": 196,
          "country": "Germany",
          "date": "2020-03-03T00:00:00",
          "death_rate": 0,
          "deaths": 0
         },
         {
          "confirmed": 262,
          "country": "Germany",
          "date": "2020-03-04T00:00:00",
          "death_rate": 0,
          "deaths": 0
         },
         {
          "confirmed": 482,
          "country": "Germany",
          "date": "2020-03-05T00:00:00",
          "death_rate": 0,
          "deaths": 0
         },
         {
          "confirmed": 670,
          "country": "Germany",
          "date": "2020-03-06T00:00:00",
          "death_rate": 0,
          "deaths": 0
         },
         {
          "confirmed": 799,
          "country": "Germany",
          "date": "2020-03-07T00:00:00",
          "death_rate": 0,
          "deaths": 0
         },
         {
          "confirmed": 1040,
          "country": "Germany",
          "date": "2020-03-08T00:00:00",
          "death_rate": 0,
          "deaths": 0
         },
         {
          "confirmed": 1176,
          "country": "Germany",
          "date": "2020-03-09T00:00:00",
          "death_rate": 0.0017006802721088435,
          "deaths": 2
         },
         {
          "confirmed": 1457,
          "country": "Germany",
          "date": "2020-03-10T00:00:00",
          "death_rate": 0.0013726835964310226,
          "deaths": 2
         },
         {
          "confirmed": 1908,
          "country": "Germany",
          "date": "2020-03-11T00:00:00",
          "death_rate": 0.0015723270440251573,
          "deaths": 3
         },
         {
          "confirmed": 2078,
          "country": "Germany",
          "date": "2020-03-12T00:00:00",
          "death_rate": 0.0014436958614051972,
          "deaths": 3
         },
         {
          "confirmed": 3675,
          "country": "Germany",
          "date": "2020-03-13T00:00:00",
          "death_rate": 0.0019047619047619048,
          "deaths": 7
         },
         {
          "confirmed": 4585,
          "country": "Germany",
          "date": "2020-03-14T00:00:00",
          "death_rate": 0.0019629225736095966,
          "deaths": 9
         },
         {
          "confirmed": 5795,
          "country": "Germany",
          "date": "2020-03-15T00:00:00",
          "death_rate": 0.0018981880931837791,
          "deaths": 11
         },
         {
          "confirmed": 155,
          "country": "Italy",
          "date": "2020-02-23T00:00:00",
          "death_rate": 0.01935483870967742,
          "deaths": 3
         },
         {
          "confirmed": 229,
          "country": "Italy",
          "date": "2020-02-24T00:00:00",
          "death_rate": 0.03056768558951965,
          "deaths": 7
         },
         {
          "confirmed": 322,
          "country": "Italy",
          "date": "2020-02-25T00:00:00",
          "death_rate": 0.031055900621118012,
          "deaths": 10
         },
         {
          "confirmed": 453,
          "country": "Italy",
          "date": "2020-02-26T00:00:00",
          "death_rate": 0.026490066225165563,
          "deaths": 12
         },
         {
          "confirmed": 655,
          "country": "Italy",
          "date": "2020-02-27T00:00:00",
          "death_rate": 0.025954198473282442,
          "deaths": 17
         },
         {
          "confirmed": 888,
          "country": "Italy",
          "date": "2020-02-28T00:00:00",
          "death_rate": 0.02364864864864865,
          "deaths": 21
         },
         {
          "confirmed": 1128,
          "country": "Italy",
          "date": "2020-02-29T00:00:00",
          "death_rate": 0.025709219858156027,
          "deaths": 29
         },
         {
          "confirmed": 1694,
          "country": "Italy",
          "date": "2020-03-01T00:00:00",
          "death_rate": 0.020070838252656435,
          "deaths": 34
         },
         {
          "confirmed": 2036,
          "country": "Italy",
          "date": "2020-03-02T00:00:00",
          "death_rate": 0.025540275049115914,
          "deaths": 52
         },
         {
          "confirmed": 2502,
          "country": "Italy",
          "date": "2020-03-03T00:00:00",
          "death_rate": 0.03157474020783373,
          "deaths": 79
         },
         {
          "confirmed": 3089,
          "country": "Italy",
          "date": "2020-03-04T00:00:00",
          "death_rate": 0.03463904176108773,
          "deaths": 107
         },
         {
          "confirmed": 3858,
          "country": "Italy",
          "date": "2020-03-05T00:00:00",
          "death_rate": 0.0383618455158113,
          "deaths": 148
         },
         {
          "confirmed": 4636,
          "country": "Italy",
          "date": "2020-03-06T00:00:00",
          "death_rate": 0.042493528904227786,
          "deaths": 197
         },
         {
          "confirmed": 5883,
          "country": "Italy",
          "date": "2020-03-07T00:00:00",
          "death_rate": 0.039605643379228284,
          "deaths": 233
         },
         {
          "confirmed": 7375,
          "country": "Italy",
          "date": "2020-03-08T00:00:00",
          "death_rate": 0.0496271186440678,
          "deaths": 366
         },
         {
          "confirmed": 9172,
          "country": "Italy",
          "date": "2020-03-09T00:00:00",
          "death_rate": 0.050479720889664195,
          "deaths": 463
         },
         {
          "confirmed": 10149,
          "country": "Italy",
          "date": "2020-03-10T00:00:00",
          "death_rate": 0.062173613163858506,
          "deaths": 631
         },
         {
          "confirmed": 12462,
          "country": "Italy",
          "date": "2020-03-11T00:00:00",
          "death_rate": 0.06636173968865351,
          "deaths": 827
         },
         {
          "confirmed": 12462,
          "country": "Italy",
          "date": "2020-03-12T00:00:00",
          "death_rate": 0.06636173968865351,
          "deaths": 827
         },
         {
          "confirmed": 17660,
          "country": "Italy",
          "date": "2020-03-13T00:00:00",
          "death_rate": 0.07168742921857305,
          "deaths": 1266
         },
         {
          "confirmed": 21157,
          "country": "Italy",
          "date": "2020-03-14T00:00:00",
          "death_rate": 0.06810984544122513,
          "deaths": 1441
         },
         {
          "confirmed": 24747,
          "country": "Italy",
          "date": "2020-03-15T00:00:00",
          "death_rate": 0.0730997696690508,
          "deaths": 1809
         },
         {
          "confirmed": 104,
          "country": "Korea, South",
          "date": "2020-02-20T00:00:00",
          "death_rate": 0.009615384615384616,
          "deaths": 1
         },
         {
          "confirmed": 204,
          "country": "Korea, South",
          "date": "2020-02-21T00:00:00",
          "death_rate": 0.00980392156862745,
          "deaths": 2
         },
         {
          "confirmed": 433,
          "country": "Korea, South",
          "date": "2020-02-22T00:00:00",
          "death_rate": 0.004618937644341801,
          "deaths": 2
         },
         {
          "confirmed": 602,
          "country": "Korea, South",
          "date": "2020-02-23T00:00:00",
          "death_rate": 0.009966777408637873,
          "deaths": 6
         },
         {
          "confirmed": 833,
          "country": "Korea, South",
          "date": "2020-02-24T00:00:00",
          "death_rate": 0.009603841536614645,
          "deaths": 8
         },
         {
          "confirmed": 977,
          "country": "Korea, South",
          "date": "2020-02-25T00:00:00",
          "death_rate": 0.01023541453428864,
          "deaths": 10
         },
         {
          "confirmed": 1261,
          "country": "Korea, South",
          "date": "2020-02-26T00:00:00",
          "death_rate": 0.00951625693893735,
          "deaths": 12
         },
         {
          "confirmed": 1766,
          "country": "Korea, South",
          "date": "2020-02-27T00:00:00",
          "death_rate": 0.007361268403171008,
          "deaths": 13
         },
         {
          "confirmed": 2337,
          "country": "Korea, South",
          "date": "2020-02-28T00:00:00",
          "death_rate": 0.005562687205819427,
          "deaths": 13
         },
         {
          "confirmed": 3150,
          "country": "Korea, South",
          "date": "2020-02-29T00:00:00",
          "death_rate": 0.005079365079365079,
          "deaths": 16
         },
         {
          "confirmed": 3736,
          "country": "Korea, South",
          "date": "2020-03-01T00:00:00",
          "death_rate": 0.004550321199143469,
          "deaths": 17
         },
         {
          "confirmed": 4335,
          "country": "Korea, South",
          "date": "2020-03-02T00:00:00",
          "death_rate": 0.006459054209919262,
          "deaths": 28
         },
         {
          "confirmed": 5186,
          "country": "Korea, South",
          "date": "2020-03-03T00:00:00",
          "death_rate": 0.005399151561897416,
          "deaths": 28
         },
         {
          "confirmed": 5621,
          "country": "Korea, South",
          "date": "2020-03-04T00:00:00",
          "death_rate": 0.0062266500622665,
          "deaths": 35
         },
         {
          "confirmed": 6088,
          "country": "Korea, South",
          "date": "2020-03-05T00:00:00",
          "death_rate": 0.005749014454664914,
          "deaths": 35
         },
         {
          "confirmed": 6593,
          "country": "Korea, South",
          "date": "2020-03-06T00:00:00",
          "death_rate": 0.006370392840891855,
          "deaths": 42
         },
         {
          "confirmed": 7041,
          "country": "Korea, South",
          "date": "2020-03-07T00:00:00",
          "death_rate": 0.0062491123419968755,
          "deaths": 44
         },
         {
          "confirmed": 7314,
          "country": "Korea, South",
          "date": "2020-03-08T00:00:00",
          "death_rate": 0.006836204539239814,
          "deaths": 50
         },
         {
          "confirmed": 7478,
          "country": "Korea, South",
          "date": "2020-03-09T00:00:00",
          "death_rate": 0.007087456539181599,
          "deaths": 53
         },
         {
          "confirmed": 7513,
          "country": "Korea, South",
          "date": "2020-03-10T00:00:00",
          "death_rate": 0.007187541594569413,
          "deaths": 54
         },
         {
          "confirmed": 7755,
          "country": "Korea, South",
          "date": "2020-03-11T00:00:00",
          "death_rate": 0.007736943907156673,
          "deaths": 60
         },
         {
          "confirmed": 7869,
          "country": "Korea, South",
          "date": "2020-03-12T00:00:00",
          "death_rate": 0.008387342737323675,
          "deaths": 66
         },
         {
          "confirmed": 7979,
          "country": "Korea, South",
          "date": "2020-03-13T00:00:00",
          "death_rate": 0.008271713247274095,
          "deaths": 66
         },
         {
          "confirmed": 8086,
          "country": "Korea, South",
          "date": "2020-03-14T00:00:00",
          "death_rate": 0.008904279000742024,
          "deaths": 72
         },
         {
          "confirmed": 8162,
          "country": "Korea, South",
          "date": "2020-03-15T00:00:00",
          "death_rate": 0.009188924283263906,
          "deaths": 75
         },
         {
          "confirmed": 120,
          "country": "Spain",
          "date": "2020-03-02T00:00:00",
          "death_rate": 0,
          "deaths": 0
         },
         {
          "confirmed": 165,
          "country": "Spain",
          "date": "2020-03-03T00:00:00",
          "death_rate": 0.006060606060606061,
          "deaths": 1
         },
         {
          "confirmed": 222,
          "country": "Spain",
          "date": "2020-03-04T00:00:00",
          "death_rate": 0.009009009009009009,
          "deaths": 2
         },
         {
          "confirmed": 259,
          "country": "Spain",
          "date": "2020-03-05T00:00:00",
          "death_rate": 0.011583011583011582,
          "deaths": 3
         },
         {
          "confirmed": 400,
          "country": "Spain",
          "date": "2020-03-06T00:00:00",
          "death_rate": 0.0125,
          "deaths": 5
         },
         {
          "confirmed": 500,
          "country": "Spain",
          "date": "2020-03-07T00:00:00",
          "death_rate": 0.02,
          "deaths": 10
         },
         {
          "confirmed": 673,
          "country": "Spain",
          "date": "2020-03-08T00:00:00",
          "death_rate": 0.02526002971768202,
          "deaths": 17
         },
         {
          "confirmed": 1073,
          "country": "Spain",
          "date": "2020-03-09T00:00:00",
          "death_rate": 0.0260950605778192,
          "deaths": 28
         },
         {
          "confirmed": 1695,
          "country": "Spain",
          "date": "2020-03-10T00:00:00",
          "death_rate": 0.02064896755162242,
          "deaths": 35
         },
         {
          "confirmed": 2277,
          "country": "Spain",
          "date": "2020-03-11T00:00:00",
          "death_rate": 0.023715415019762844,
          "deaths": 54
         },
         {
          "confirmed": 2277,
          "country": "Spain",
          "date": "2020-03-12T00:00:00",
          "death_rate": 0.024154589371980676,
          "deaths": 55
         },
         {
          "confirmed": 5232,
          "country": "Spain",
          "date": "2020-03-13T00:00:00",
          "death_rate": 0.025420489296636085,
          "deaths": 133
         },
         {
          "confirmed": 6391,
          "country": "Spain",
          "date": "2020-03-14T00:00:00",
          "death_rate": 0.030511657017681115,
          "deaths": 195
         },
         {
          "confirmed": 7798,
          "country": "Spain",
          "date": "2020-03-15T00:00:00",
          "death_rate": 0.037060784816619646,
          "deaths": 289
         },
         {
          "confirmed": 118,
          "country": "US",
          "date": "2020-03-03T00:00:00",
          "death_rate": 0.059322033898305086,
          "deaths": 7
         },
         {
          "confirmed": 149,
          "country": "US",
          "date": "2020-03-04T00:00:00",
          "death_rate": 0.0738255033557047,
          "deaths": 11
         },
         {
          "confirmed": 217,
          "country": "US",
          "date": "2020-03-05T00:00:00",
          "death_rate": 0.055299539170506916,
          "deaths": 12
         },
         {
          "confirmed": 262,
          "country": "US",
          "date": "2020-03-06T00:00:00",
          "death_rate": 0.05343511450381679,
          "deaths": 14
         },
         {
          "confirmed": 402,
          "country": "US",
          "date": "2020-03-07T00:00:00",
          "death_rate": 0.04228855721393035,
          "deaths": 17
         },
         {
          "confirmed": 518,
          "country": "US",
          "date": "2020-03-08T00:00:00",
          "death_rate": 0.04054054054054054,
          "deaths": 21
         },
         {
          "confirmed": 583,
          "country": "US",
          "date": "2020-03-09T00:00:00",
          "death_rate": 0.03773584905660377,
          "deaths": 22
         },
         {
          "confirmed": 959,
          "country": "US",
          "date": "2020-03-10T00:00:00",
          "death_rate": 0.029197080291970802,
          "deaths": 28
         },
         {
          "confirmed": 1281,
          "country": "US",
          "date": "2020-03-11T00:00:00",
          "death_rate": 0.02810304449648712,
          "deaths": 36
         },
         {
          "confirmed": 1663,
          "country": "US",
          "date": "2020-03-12T00:00:00",
          "death_rate": 0.024052916416115455,
          "deaths": 40
         },
         {
          "confirmed": 2179,
          "country": "US",
          "date": "2020-03-13T00:00:00",
          "death_rate": 0.021569527306103717,
          "deaths": 47
         },
         {
          "confirmed": 2727,
          "country": "US",
          "date": "2020-03-14T00:00:00",
          "death_rate": 0.019801980198019802,
          "deaths": 54
         },
         {
          "confirmed": 3499,
          "country": "US",
          "date": "2020-03-15T00:00:00",
          "death_rate": 0.018005144326950558,
          "deaths": 63
         },
         {
          "confirmed": 116,
          "country": "United Kingdom",
          "date": "2020-03-05T00:00:00",
          "death_rate": 0.008620689655172414,
          "deaths": 1
         },
         {
          "confirmed": 164,
          "country": "United Kingdom",
          "date": "2020-03-06T00:00:00",
          "death_rate": 0.012195121951219513,
          "deaths": 2
         },
         {
          "confirmed": 207,
          "country": "United Kingdom",
          "date": "2020-03-07T00:00:00",
          "death_rate": 0.00966183574879227,
          "deaths": 2
         },
         {
          "confirmed": 274,
          "country": "United Kingdom",
          "date": "2020-03-08T00:00:00",
          "death_rate": 0.010948905109489052,
          "deaths": 3
         },
         {
          "confirmed": 322,
          "country": "United Kingdom",
          "date": "2020-03-09T00:00:00",
          "death_rate": 0.012422360248447204,
          "deaths": 4
         },
         {
          "confirmed": 384,
          "country": "United Kingdom",
          "date": "2020-03-10T00:00:00",
          "death_rate": 0.015625,
          "deaths": 6
         },
         {
          "confirmed": 459,
          "country": "United Kingdom",
          "date": "2020-03-11T00:00:00",
          "death_rate": 0.017429193899782137,
          "deaths": 8
         },
         {
          "confirmed": 459,
          "country": "United Kingdom",
          "date": "2020-03-12T00:00:00",
          "death_rate": 0.017429193899782137,
          "deaths": 8
         },
         {
          "confirmed": 801,
          "country": "United Kingdom",
          "date": "2020-03-13T00:00:00",
          "death_rate": 0.009987515605493134,
          "deaths": 8
         },
         {
          "confirmed": 1143,
          "country": "United Kingdom",
          "date": "2020-03-14T00:00:00",
          "death_rate": 0.01837270341207349,
          "deaths": 21
         },
         {
          "confirmed": 1144,
          "country": "United Kingdom",
          "date": "2020-03-15T00:00:00",
          "death_rate": 0.018356643356643356,
          "deaths": 21
         }
        ]
       },
       "encoding": {
        "color": {
         "field": "country",
         "type": "nominal"
        },
        "x": {
         "field": "date",
         "title": "Date",
         "type": "temporal"
        },
        "y": {
         "field": "death_rate",
         "title": "share of COVID-19 deaths in infected persons",
         "type": "quantitative"
        }
       },
       "height": 300,
       "mark": {
        "point": {
         "shape": "circle",
         "size": 10
        },
        "type": "line"
       },
       "padding": {
        "bottom": 5,
        "left": 5,
        "right": 5,
        "top": 50
       },
       "title": "Development of confirmed COVID-19 deaths in infected persons",
       "width": 500
      },
      "image/png": "[encoded data removed]",
      "text/plain": [
       "<VegaLite 3 object>\n",
       "\n",
       "If you see this message, it means the renderer has not been properly enabled\n",
       "for the frontend that you are using. For more information, see\n",
       "https://altair-viz.github.io/user_guide/troubleshooting.html\n"
      ]
     },
     "execution_count": 39,
     "metadata": {},
     "output_type": "execute_result"
    }
   ],
   "source": [
    "chart_deaths_infections"
   ]
  },
  {
   "cell_type": "code",
   "execution_count": 40,
   "metadata": {},
   "outputs": [],
   "source": [
    "chart_deaths_infections.save('./charts/deaths_infections.svg', webdriver='firefox')"
   ]
  },
  {
   "cell_type": "code",
   "execution_count": 41,
   "metadata": {},
   "outputs": [],
   "source": [
    "both_sel['days_since100'] = 0\n",
    "for name, group in both_sel.groupby(['country']):\n",
    "    for i in range(0, len(group)):\n",
    "        ix = group.index.values[i]\n",
    "        both_sel.loc[ix, 'days_since100']=i"
   ]
  },
  {
   "cell_type": "code",
   "execution_count": 42,
   "metadata": {},
   "outputs": [],
   "source": [
    "chart_deaths_infections_100 = alt.Chart(\n",
    "    both_sel, \n",
    "    height=300,\n",
    "    title='Development of confirmed COVID-19 deaths in infected persons'\n",
    ").mark_line(\n",
    "    point=alt.OverlayMarkDef(shape='circle', size=10)\n",
    ").encode(\n",
    "    alt.X('days_since100:Q', title='Days since 100th case'),\n",
    "    alt.Y(\n",
    "        'death_rate:Q',\n",
    "        title='share of COVID-19 deaths in infected persons'\n",
    "    ),\n",
    "    color='country:N')"
   ]
  },
  {
   "cell_type": "code",
   "execution_count": 43,
   "metadata": {},
   "outputs": [
    {
     "data": {
      "application/vnd.vegalite.v3+json": {
       "$schema": "https://vega.github.io/schema/vega-lite/v3.4.0.json",
       "config": {
        "area": {
         "fill": "#1696d2"
        },
        "axisX": {
         "domain": true,
         "domainColor": "#DEDDDD",
         "domainDashOffset": 10,
         "domainWidth": 1,
         "grid": false,
         "labelAngle": 0,
         "labelFont": "Avenir",
         "labelFontSize": 10,
         "tickColor": "#DEDDDD",
         "titleFont": "Avenir",
         "titleFontSize": 12,
         "titleFontWeight": 400,
         "titlePadding": 10
        },
        "axisY": {
         "domain": false,
         "domainDashOffset": 10,
         "grid": true,
         "gridColor": "#DEDDDD",
         "gridDash": [
          5,
          2
         ],
         "gridWidth": 1,
         "labelAngle": 0,
         "labelFont": "Avenir",
         "labelFontSize": 10,
         "titleFont": "Avenir",
         "titleFontSize": 12,
         "titleFontWeight": 400,
         "titlePadding": 10
        },
        "bar": {
         "fill": "#1696d2",
         "strokeWidth": 0
        },
        "guide-title": {
         "color": "Monospace",
         "font": "Avenir",
         "fontSize": 15
        },
        "header": {
         "titleFontSize": 12,
         "titleFontWeight": 400
        },
        "legend": {
         "labelFont": "Avenir",
         "labelFontSize": 12,
         "symbolSize": 50,
         "symbolType": "circle",
         "title": "",
         "titleFont": "Avenir",
         "titleFontSize": 12
        },
        "line": {
         "color": "#1696d2",
         "stroke": "#1696d2",
         "strokeWidth": 1
        },
        "path": {
         "stroke": "#1696d2"
        },
        "point": {
         "filled": true
        },
        "range": {
         "category": [
          "#a6cee3",
          "#1f78b4",
          "#b2df8a",
          "#33a02c",
          "#fb9a99",
          "#e31a1c",
          "#fdbf6f",
          "#ff7f00"
         ],
         "diverging": [
          "#cfe8f3",
          "#a2d4ec",
          "#73bfe2",
          "#46abdb",
          "#1696d2",
          "#12719e"
         ]
        },
        "text": {
         "align": "right",
         "color": "#1696d2",
         "font": "Avenir",
         "fontSize": 12,
         "fontWeight": 400,
         "size": 11
        },
        "title": {
         "anchor": "start",
         "color": "#4d4d4d",
         "font": "Avenir",
         "fontSize": 20,
         "fontWeight": 300,
         "lineHeight": 100,
         "offset": 30
        },
        "trail": {
         "color": "#1696d2",
         "stroke": "#1696d2"
        },
        "view": {
         "strokeWidth": 0
        }
       },
       "data": {
        "name": "data-0af2baea86603098702910b9c5cc58e4"
       },
       "datasets": {
        "data-0af2baea86603098702910b9c5cc58e4": [
         {
          "confirmed": 130,
          "country": "France",
          "date": "2020-03-01T00:00:00",
          "days_since100": 0,
          "death_rate": 0.015384615384615385,
          "deaths": 2
         },
         {
          "confirmed": 191,
          "country": "France",
          "date": "2020-03-02T00:00:00",
          "days_since100": 1,
          "death_rate": 0.015706806282722512,
          "deaths": 3
         },
         {
          "confirmed": 204,
          "country": "France",
          "date": "2020-03-03T00:00:00",
          "days_since100": 2,
          "death_rate": 0.0196078431372549,
          "deaths": 4
         },
         {
          "confirmed": 288,
          "country": "France",
          "date": "2020-03-04T00:00:00",
          "days_since100": 3,
          "death_rate": 0.013888888888888888,
          "deaths": 4
         },
         {
          "confirmed": 380,
          "country": "France",
          "date": "2020-03-05T00:00:00",
          "days_since100": 4,
          "death_rate": 0.015789473684210527,
          "deaths": 6
         },
         {
          "confirmed": 656,
          "country": "France",
          "date": "2020-03-06T00:00:00",
          "days_since100": 5,
          "death_rate": 0.013719512195121951,
          "deaths": 9
         },
         {
          "confirmed": 957,
          "country": "France",
          "date": "2020-03-07T00:00:00",
          "days_since100": 6,
          "death_rate": 0.011494252873563218,
          "deaths": 11
         },
         {
          "confirmed": 1134,
          "country": "France",
          "date": "2020-03-08T00:00:00",
          "days_since100": 7,
          "death_rate": 0.01675485008818342,
          "deaths": 19
         },
         {
          "confirmed": 1217,
          "country": "France",
          "date": "2020-03-09T00:00:00",
          "days_since100": 8,
          "death_rate": 0.015612161051766639,
          "deaths": 19
         },
         {
          "confirmed": 1792,
          "country": "France",
          "date": "2020-03-10T00:00:00",
          "days_since100": 9,
          "death_rate": 0.018415178571428572,
          "deaths": 33
         },
         {
          "confirmed": 2289,
          "country": "France",
          "date": "2020-03-11T00:00:00",
          "days_since100": 10,
          "death_rate": 0.020969855832241154,
          "deaths": 48
         },
         {
          "confirmed": 2289,
          "country": "France",
          "date": "2020-03-12T00:00:00",
          "days_since100": 11,
          "death_rate": 0.020969855832241154,
          "deaths": 48
         },
         {
          "confirmed": 3672,
          "country": "France",
          "date": "2020-03-13T00:00:00",
          "days_since100": 12,
          "death_rate": 0.021514161220043574,
          "deaths": 79
         },
         {
          "confirmed": 4480,
          "country": "France",
          "date": "2020-03-14T00:00:00",
          "days_since100": 13,
          "death_rate": 0.0203125,
          "deaths": 91
         },
         {
          "confirmed": 4513,
          "country": "France",
          "date": "2020-03-15T00:00:00",
          "days_since100": 14,
          "death_rate": 0.020163970751163305,
          "deaths": 91
         },
         {
          "confirmed": 130,
          "country": "Germany",
          "date": "2020-03-01T00:00:00",
          "days_since100": 0,
          "death_rate": 0,
          "deaths": 0
         },
         {
          "confirmed": 159,
          "country": "Germany",
          "date": "2020-03-02T00:00:00",
          "days_since100": 1,
          "death_rate": 0,
          "deaths": 0
         },
         {
          "confirmed": 196,
          "country": "Germany",
          "date": "2020-03-03T00:00:00",
          "days_since100": 2,
          "death_rate": 0,
          "deaths": 0
         },
         {
          "confirmed": 262,
          "country": "Germany",
          "date": "2020-03-04T00:00:00",
          "days_since100": 3,
          "death_rate": 0,
          "deaths": 0
         },
         {
          "confirmed": 482,
          "country": "Germany",
          "date": "2020-03-05T00:00:00",
          "days_since100": 4,
          "death_rate": 0,
          "deaths": 0
         },
         {
          "confirmed": 670,
          "country": "Germany",
          "date": "2020-03-06T00:00:00",
          "days_since100": 5,
          "death_rate": 0,
          "deaths": 0
         },
         {
          "confirmed": 799,
          "country": "Germany",
          "date": "2020-03-07T00:00:00",
          "days_since100": 6,
          "death_rate": 0,
          "deaths": 0
         },
         {
          "confirmed": 1040,
          "country": "Germany",
          "date": "2020-03-08T00:00:00",
          "days_since100": 7,
          "death_rate": 0,
          "deaths": 0
         },
         {
          "confirmed": 1176,
          "country": "Germany",
          "date": "2020-03-09T00:00:00",
          "days_since100": 8,
          "death_rate": 0.0017006802721088435,
          "deaths": 2
         },
         {
          "confirmed": 1457,
          "country": "Germany",
          "date": "2020-03-10T00:00:00",
          "days_since100": 9,
          "death_rate": 0.0013726835964310226,
          "deaths": 2
         },
         {
          "confirmed": 1908,
          "country": "Germany",
          "date": "2020-03-11T00:00:00",
          "days_since100": 10,
          "death_rate": 0.0015723270440251573,
          "deaths": 3
         },
         {
          "confirmed": 2078,
          "country": "Germany",
          "date": "2020-03-12T00:00:00",
          "days_since100": 11,
          "death_rate": 0.0014436958614051972,
          "deaths": 3
         },
         {
          "confirmed": 3675,
          "country": "Germany",
          "date": "2020-03-13T00:00:00",
          "days_since100": 12,
          "death_rate": 0.0019047619047619048,
          "deaths": 7
         },
         {
          "confirmed": 4585,
          "country": "Germany",
          "date": "2020-03-14T00:00:00",
          "days_since100": 13,
          "death_rate": 0.0019629225736095966,
          "deaths": 9
         },
         {
          "confirmed": 5795,
          "country": "Germany",
          "date": "2020-03-15T00:00:00",
          "days_since100": 14,
          "death_rate": 0.0018981880931837791,
          "deaths": 11
         },
         {
          "confirmed": 155,
          "country": "Italy",
          "date": "2020-02-23T00:00:00",
          "days_since100": 0,
          "death_rate": 0.01935483870967742,
          "deaths": 3
         },
         {
          "confirmed": 229,
          "country": "Italy",
          "date": "2020-02-24T00:00:00",
          "days_since100": 1,
          "death_rate": 0.03056768558951965,
          "deaths": 7
         },
         {
          "confirmed": 322,
          "country": "Italy",
          "date": "2020-02-25T00:00:00",
          "days_since100": 2,
          "death_rate": 0.031055900621118012,
          "deaths": 10
         },
         {
          "confirmed": 453,
          "country": "Italy",
          "date": "2020-02-26T00:00:00",
          "days_since100": 3,
          "death_rate": 0.026490066225165563,
          "deaths": 12
         },
         {
          "confirmed": 655,
          "country": "Italy",
          "date": "2020-02-27T00:00:00",
          "days_since100": 4,
          "death_rate": 0.025954198473282442,
          "deaths": 17
         },
         {
          "confirmed": 888,
          "country": "Italy",
          "date": "2020-02-28T00:00:00",
          "days_since100": 5,
          "death_rate": 0.02364864864864865,
          "deaths": 21
         },
         {
          "confirmed": 1128,
          "country": "Italy",
          "date": "2020-02-29T00:00:00",
          "days_since100": 6,
          "death_rate": 0.025709219858156027,
          "deaths": 29
         },
         {
          "confirmed": 1694,
          "country": "Italy",
          "date": "2020-03-01T00:00:00",
          "days_since100": 7,
          "death_rate": 0.020070838252656435,
          "deaths": 34
         },
         {
          "confirmed": 2036,
          "country": "Italy",
          "date": "2020-03-02T00:00:00",
          "days_since100": 8,
          "death_rate": 0.025540275049115914,
          "deaths": 52
         },
         {
          "confirmed": 2502,
          "country": "Italy",
          "date": "2020-03-03T00:00:00",
          "days_since100": 9,
          "death_rate": 0.03157474020783373,
          "deaths": 79
         },
         {
          "confirmed": 3089,
          "country": "Italy",
          "date": "2020-03-04T00:00:00",
          "days_since100": 10,
          "death_rate": 0.03463904176108773,
          "deaths": 107
         },
         {
          "confirmed": 3858,
          "country": "Italy",
          "date": "2020-03-05T00:00:00",
          "days_since100": 11,
          "death_rate": 0.0383618455158113,
          "deaths": 148
         },
         {
          "confirmed": 4636,
          "country": "Italy",
          "date": "2020-03-06T00:00:00",
          "days_since100": 12,
          "death_rate": 0.042493528904227786,
          "deaths": 197
         },
         {
          "confirmed": 5883,
          "country": "Italy",
          "date": "2020-03-07T00:00:00",
          "days_since100": 13,
          "death_rate": 0.039605643379228284,
          "deaths": 233
         },
         {
          "confirmed": 7375,
          "country": "Italy",
          "date": "2020-03-08T00:00:00",
          "days_since100": 14,
          "death_rate": 0.0496271186440678,
          "deaths": 366
         },
         {
          "confirmed": 9172,
          "country": "Italy",
          "date": "2020-03-09T00:00:00",
          "days_since100": 15,
          "death_rate": 0.050479720889664195,
          "deaths": 463
         },
         {
          "confirmed": 10149,
          "country": "Italy",
          "date": "2020-03-10T00:00:00",
          "days_since100": 16,
          "death_rate": 0.062173613163858506,
          "deaths": 631
         },
         {
          "confirmed": 12462,
          "country": "Italy",
          "date": "2020-03-11T00:00:00",
          "days_since100": 17,
          "death_rate": 0.06636173968865351,
          "deaths": 827
         },
         {
          "confirmed": 12462,
          "country": "Italy",
          "date": "2020-03-12T00:00:00",
          "days_since100": 18,
          "death_rate": 0.06636173968865351,
          "deaths": 827
         },
         {
          "confirmed": 17660,
          "country": "Italy",
          "date": "2020-03-13T00:00:00",
          "days_since100": 19,
          "death_rate": 0.07168742921857305,
          "deaths": 1266
         },
         {
          "confirmed": 21157,
          "country": "Italy",
          "date": "2020-03-14T00:00:00",
          "days_since100": 20,
          "death_rate": 0.06810984544122513,
          "deaths": 1441
         },
         {
          "confirmed": 24747,
          "country": "Italy",
          "date": "2020-03-15T00:00:00",
          "days_since100": 21,
          "death_rate": 0.0730997696690508,
          "deaths": 1809
         },
         {
          "confirmed": 104,
          "country": "Korea, South",
          "date": "2020-02-20T00:00:00",
          "days_since100": 0,
          "death_rate": 0.009615384615384616,
          "deaths": 1
         },
         {
          "confirmed": 204,
          "country": "Korea, South",
          "date": "2020-02-21T00:00:00",
          "days_since100": 1,
          "death_rate": 0.00980392156862745,
          "deaths": 2
         },
         {
          "confirmed": 433,
          "country": "Korea, South",
          "date": "2020-02-22T00:00:00",
          "days_since100": 2,
          "death_rate": 0.004618937644341801,
          "deaths": 2
         },
         {
          "confirmed": 602,
          "country": "Korea, South",
          "date": "2020-02-23T00:00:00",
          "days_since100": 3,
          "death_rate": 0.009966777408637873,
          "deaths": 6
         },
         {
          "confirmed": 833,
          "country": "Korea, South",
          "date": "2020-02-24T00:00:00",
          "days_since100": 4,
          "death_rate": 0.009603841536614645,
          "deaths": 8
         },
         {
          "confirmed": 977,
          "country": "Korea, South",
          "date": "2020-02-25T00:00:00",
          "days_since100": 5,
          "death_rate": 0.01023541453428864,
          "deaths": 10
         },
         {
          "confirmed": 1261,
          "country": "Korea, South",
          "date": "2020-02-26T00:00:00",
          "days_since100": 6,
          "death_rate": 0.00951625693893735,
          "deaths": 12
         },
         {
          "confirmed": 1766,
          "country": "Korea, South",
          "date": "2020-02-27T00:00:00",
          "days_since100": 7,
          "death_rate": 0.007361268403171008,
          "deaths": 13
         },
         {
          "confirmed": 2337,
          "country": "Korea, South",
          "date": "2020-02-28T00:00:00",
          "days_since100": 8,
          "death_rate": 0.005562687205819427,
          "deaths": 13
         },
         {
          "confirmed": 3150,
          "country": "Korea, South",
          "date": "2020-02-29T00:00:00",
          "days_since100": 9,
          "death_rate": 0.005079365079365079,
          "deaths": 16
         },
         {
          "confirmed": 3736,
          "country": "Korea, South",
          "date": "2020-03-01T00:00:00",
          "days_since100": 10,
          "death_rate": 0.004550321199143469,
          "deaths": 17
         },
         {
          "confirmed": 4335,
          "country": "Korea, South",
          "date": "2020-03-02T00:00:00",
          "days_since100": 11,
          "death_rate": 0.006459054209919262,
          "deaths": 28
         },
         {
          "confirmed": 5186,
          "country": "Korea, South",
          "date": "2020-03-03T00:00:00",
          "days_since100": 12,
          "death_rate": 0.005399151561897416,
          "deaths": 28
         },
         {
          "confirmed": 5621,
          "country": "Korea, South",
          "date": "2020-03-04T00:00:00",
          "days_since100": 13,
          "death_rate": 0.0062266500622665,
          "deaths": 35
         },
         {
          "confirmed": 6088,
          "country": "Korea, South",
          "date": "2020-03-05T00:00:00",
          "days_since100": 14,
          "death_rate": 0.005749014454664914,
          "deaths": 35
         },
         {
          "confirmed": 6593,
          "country": "Korea, South",
          "date": "2020-03-06T00:00:00",
          "days_since100": 15,
          "death_rate": 0.006370392840891855,
          "deaths": 42
         },
         {
          "confirmed": 7041,
          "country": "Korea, South",
          "date": "2020-03-07T00:00:00",
          "days_since100": 16,
          "death_rate": 0.0062491123419968755,
          "deaths": 44
         },
         {
          "confirmed": 7314,
          "country": "Korea, South",
          "date": "2020-03-08T00:00:00",
          "days_since100": 17,
          "death_rate": 0.006836204539239814,
          "deaths": 50
         },
         {
          "confirmed": 7478,
          "country": "Korea, South",
          "date": "2020-03-09T00:00:00",
          "days_since100": 18,
          "death_rate": 0.007087456539181599,
          "deaths": 53
         },
         {
          "confirmed": 7513,
          "country": "Korea, South",
          "date": "2020-03-10T00:00:00",
          "days_since100": 19,
          "death_rate": 0.007187541594569413,
          "deaths": 54
         },
         {
          "confirmed": 7755,
          "country": "Korea, South",
          "date": "2020-03-11T00:00:00",
          "days_since100": 20,
          "death_rate": 0.007736943907156673,
          "deaths": 60
         },
         {
          "confirmed": 7869,
          "country": "Korea, South",
          "date": "2020-03-12T00:00:00",
          "days_since100": 21,
          "death_rate": 0.008387342737323675,
          "deaths": 66
         },
         {
          "confirmed": 7979,
          "country": "Korea, South",
          "date": "2020-03-13T00:00:00",
          "days_since100": 22,
          "death_rate": 0.008271713247274095,
          "deaths": 66
         },
         {
          "confirmed": 8086,
          "country": "Korea, South",
          "date": "2020-03-14T00:00:00",
          "days_since100": 23,
          "death_rate": 0.008904279000742024,
          "deaths": 72
         },
         {
          "confirmed": 8162,
          "country": "Korea, South",
          "date": "2020-03-15T00:00:00",
          "days_since100": 24,
          "death_rate": 0.009188924283263906,
          "deaths": 75
         },
         {
          "confirmed": 120,
          "country": "Spain",
          "date": "2020-03-02T00:00:00",
          "days_since100": 0,
          "death_rate": 0,
          "deaths": 0
         },
         {
          "confirmed": 165,
          "country": "Spain",
          "date": "2020-03-03T00:00:00",
          "days_since100": 1,
          "death_rate": 0.006060606060606061,
          "deaths": 1
         },
         {
          "confirmed": 222,
          "country": "Spain",
          "date": "2020-03-04T00:00:00",
          "days_since100": 2,
          "death_rate": 0.009009009009009009,
          "deaths": 2
         },
         {
          "confirmed": 259,
          "country": "Spain",
          "date": "2020-03-05T00:00:00",
          "days_since100": 3,
          "death_rate": 0.011583011583011582,
          "deaths": 3
         },
         {
          "confirmed": 400,
          "country": "Spain",
          "date": "2020-03-06T00:00:00",
          "days_since100": 4,
          "death_rate": 0.0125,
          "deaths": 5
         },
         {
          "confirmed": 500,
          "country": "Spain",
          "date": "2020-03-07T00:00:00",
          "days_since100": 5,
          "death_rate": 0.02,
          "deaths": 10
         },
         {
          "confirmed": 673,
          "country": "Spain",
          "date": "2020-03-08T00:00:00",
          "days_since100": 6,
          "death_rate": 0.02526002971768202,
          "deaths": 17
         },
         {
          "confirmed": 1073,
          "country": "Spain",
          "date": "2020-03-09T00:00:00",
          "days_since100": 7,
          "death_rate": 0.0260950605778192,
          "deaths": 28
         },
         {
          "confirmed": 1695,
          "country": "Spain",
          "date": "2020-03-10T00:00:00",
          "days_since100": 8,
          "death_rate": 0.02064896755162242,
          "deaths": 35
         },
         {
          "confirmed": 2277,
          "country": "Spain",
          "date": "2020-03-11T00:00:00",
          "days_since100": 9,
          "death_rate": 0.023715415019762844,
          "deaths": 54
         },
         {
          "confirmed": 2277,
          "country": "Spain",
          "date": "2020-03-12T00:00:00",
          "days_since100": 10,
          "death_rate": 0.024154589371980676,
          "deaths": 55
         },
         {
          "confirmed": 5232,
          "country": "Spain",
          "date": "2020-03-13T00:00:00",
          "days_since100": 11,
          "death_rate": 0.025420489296636085,
          "deaths": 133
         },
         {
          "confirmed": 6391,
          "country": "Spain",
          "date": "2020-03-14T00:00:00",
          "days_since100": 12,
          "death_rate": 0.030511657017681115,
          "deaths": 195
         },
         {
          "confirmed": 7798,
          "country": "Spain",
          "date": "2020-03-15T00:00:00",
          "days_since100": 13,
          "death_rate": 0.037060784816619646,
          "deaths": 289
         },
         {
          "confirmed": 118,
          "country": "US",
          "date": "2020-03-03T00:00:00",
          "days_since100": 0,
          "death_rate": 0.059322033898305086,
          "deaths": 7
         },
         {
          "confirmed": 149,
          "country": "US",
          "date": "2020-03-04T00:00:00",
          "days_since100": 1,
          "death_rate": 0.0738255033557047,
          "deaths": 11
         },
         {
          "confirmed": 217,
          "country": "US",
          "date": "2020-03-05T00:00:00",
          "days_since100": 2,
          "death_rate": 0.055299539170506916,
          "deaths": 12
         },
         {
          "confirmed": 262,
          "country": "US",
          "date": "2020-03-06T00:00:00",
          "days_since100": 3,
          "death_rate": 0.05343511450381679,
          "deaths": 14
         },
         {
          "confirmed": 402,
          "country": "US",
          "date": "2020-03-07T00:00:00",
          "days_since100": 4,
          "death_rate": 0.04228855721393035,
          "deaths": 17
         },
         {
          "confirmed": 518,
          "country": "US",
          "date": "2020-03-08T00:00:00",
          "days_since100": 5,
          "death_rate": 0.04054054054054054,
          "deaths": 21
         },
         {
          "confirmed": 583,
          "country": "US",
          "date": "2020-03-09T00:00:00",
          "days_since100": 6,
          "death_rate": 0.03773584905660377,
          "deaths": 22
         },
         {
          "confirmed": 959,
          "country": "US",
          "date": "2020-03-10T00:00:00",
          "days_since100": 7,
          "death_rate": 0.029197080291970802,
          "deaths": 28
         },
         {
          "confirmed": 1281,
          "country": "US",
          "date": "2020-03-11T00:00:00",
          "days_since100": 8,
          "death_rate": 0.02810304449648712,
          "deaths": 36
         },
         {
          "confirmed": 1663,
          "country": "US",
          "date": "2020-03-12T00:00:00",
          "days_since100": 9,
          "death_rate": 0.024052916416115455,
          "deaths": 40
         },
         {
          "confirmed": 2179,
          "country": "US",
          "date": "2020-03-13T00:00:00",
          "days_since100": 10,
          "death_rate": 0.021569527306103717,
          "deaths": 47
         },
         {
          "confirmed": 2727,
          "country": "US",
          "date": "2020-03-14T00:00:00",
          "days_since100": 11,
          "death_rate": 0.019801980198019802,
          "deaths": 54
         },
         {
          "confirmed": 3499,
          "country": "US",
          "date": "2020-03-15T00:00:00",
          "days_since100": 12,
          "death_rate": 0.018005144326950558,
          "deaths": 63
         },
         {
          "confirmed": 116,
          "country": "United Kingdom",
          "date": "2020-03-05T00:00:00",
          "days_since100": 0,
          "death_rate": 0.008620689655172414,
          "deaths": 1
         },
         {
          "confirmed": 164,
          "country": "United Kingdom",
          "date": "2020-03-06T00:00:00",
          "days_since100": 1,
          "death_rate": 0.012195121951219513,
          "deaths": 2
         },
         {
          "confirmed": 207,
          "country": "United Kingdom",
          "date": "2020-03-07T00:00:00",
          "days_since100": 2,
          "death_rate": 0.00966183574879227,
          "deaths": 2
         },
         {
          "confirmed": 274,
          "country": "United Kingdom",
          "date": "2020-03-08T00:00:00",
          "days_since100": 3,
          "death_rate": 0.010948905109489052,
          "deaths": 3
         },
         {
          "confirmed": 322,
          "country": "United Kingdom",
          "date": "2020-03-09T00:00:00",
          "days_since100": 4,
          "death_rate": 0.012422360248447204,
          "deaths": 4
         },
         {
          "confirmed": 384,
          "country": "United Kingdom",
          "date": "2020-03-10T00:00:00",
          "days_since100": 5,
          "death_rate": 0.015625,
          "deaths": 6
         },
         {
          "confirmed": 459,
          "country": "United Kingdom",
          "date": "2020-03-11T00:00:00",
          "days_since100": 6,
          "death_rate": 0.017429193899782137,
          "deaths": 8
         },
         {
          "confirmed": 459,
          "country": "United Kingdom",
          "date": "2020-03-12T00:00:00",
          "days_since100": 7,
          "death_rate": 0.017429193899782137,
          "deaths": 8
         },
         {
          "confirmed": 801,
          "country": "United Kingdom",
          "date": "2020-03-13T00:00:00",
          "days_since100": 8,
          "death_rate": 0.009987515605493134,
          "deaths": 8
         },
         {
          "confirmed": 1143,
          "country": "United Kingdom",
          "date": "2020-03-14T00:00:00",
          "days_since100": 9,
          "death_rate": 0.01837270341207349,
          "deaths": 21
         },
         {
          "confirmed": 1144,
          "country": "United Kingdom",
          "date": "2020-03-15T00:00:00",
          "days_since100": 10,
          "death_rate": 0.018356643356643356,
          "deaths": 21
         }
        ]
       },
       "encoding": {
        "color": {
         "field": "country",
         "type": "nominal"
        },
        "x": {
         "field": "days_since100",
         "title": "Days since 100th case",
         "type": "quantitative"
        },
        "y": {
         "field": "death_rate",
         "title": "share of COVID-19 deaths in infected persons",
         "type": "quantitative"
        }
       },
       "height": 300,
       "mark": {
        "point": {
         "shape": "circle",
         "size": 10
        },
        "type": "line"
       },
       "padding": {
        "bottom": 5,
        "left": 5,
        "right": 5,
        "top": 50
       },
       "title": "Development of confirmed COVID-19 deaths in infected persons",
       "width": 500
      },
      "image/png": "[encoded data removed]",
      "text/plain": [
       "<VegaLite 3 object>\n",
       "\n",
       "If you see this message, it means the renderer has not been properly enabled\n",
       "for the frontend that you are using. For more information, see\n",
       "https://altair-viz.github.io/user_guide/troubleshooting.html\n"
      ]
     },
     "execution_count": 43,
     "metadata": {},
     "output_type": "execute_result"
    }
   ],
   "source": [
    "chart_deaths_infections_100"
   ]
  },
  {
   "cell_type": "code",
   "execution_count": 44,
   "metadata": {},
   "outputs": [],
   "source": [
    "chart_deaths_infections_100.save('./charts/deaths_infections_100.svg', webdriver='firefox')"
   ]
  },
  {
   "cell_type": "code",
   "execution_count": null,
   "metadata": {},
   "outputs": [],
   "source": []
  }
 ],
 "metadata": {
  "kernelspec": {
   "display_name": "Python 3",
   "language": "python",
   "name": "python3"
  },
  "language_info": {
   "codemirror_mode": {
    "name": "ipython",
    "version": 3
   },
   "file_extension": ".py",
   "mimetype": "text/x-python",
   "name": "python",
   "nbconvert_exporter": "python",
   "pygments_lexer": "ipython3",
   "version": "3.8.1"
  }
 },
 "nbformat": 4,
 "nbformat_minor": 4
}
